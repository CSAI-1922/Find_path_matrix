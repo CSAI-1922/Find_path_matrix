{
 "cells": [
  {
   "cell_type": "markdown",
   "metadata": {
    "id": "DnOLkLhiPK27"
   },
   "source": [
    "## Demo vẽ bản đồ - đồ án môn cơ sở trí tuệ nhân tạo - ĐH KHTN TPHCM\n",
    "Trợ giảng: \n",
    "- Nguyễn Khánh Toàn - ktoan271199@gmail.com\n",
    "- Lê Minh Nhật - minhnhatvt2@gmail.com"
   ]
  },
  {
   "cell_type": "markdown",
   "metadata": {
    "id": "43mpK1RvaBWX"
   },
   "source": [
    "## Chuẩn bị file input"
   ]
  },
  {
   "cell_type": "code",
   "execution_count": 1,
   "metadata": {
    "ExecuteTime": {
     "end_time": "2021-11-10T01:43:26.207941Z",
     "start_time": "2021-11-10T01:43:26.190959Z"
    },
    "id": "wjRhsF8MY5EQ"
   },
   "outputs": [],
   "source": [
    "with open('maze_map.txt', 'w') as outfile:\n",
    "    outfile.write('0\\n')\n",
    "#     outfile.write('3 6 -3\\n')\n",
    "#     outfile.write('5 14 -1\\n')\n",
    "#     outfile.write('6 14 -1\\n')\n",
    "    outfile.write('xxxxxxxxxxxxxxxxxxxxxx\\n')\n",
    "    outfile.write('x   x   xx xx        x\\n')\n",
    "    outfile.write('x     x     xxxxxxxxxx\\n')\n",
    "    outfile.write('x x   +xx  xxxx xxx xx\\n')\n",
    "    outfile.write('  x   x x xx   xxxx  x\\n')\n",
    "    outfile.write('x          xx +xx  x x\\n')\n",
    "    outfile.write('xxxxxxx x      xx  x x\\n')\n",
    "    outfile.write('xxxxxxxxx  x x  xx   x\\n')\n",
    "    outfile.write('x          x x Sx x  x\\n')\n",
    "    outfile.write('xxxxx x  x x x     x x\\n')\n",
    "    outfile.write('xxxxxxxxxxxxxxxxxxxxxx')"
   ]
  },
  {
   "cell_type": "markdown",
   "metadata": {
    "id": "Fi9BxHocbeQX"
   },
   "source": [
    "## Các hàm bổ trợ"
   ]
  },
  {
   "cell_type": "code",
   "execution_count": 2,
   "metadata": {
    "ExecuteTime": {
     "end_time": "2021-11-10T01:43:27.264957Z",
     "start_time": "2021-11-10T01:43:26.211938Z"
    },
    "id": "YbO4E7PTforI"
   },
   "outputs": [],
   "source": [
    "import os\n",
    "import math\n",
    "import matplotlib.pyplot as plt"
   ]
  },
  {
   "cell_type": "code",
   "execution_count": 3,
   "metadata": {
    "ExecuteTime": {
     "end_time": "2021-11-10T01:43:27.325901Z",
     "start_time": "2021-11-10T01:43:27.268954Z"
    },
    "id": "u5ZHJ1oq8Ucm"
   },
   "outputs": [],
   "source": [
    "def visualize_maze(matrix, bonus, start, end, route=None):\n",
    "    \"\"\"\n",
    "    Args:\n",
    "      1. matrix: The matrix read from the input file,\n",
    "      2. bonus: The array of bonus points,\n",
    "      3. start, end: The starting and ending points,\n",
    "      4. route: The route from the starting point to the ending one, defined by an array of (x, y), e.g. route = [(1, 2), (1, 3), (1, 4)]\n",
    "    \"\"\"\n",
    "    #1. Define walls and array of direction based on the route\n",
    "    walls=[(i,j) for i in range(len(matrix)) for j in range(len(matrix[0])) if matrix[i][j]=='x']\n",
    "    \n",
    "    if route:\n",
    "        direction=[]\n",
    "        for i in range(1,len(route)):\n",
    "            if route[i][0]-route[i-1][0]>0:\n",
    "                direction.append('v') #^\n",
    "            elif route[i][0]-route[i-1][0]<0:\n",
    "                direction.append('^') #v        \n",
    "            elif route[i][1]-route[i-1][1]>0:\n",
    "                direction.append('>')\n",
    "            else:\n",
    "                direction.append('<')\n",
    "\n",
    "        direction.pop(0)\n",
    "\n",
    "    #2. Drawing the map\n",
    "    ax=plt.figure(dpi=100).add_subplot(111)\n",
    "\n",
    "    for i in ['top','bottom','right','left']:\n",
    "        ax.spines[i].set_visible(False)\n",
    "\n",
    "    plt.scatter([i[1] for i in walls],[-i[0] for i in walls],\n",
    "                marker='X',s=100,color='black')\n",
    "    \n",
    "    plt.scatter([i[1] for i in bonus],[-i[0] for i in bonus],\n",
    "                marker='P',s=100,color='green')\n",
    "\n",
    "    plt.scatter(start[1],-start[0],marker='*',\n",
    "                s=100,color='gold')\n",
    "\n",
    "    if route:\n",
    "        for i in range(len(route)-2):\n",
    "            plt.scatter(route[i+1][1],-route[i+1][0],\n",
    "                        marker=direction[i],color='silver')\n",
    "\n",
    "    plt.text(end[1],-end[0],'EXIT',color='red',\n",
    "         horizontalalignment='center',\n",
    "         verticalalignment='center')\n",
    "    plt.xticks([])\n",
    "    plt.yticks([])\n",
    "    plt.show()\n",
    "\n",
    "    print(f'Starting point (x, y) = {start[0], start[1]}')\n",
    "    print(f'Ending point (x, y) = {end[0], end[1]}')\n",
    "    \n",
    "    for _, point in enumerate(bonus):\n",
    "        print(f'Bonus point at position (x, y) = {point[0], point[1]} with point {point[2]}')\n"
   ]
  },
  {
   "cell_type": "code",
   "execution_count": 4,
   "metadata": {
    "ExecuteTime": {
     "end_time": "2021-11-10T01:43:27.341887Z",
     "start_time": "2021-11-10T01:43:27.329897Z"
    },
    "id": "yiy6K_hAgcF_"
   },
   "outputs": [],
   "source": [
    "def read_file(file_name: str = 'maze.txt'):\n",
    "    f=open(file_name,'r')\n",
    "    n_bonus_points = int(next(f)[:-1])\n",
    "    bonus_points = []\n",
    "    for i in range(n_bonus_points):\n",
    "        x, y, reward = map(int, next(f)[:-1].split(' '))\n",
    "        bonus_points.append((x, y, reward))\n",
    "\n",
    "    text=f.read()\n",
    "    matrix=[list(i) for i in text.splitlines()]\n",
    "    f.close()\n",
    "\n",
    "    return bonus_points, matrix"
   ]
  },
  {
   "cell_type": "markdown",
   "metadata": {
    "id": "49cRN0suaMRO"
   },
   "source": [
    "## Đọc file và vẽ bản đồ"
   ]
  },
  {
   "cell_type": "code",
   "execution_count": 5,
   "metadata": {
    "ExecuteTime": {
     "end_time": "2021-11-10T01:43:27.356872Z",
     "start_time": "2021-11-10T01:43:27.346883Z"
    },
    "id": "NGGqpmp_Wc8g"
   },
   "outputs": [],
   "source": [
    "bonus_points, matrix = read_file('maze_map.txt')"
   ]
  },
  {
   "cell_type": "code",
   "execution_count": 6,
   "metadata": {
    "ExecuteTime": {
     "end_time": "2021-11-10T01:43:27.372857Z",
     "start_time": "2021-11-10T01:43:27.360870Z"
    },
    "colab": {
     "base_uri": "https://localhost:8080/"
    },
    "id": "HCwjgf-VBx4o",
    "outputId": "f84e2b24-5223-42cc-9759-1f2e16545b1b"
   },
   "outputs": [
    {
     "name": "stdout",
     "output_type": "stream",
     "text": [
      "The height of the matrix: 11\n",
      "The width of the matrix: 22\n"
     ]
    }
   ],
   "source": [
    "print(f'The height of the matrix: {len(matrix)}')\n",
    "print(f'The width of the matrix: {len(matrix[0])}')"
   ]
  },
  {
   "cell_type": "code",
   "execution_count": 7,
   "metadata": {
    "ExecuteTime": {
     "end_time": "2021-11-10T01:43:27.388843Z",
     "start_time": "2021-11-10T01:43:27.375856Z"
    },
    "id": "UF3xiEwncYgX"
   },
   "outputs": [],
   "source": [
    "for i in range(len(matrix)):\n",
    "    for j in range(len(matrix[0])):\n",
    "        if matrix[i][j]=='S':\n",
    "            start=(i,j)\n",
    "\n",
    "        elif matrix[i][j]==' ':\n",
    "            if (i==0) or (i==len(matrix)-1) or (j==0) or (j==len(matrix[0])-1):\n",
    "                end=(i,j)\n",
    "                \n",
    "        else:\n",
    "            pass"
   ]
  },
  {
   "cell_type": "code",
   "execution_count": 8,
   "metadata": {
    "ExecuteTime": {
     "end_time": "2021-11-10T01:43:27.594653Z",
     "start_time": "2021-11-10T01:43:27.394838Z"
    },
    "colab": {
     "base_uri": "https://localhost:8080/",
     "height": 406
    },
    "id": "UXT5jZiWcYip",
    "outputId": "732d73e0-eb3f-467d-c7a3-cfc74c9deb4f",
    "scrolled": false
   },
   "outputs": [
    {
     "data": {
      "image/png": "[encoded data removed]",
      "text/plain": [
       "<Figure size 600x400 with 1 Axes>"
      ]
     },
     "metadata": {},
     "output_type": "display_data"
    },
    {
     "name": "stdout",
     "output_type": "stream",
     "text": [
      "Starting point (x, y) = (8, 15)\n",
      "Ending point (x, y) = (4, 0)\n"
     ]
    }
   ],
   "source": [
    "visualize_maze(matrix,bonus_points,start,end)"
   ]
  },
  {
   "cell_type": "markdown",
   "metadata": {},
   "source": [
    "# Using basic matrix "
   ]
  },
  {
   "cell_type": "markdown",
   "metadata": {},
   "source": [
    "### try to DFS -- Status: Complete"
   ]
  },
  {
   "cell_type": "code",
   "execution_count": 149,
   "metadata": {
    "ExecuteTime": {
     "end_time": "2021-11-05T13:47:13.098937Z",
     "start_time": "2021-11-05T13:47:13.076956Z"
    }
   },
   "outputs": [
    {
     "data": {
      "text/plain": [
       "'x'"
      ]
     },
     "execution_count": 149,
     "metadata": {},
     "output_type": "execute_result"
    }
   ],
   "source": [
    "start = (4,10)\n",
    "x = start[0]\n",
    "y = start[1]\n",
    "matrix[x][y]"
   ]
  },
  {
   "cell_type": "code",
   "execution_count": 150,
   "metadata": {
    "ExecuteTime": {
     "end_time": "2021-11-06T03:12:52.865817Z",
     "start_time": "2021-11-06T03:12:49.319133Z"
    },
    "scrolled": false
   },
   "outputs": [
    {
     "data": {
      "image/png": "[encoded data removed]",
      "text/plain": [
       "<Figure size 600x400 with 1 Axes>"
      ]
     },
     "metadata": {},
     "output_type": "display_data"
    },
    {
     "name": "stdout",
     "output_type": "stream",
     "text": [
      "Starting point (x, y) = (4, 10)\n",
      "Ending point (x, y) = (4, 0)\n"
     ]
    }
   ],
   "source": [
    "def dfs_search(matrix, start, end):    \n",
    "    row = len(matrix)\n",
    "    col = len(matrix[0])\n",
    "\n",
    "    x = start[0]\n",
    "    y = start[1]\n",
    "\n",
    "    Dir = [[-1, 0], [0, -1], [1, 0], [0, 1]]\n",
    "    path = []\n",
    "    stack = []\n",
    "    stack.append((x,y))\n",
    "\n",
    "    count = 1\n",
    "    while end not in stack:\n",
    "\n",
    "        #print()\n",
    "        #print(f'New while: {count}')\n",
    "        count +=1\n",
    "        #print(f'Stack: {stack}')\n",
    "        #print(f'path: {path}')\n",
    "        s = stack[-1]\n",
    "        if s not in path:\n",
    "            #print('Append path')\n",
    "            path.append(s)\n",
    "        #print(f'path: {path}')\n",
    "        #print(s)\n",
    "        for i in range(4) :\n",
    "            # using the direction array\n",
    "            a = s[0] + Dir[i][0]\n",
    "            b = s[1] + Dir[i][1]\n",
    "\n",
    "            # not blocked and valid\n",
    "            if(a >= 0 and b >= 0 and a < row and b < col and matrix[a][b] != 'x' and (a, b) not in path):\n",
    "                stack.append((a, b))\n",
    "                break\n",
    "            if(i == 3 ):\n",
    "                for j in range(4):\n",
    "                    a1 = s[0] + Dir[j][0] \n",
    "                    b1 = s[1] + Dir[j][1]\n",
    "                    #print((a1,b1))\n",
    "                    if (a1,b1) in stack:\n",
    "                        #print(f'Stack: {stack}')\n",
    "                        #print(f'Pop {(a1,b1)}')\n",
    "                        stack.pop()\n",
    "                        break\n",
    "    #             print('Pop')\n",
    "    #             stack.pop()\n",
    "    path.append(end)\n",
    "    return path\n",
    "visualize_maze(matrix,bonus_points,start,end, dfs_search(matrix, start, end))"
   ]
  },
  {
   "cell_type": "markdown",
   "metadata": {},
   "source": [
    "### Try to BFS -- Status: Complete\n",
    "- Tham khảo: https://www.youtube.com/watch?v=D14YK-0MtcQ -> In đường đi"
   ]
  },
  {
   "cell_type": "code",
   "execution_count": 10,
   "metadata": {
    "ExecuteTime": {
     "end_time": "2021-11-10T01:43:54.220157Z",
     "start_time": "2021-11-10T01:43:54.050319Z"
    }
   },
   "outputs": [
    {
     "data": {
      "image/png": "[encoded data removed]",
      "text/plain": [
       "<Figure size 600x400 with 1 Axes>"
      ]
     },
     "metadata": {},
     "output_type": "display_data"
    },
    {
     "name": "stdout",
     "output_type": "stream",
     "text": [
      "Starting point (x, y) = (4, 5)\n",
      "Ending point (x, y) = (4, 0)\n"
     ]
    }
   ],
   "source": [
    "from collections import deque\n",
    "def bfs_search(matrix, start, end):\n",
    "    row = len(matrix)\n",
    "    col = len(matrix[0])\n",
    "\n",
    "    visited = [[False for i in range(col)]for j in range(row)]\n",
    "    \n",
    "    x = start[0]\n",
    "    y = start[1]\n",
    "\n",
    "    Dir = [[-1, 0], [0, -1], [1, 0], [0, 1]]\n",
    "    #path = []\n",
    "    # Mark the source cell as visited\n",
    "    visited[x][y] = True\n",
    "    # Tao dictionary luu vi tri diem cha va diem con\n",
    "    bfs = {}\n",
    "    # Create a queue for BFS\n",
    "    q = deque()\n",
    "\n",
    "    q.append(start) #  Enqueue source cell\n",
    "\n",
    "    # Do a BFS starting from source cell\n",
    "    while q:\n",
    "        curr = q.popleft() # Dequeue the front cell\n",
    "        #path.append(curr)\n",
    "        # If we have reached the destination cell,\n",
    "        # we are done\n",
    "        if curr[0] == end[0] and curr[1] == end[1]:\n",
    "            break\n",
    "\n",
    "        # Otherwise enqueue its adjacent cells\n",
    "        for i in range(4):\n",
    "            a = curr[0] + Dir[i][0]\n",
    "            b = curr[1] + Dir[i][1]    \n",
    "        # if adjacent cell is valid, has path \n",
    "        # and not visited yet, enqueue it.\n",
    "            if (a >= 0 and b >= 0 and a < row and b < col and matrix[a][b] != 'x' and (a, b) and not visited[a][b]):\n",
    "                visited[a][b] = True\n",
    "                q.append((a, b))\n",
    "                bfs[(a,b)] = curr\n",
    "    p = {}\n",
    "    cell = end\n",
    "    while cell != start:\n",
    "        p[bfs[cell]] = cell \n",
    "        cell = bfs[cell]\n",
    "    final = list(p.values())\n",
    "    final.append(start)\n",
    "    finalPath = final[::-1]\n",
    "    return finalPath\n",
    "    \n",
    "visualize_maze(matrix,bonus_points,(4,5),end, bfs_search(matrix, (4,5), end))"
   ]
  },
  {
   "cell_type": "markdown",
   "metadata": {},
   "source": [
    "## Code tham khảo BFS"
   ]
  },
  {
   "cell_type": "code",
   "execution_count": 152,
   "metadata": {
    "ExecuteTime": {
     "end_time": "2021-11-06T02:39:59.850871Z",
     "start_time": "2021-11-06T02:39:59.818903Z"
    },
    "scrolled": false
   },
   "outputs": [],
   "source": []
  },
  {
   "cell_type": "markdown",
   "metadata": {},
   "source": [
    "### Try to Greedy Best First Search - Status: Complete(using shorted distance)"
   ]
  },
  {
   "cell_type": "code",
   "execution_count": 11,
   "metadata": {
    "ExecuteTime": {
     "end_time": "2021-11-10T01:44:42.063646Z",
     "start_time": "2021-11-10T01:44:41.900796Z"
    }
   },
   "outputs": [
    {
     "data": {
      "image/png": "[encoded data removed]",
      "text/plain": [
       "<Figure size 600x400 with 1 Axes>"
      ]
     },
     "metadata": {},
     "output_type": "display_data"
    },
    {
     "name": "stdout",
     "output_type": "stream",
     "text": [
      "Starting point (x, y) = (4, 5)\n",
      "Ending point (x, y) = (4, 0)\n"
     ]
    }
   ],
   "source": [
    "def GBFS_search(matrix, start, end): \n",
    "    row = len(matrix)\n",
    "    col = len(matrix[0])\n",
    "\n",
    "    visited = [[False for i in range(col)]for j in range(row)]\n",
    "\n",
    "    x = start[0]\n",
    "    y = start[1]\n",
    "\n",
    "    Dir = [[-1, 0], [0, -1], [1, 0], [0, 1]]\n",
    "    path = []\n",
    "    # Mark the source cell as visited\n",
    "    visited[x][y] = True\n",
    "\n",
    "    # Create a queue for BFS\n",
    "    q = deque()\n",
    "\n",
    "    q.append(start) #  Enqueue source cell\n",
    "\n",
    "    # Do a BFS starting from source cell\n",
    "    while q:\n",
    "        store_dist = {}\n",
    "        curr = q.popleft() # Dequeue the front cell\n",
    "        path.append(curr)\n",
    "        # If we have reached the destination cell,\n",
    "        # we are done\n",
    "        if curr[0] == end[0] and curr[1] == end[1]:\n",
    "            break\n",
    "\n",
    "        # Otherwise enqueue its adjacent cells\n",
    "        for i in range(4):\n",
    "            a = curr[0] + Dir[i][0]\n",
    "            b = curr[1] + Dir[i][1]    \n",
    "\n",
    "        # if adjacent cell is valid, has path \n",
    "        # and not visited yet, enqueue it.\n",
    "            if (a >= 0 and b >= 0 and a < row and b < col and matrix[a][b] != 'x' and (a, b) and not visited[a][b]):\n",
    "                #calculate distance from point current to end\n",
    "                dist = math.sqrt((a-end[0])**2 + (b-end[1])**2)\n",
    "                store_dist[(a, b)] = dist\n",
    "            #select point based on distance array\n",
    "            if i == 3:\n",
    "                if store_dist == {}:\n",
    "                    #if it doesn't quit traverse path to find a new way :v\n",
    "                    for point in reversed(path):\n",
    "                        for i in range(4):\n",
    "                            a = point[0] + Dir[i][0]\n",
    "                            b = point[1] + Dir[i][1]\n",
    "                            if (a >= 0 and b >= 0 and a < row and b < col and matrix[a][b] != 'x' and (a, b) and not visited[a][b]):\n",
    "                                dist = math.sqrt((a-end[0])**2 + (b-end[1])**2)\n",
    "                                store_dist[(a, b)] = dist\n",
    "    #                             bfs[(a, b)] = point\n",
    "                                break\n",
    "                store_dist = dict(sorted(store_dist.items(), key=lambda item: item[1]))\n",
    "                for key, val in store_dist.items():\n",
    "                    visited[key[0]][key[1]] = True\n",
    "                    q.append(key)\n",
    "                    break\n",
    "    return path\n",
    "visualize_maze(matrix,bonus_points,(4,5),end, GBFS_search(matrix, (4,5), end))"
   ]
  },
  {
   "cell_type": "markdown",
   "metadata": {},
   "source": [
    "### Try to A* - Status: Complete"
   ]
  },
  {
   "cell_type": "code",
   "execution_count": 154,
   "metadata": {},
   "outputs": [
    {
     "data": {
      "image/png": "[encoded data removed]",
      "text/plain": [
       "<Figure size 600x400 with 1 Axes>"
      ]
     },
     "metadata": {},
     "output_type": "display_data"
    },
    {
     "name": "stdout",
     "output_type": "stream",
     "text": [
      "Starting point (x, y) = (5, 2)\n",
      "Ending point (x, y) = (4, 0)\n"
     ]
    }
   ],
   "source": [
    "def Astar_search(matrix, start, end): \n",
    "    row = len(matrix)\n",
    "    col = len(matrix[0])\n",
    "    \n",
    "    real_distance = 0\n",
    "    visited = [[False for i in range(col)]for j in range(row)]\n",
    "\n",
    "    x = start[0]\n",
    "    y = start[1]\n",
    "\n",
    "    Dir = [[-1, 0], [0, -1], [1, 0], [0, 1]]\n",
    "    path = []\n",
    "    # Mark the source cell as visited\n",
    "    visited[x][y] = True\n",
    "\n",
    "    # Create a queue for BFS\n",
    "    q = deque()\n",
    "\n",
    "    q.append(start) #  Enqueue source cell\n",
    "\n",
    "    # Do a BFS starting from source cell\n",
    "    while q:\n",
    "        store_dist = {}\n",
    "        curr = q.popleft() # Dequeue the front cell\n",
    "        path.append(curr)\n",
    "        # If we have reached the destination cell,\n",
    "        # we are done\n",
    "        if curr[0] == end[0] and curr[1] == end[1]:\n",
    "            break\n",
    "\n",
    "        # Otherwise enqueue its adjacent cells\n",
    "        for i in range(4):\n",
    "            a = curr[0] + Dir[i][0]\n",
    "            b = curr[1] + Dir[i][1]    \n",
    "\n",
    "        # if adjacent cell is valid, has path \n",
    "        # and not visited yet, enqueue it.\n",
    "            if (a >= 0 and b >= 0 and a < row and b < col and matrix[a][b] != 'x' and (a, b) and not visited[a][b]):\n",
    "                #calculate distance from point current to end\n",
    "                dist = math.sqrt((a-end[0])**2 + (b-end[1])**2)\n",
    "                store_dist[(a, b)] = dist\n",
    "            #select point based on distance array\n",
    "            if i == 3:\n",
    "                if store_dist == {}:\n",
    "                    #if it doesn't quit traverse path to find a new way :v\n",
    "                    for point in reversed(path):\n",
    "                        for i in range(4):\n",
    "                            a = point[0] + Dir[i][0]\n",
    "                            b = point[1] + Dir[i][1]\n",
    "                            if (a >= 0 and b >= 0 and a < row and b < col and matrix[a][b] != 'x' and (a, b) and not visited[a][b]):\n",
    "                                dist = math.sqrt((a-end[0])**2 + (b-end[1])**2)\n",
    "                                store_dist[(a, b)] = dist\n",
    "                                \n",
    "                                break\n",
    "                store_dist = dict(sorted(store_dist.items(), key=lambda item: item[1]))\n",
    "                for key, val in store_dist.items():\n",
    "                    real_distance += val\n",
    "                    visited[key[0]][key[1]] = True\n",
    "                    q.append(key)\n",
    "                    break\n",
    "#     print('real_distance')\n",
    "    return path\n",
    "visualize_maze(matrix,bonus_points,start,end, GBFS_search(matrix, start, end))"
   ]
  },
  {
   "cell_type": "markdown",
   "metadata": {},
   "source": [
    "# Using bonus point matrix"
   ]
  },
  {
   "cell_type": "code",
   "execution_count": 155,
   "metadata": {},
   "outputs": [],
   "source": [
    "with open('maze_map(bonus).txt', 'w') as outfile:\n",
    "    outfile.write('3\\n')\n",
    "    outfile.write('3 6 -3\\n')\n",
    "    outfile.write('5 14 -1\\n')\n",
    "    outfile.write('6 14 -1\\n')\n",
    "    outfile.write('xxxxxxxxxxxxxxxxxxxxxx\\n')\n",
    "    outfile.write('x   x   xx xx        x\\n')\n",
    "    outfile.write('x     x     xxxxxxxxxx\\n')\n",
    "    outfile.write('x x   +xx  xxxx xxx xx\\n')\n",
    "    outfile.write('  x   x x xx   xxxx  x\\n')\n",
    "    outfile.write('x       S  xx +xx  x x\\n')\n",
    "    outfile.write('xxxxxxx x      xx  x x\\n')\n",
    "    outfile.write('xxxxxxxxx  x x  xx   x\\n')\n",
    "    outfile.write('x          x x  x x  x\\n')\n",
    "    outfile.write('xxxxx x  x x x     x x\\n')\n",
    "    outfile.write('xxxxxxxxxxxxxxxxxxxxxx')"
   ]
  },
  {
   "cell_type": "code",
   "execution_count": 156,
   "metadata": {},
   "outputs": [],
   "source": [
    "bonus_points, matrix = read_file('maze_map(bonus).txt')"
   ]
  },
  {
   "cell_type": "code",
   "execution_count": 157,
   "metadata": {},
   "outputs": [
    {
     "name": "stdout",
     "output_type": "stream",
     "text": [
      "The height of the matrix: 11\n",
      "The width of the matrix: 22\n"
     ]
    }
   ],
   "source": [
    "print(f'The height of the matrix: {len(matrix)}')\n",
    "print(f'The width of the matrix: {len(matrix[0])}')"
   ]
  },
  {
   "cell_type": "code",
   "execution_count": 158,
   "metadata": {},
   "outputs": [],
   "source": [
    "for i in range(len(matrix)):\n",
    "    for j in range(len(matrix[0])):\n",
    "        if matrix[i][j]=='S':\n",
    "            start=(i,j)\n",
    "\n",
    "        elif matrix[i][j]==' ':\n",
    "            if (i==0) or (i==len(matrix)-1) or (j==0) or (j==len(matrix[0])-1):\n",
    "                end=(i,j)\n",
    "                \n",
    "        else:\n",
    "            pass"
   ]
  },
  {
   "cell_type": "code",
   "execution_count": 159,
   "metadata": {},
   "outputs": [
    {
     "data": {
      "image/png": "[encoded data removed]",
      "text/plain": [
       "<Figure size 600x400 with 1 Axes>"
      ]
     },
     "metadata": {},
     "output_type": "display_data"
    },
    {
     "name": "stdout",
     "output_type": "stream",
     "text": [
      "Starting point (x, y) = (5, 8)\n",
      "Ending point (x, y) = (4, 0)\n",
      "Bonus point at position (x, y) = (3, 6) with point -3\n",
      "Bonus point at position (x, y) = (5, 14) with point -1\n",
      "Bonus point at position (x, y) = (6, 14) with point -1\n"
     ]
    }
   ],
   "source": [
    "visualize_maze(matrix, bonus_points, start, end)"
   ]
  },
  {
   "cell_type": "code",
   "execution_count": 160,
   "metadata": {},
   "outputs": [],
   "source": [
    "def init_weights(matrix):\n",
    "    weights = [[1 for i in range(col)]for j in range(row)]\n",
    "    for k in bonus_points:\n",
    "        weights[k[0]][k[1]] = k[2]\n",
    "    return weights"
   ]
  },
  {
   "cell_type": "code",
   "execution_count": 161,
   "metadata": {},
   "outputs": [
    {
     "data": {
      "text/plain": [
       "(5, 8)"
      ]
     },
     "execution_count": 161,
     "metadata": {},
     "output_type": "execute_result"
    }
   ],
   "source": [
    "weights = init_weights(matrix)\n",
    "start"
   ]
  },
  {
   "cell_type": "markdown",
   "metadata": {},
   "source": [
    "### Try to DFS - Status:\n",
    "Ưu tiên chọn đường đi có trọng số nhỏ nhất"
   ]
  },
  {
   "cell_type": "code",
   "execution_count": 162,
   "metadata": {},
   "outputs": [
    {
     "data": {
      "image/png": "[encoded data removed]",
      "text/plain": [
       "<Figure size 600x400 with 1 Axes>"
      ]
     },
     "metadata": {},
     "output_type": "display_data"
    },
    {
     "name": "stdout",
     "output_type": "stream",
     "text": [
      "Starting point (x, y) = (5, 8)\n",
      "Ending point (x, y) = (4, 0)\n",
      "Bonus point at position (x, y) = (3, 6) with point -3\n",
      "Bonus point at position (x, y) = (5, 14) with point -1\n",
      "Bonus point at position (x, y) = (6, 14) with point -1\n"
     ]
    }
   ],
   "source": [
    "row = len(matrix)\n",
    "col = len(matrix[0])\n",
    "\n",
    "x = start[0]\n",
    "y = start[1]\n",
    "\n",
    "Dir = [[-1, 0], [0, -1], [1, 0], [0, 1]]\n",
    "path = []\n",
    "stack = []\n",
    "stack.append((x,y))\n",
    "\n",
    "count = 1\n",
    "while end not in stack:\n",
    "    \n",
    "    store_dist = {}\n",
    "    #print()\n",
    "    #print(f'New while: {count}')\n",
    "    count +=1\n",
    "    #print(f'Stack: {stack}')\n",
    "    #print(f'path: {path}')\n",
    "    s = stack[-1]\n",
    "    if s not in path:\n",
    "        #print('Append path')\n",
    "        path.append(s)\n",
    "    #print(f'path: {path}')\n",
    "    #print(s)\n",
    "    for i in range(4) :\n",
    "        # using the direction array\n",
    "        a = s[0] + Dir[i][0]\n",
    "        b = s[1] + Dir[i][1]\n",
    "        \n",
    "        # not blocked and valid\n",
    "        if(a >= 0 and b >= 0 and a < row and b < col and matrix[a][b] != 'x' and (a, b) not in path):\n",
    "            stack.append((a, b))\n",
    "            break\n",
    "#             store_dist[(a, b)] = weights[a][b]\n",
    "#             dict(sorted(store_dist.items(), key=lambda item: item[1]))\n",
    "#             if i == 3:\n",
    "#                 for key, val in store_dist.items():\n",
    "#                     stack.append(key)\n",
    "#                     break\n",
    "            \n",
    "        if(i == 3 ):\n",
    "            for j in range(4):\n",
    "                a1 = s[0] + Dir[j][0] \n",
    "                b1 = s[1] + Dir[j][1]\n",
    "                #print((a1,b1))\n",
    "                if (a1,b1) in stack:\n",
    "                    #print(f'Stack: {stack}')\n",
    "                    #print(f'Pop {(a1,b1)}')\n",
    "                    stack.pop()\n",
    "                    break\n",
    "#             print('Pop')\n",
    "#             stack.pop()\n",
    "path.append(end)\n",
    "visualize_maze(matrix,bonus_points,start,end, path)"
   ]
  },
  {
   "cell_type": "code",
   "execution_count": 163,
   "metadata": {},
   "outputs": [
    {
     "data": {
      "text/plain": [
       "[(3, 6, -3), (5, 14, -1), (6, 14, -1)]"
      ]
     },
     "execution_count": 163,
     "metadata": {},
     "output_type": "execute_result"
    }
   ],
   "source": [
    "bonus_points"
   ]
  },
  {
   "cell_type": "markdown",
   "metadata": {},
   "source": [
    "## Try to BFS - Status:\n",
    "Ưu tiên đỉnh có trọng số nhỏ nhất\n"
   ]
  },
  {
   "cell_type": "code",
   "execution_count": 164,
   "metadata": {},
   "outputs": [
    {
     "name": "stdout",
     "output_type": "stream",
     "text": [
      "{(5, 7): 1, (5, 9): 1}\n",
      "{(4, 7): 1, (5, 6): 1, (6, 7): 1}\n",
      "{(4, 9): 1, (6, 9): 1, (5, 10): 1}\n",
      "{}\n",
      "{(5, 5): 1}\n",
      "{}\n",
      "{(3, 9): 1}\n",
      "{(7, 9): 1, (6, 10): 1}\n",
      "{}\n",
      "{(4, 5): 1, (5, 4): 1}\n",
      "{(2, 9): 1, (3, 10): 1}\n",
      "{(8, 9): 1, (7, 10): 1}\n",
      "{(6, 11): 1}\n",
      "{(3, 5): 1, (4, 4): 1}\n",
      "{(5, 3): 1}\n",
      "{(2, 8): 1, (2, 10): 1}\n",
      "{}\n",
      "{(8, 8): 1, (8, 10): 1}\n",
      "{}\n",
      "{(6, 12): 1}\n",
      "{(2, 5): 1, (3, 4): 1, (3, 6): -3}\n",
      "{(4, 3): 1}\n",
      "{(5, 2): 1}\n",
      "{(2, 7): 1}\n",
      "{(1, 10): 1, (2, 11): 1}\n",
      "{(8, 7): 1, (9, 8): 1}\n",
      "{(9, 10): 1}\n",
      "{(7, 12): 1, (6, 13): 1}\n",
      "{(1, 5): 1, (2, 4): 1}\n",
      "{(3, 3): 1}\n",
      "{}\n",
      "{}\n",
      "{(5, 1): 1}\n",
      "{(1, 7): 1}\n",
      "{}\n",
      "{}\n",
      "{(8, 6): 1, (9, 7): 1}\n",
      "{}\n",
      "{}\n",
      "{(8, 12): 1}\n",
      "{(5, 13): 1, (6, 14): -1}\n",
      "{(1, 6): 1}\n",
      "{(2, 3): 1}\n",
      "{}\n",
      "{(4, 1): 1}\n",
      "{}\n",
      "{(8, 5): 1}\n",
      "{}\n",
      "{(9, 12): 1}\n",
      "{(4, 13): 1, (5, 14): -1}\n",
      "{(7, 14): 1}\n",
      "{}\n",
      "{(1, 3): 1, (2, 2): 1}\n",
      "{(3, 1): 1, (4, 0): 1}\n",
      "{(8, 4): 1, (9, 5): 1}\n",
      "{}\n",
      "{(4, 12): 1, (4, 14): 1}\n",
      "{}\n",
      "{(8, 14): 1, (7, 15): 1}\n",
      "{(1, 2): 1}\n",
      "{(2, 1): 1}\n",
      "{}\n",
      "[(5, 8), (5, 7), (5, 6), (5, 5), (5, 4), (5, 3), (5, 2), (5, 1), (4, 1), (4, 0)]\n"
     ]
    },
    {
     "data": {
      "image/png": "[encoded data removed]",
      "text/plain": [
       "<Figure size 600x400 with 1 Axes>"
      ]
     },
     "metadata": {},
     "output_type": "display_data"
    },
    {
     "name": "stdout",
     "output_type": "stream",
     "text": [
      "Starting point (x, y) = (5, 8)\n",
      "Ending point (x, y) = (4, 0)\n",
      "Bonus point at position (x, y) = (3, 6) with point -3\n",
      "Bonus point at position (x, y) = (5, 14) with point -1\n",
      "Bonus point at position (x, y) = (6, 14) with point -1\n"
     ]
    }
   ],
   "source": [
    "from collections import deque\n",
    "\n",
    "row = len(matrix)\n",
    "col = len(matrix[0])\n",
    "\n",
    "visited = [[False for i in range(col)]for j in range(row)]\n",
    "\n",
    "x = start[0]\n",
    "y = start[1]\n",
    "\n",
    "Dir = [[-1, 0], [0, -1], [1, 0], [0, 1]]\n",
    "#path = []\n",
    "# Mark the source cell as visited\n",
    "visited[x][y] = True\n",
    "# Tao dictionary luu vi tri diem cha va diem con\n",
    "bfs = {}\n",
    "# Create a queue for BFS\n",
    "q = deque()\n",
    "     \n",
    "q.append(start) #  Enqueue source cell\n",
    "\n",
    "# Do a BFS starting from source cell\n",
    "while q:\n",
    "    store_dist = {}\n",
    "    curr = q.popleft() # Dequeue the front cell\n",
    "    #path.append(curr)\n",
    "    # If we have reached the destination cell,\n",
    "    # we are done\n",
    "    if curr[0] == end[0] and curr[1] == end[1]:\n",
    "        break\n",
    "    # Otherwise enqueue its adjacent cells\n",
    "    for i in range(4):\n",
    "        a = curr[0] + Dir[i][0]\n",
    "        b = curr[1] + Dir[i][1]    \n",
    "    # if adjacent cell is valid, has path \n",
    "    # and not visited yet, enqueue it.\n",
    "        if (a >= 0 and b >= 0 and a < row and b < col and matrix[a][b] != 'x' and (a, b) and not visited[a][b]):\n",
    "            visited[a][b] = True\n",
    "            store_dist[(a, b)] = weights[a][b]\n",
    "#             q.append((a, b))\n",
    "            bfs[(a,b)] = curr\n",
    "        if i == 3:\n",
    "            print(store_dist)\n",
    "            dict(sorted(store_dist.items(), key=lambda item: item[1]))\n",
    "            for key, val in store_dist.items():\n",
    "                q.append(key)\n",
    "            \n",
    "        \n",
    "p = {}\n",
    "cell = end\n",
    "while cell != start:\n",
    "    p[bfs[cell]] = cell \n",
    "    cell = bfs[cell]\n",
    "final = list(p.values())\n",
    "final.append(start)\n",
    "finalPath = final[::-1]\n",
    "#print(bfs)\n",
    "#print(p)\n",
    "#print(finalPath)\n",
    "print(finalPath)\n",
    "visualize_maze(matrix,bonus_points,start,end, finalPath)"
   ]
  },
  {
   "cell_type": "markdown",
   "metadata": {},
   "source": [
    "## Try to GBFS\n",
    "Ưu tiên trọng số"
   ]
  },
  {
   "cell_type": "code",
   "execution_count": 12,
   "metadata": {
    "ExecuteTime": {
     "end_time": "2021-11-10T01:50:00.110471Z",
     "start_time": "2021-11-10T01:49:59.787771Z"
    }
   },
   "outputs": [
    {
     "ename": "NameError",
     "evalue": "name 'weights' is not defined",
     "output_type": "error",
     "traceback": [
      "\u001b[1;31m---------------------------------------------------------------------------\u001b[0m",
      "\u001b[1;31mNameError\u001b[0m                                 Traceback (most recent call last)",
      "\u001b[1;32m<ipython-input-12-813d49295ce2>\u001b[0m in \u001b[0;36m<module>\u001b[1;34m\u001b[0m\n\u001b[0;32m     38\u001b[0m         \u001b[1;32mif\u001b[0m \u001b[1;33m(\u001b[0m\u001b[0ma\u001b[0m \u001b[1;33m>=\u001b[0m \u001b[1;36m0\u001b[0m \u001b[1;32mand\u001b[0m \u001b[0mb\u001b[0m \u001b[1;33m>=\u001b[0m \u001b[1;36m0\u001b[0m \u001b[1;32mand\u001b[0m \u001b[0ma\u001b[0m \u001b[1;33m<\u001b[0m \u001b[0mrow\u001b[0m \u001b[1;32mand\u001b[0m \u001b[0mb\u001b[0m \u001b[1;33m<\u001b[0m \u001b[0mcol\u001b[0m \u001b[1;32mand\u001b[0m \u001b[0mmatrix\u001b[0m\u001b[1;33m[\u001b[0m\u001b[0ma\u001b[0m\u001b[1;33m]\u001b[0m\u001b[1;33m[\u001b[0m\u001b[0mb\u001b[0m\u001b[1;33m]\u001b[0m \u001b[1;33m!=\u001b[0m \u001b[1;34m'x'\u001b[0m \u001b[1;32mand\u001b[0m \u001b[1;33m(\u001b[0m\u001b[0ma\u001b[0m\u001b[1;33m,\u001b[0m \u001b[0mb\u001b[0m\u001b[1;33m)\u001b[0m \u001b[1;32mand\u001b[0m \u001b[1;32mnot\u001b[0m \u001b[0mvisited\u001b[0m\u001b[1;33m[\u001b[0m\u001b[0ma\u001b[0m\u001b[1;33m]\u001b[0m\u001b[1;33m[\u001b[0m\u001b[0mb\u001b[0m\u001b[1;33m]\u001b[0m\u001b[1;33m)\u001b[0m\u001b[1;33m:\u001b[0m\u001b[1;33m\u001b[0m\u001b[1;33m\u001b[0m\u001b[0m\n\u001b[0;32m     39\u001b[0m             \u001b[0mdist\u001b[0m \u001b[1;33m=\u001b[0m \u001b[0mmath\u001b[0m\u001b[1;33m.\u001b[0m\u001b[0msqrt\u001b[0m\u001b[1;33m(\u001b[0m\u001b[1;33m(\u001b[0m\u001b[0ma\u001b[0m\u001b[1;33m-\u001b[0m\u001b[0mend\u001b[0m\u001b[1;33m[\u001b[0m\u001b[1;36m0\u001b[0m\u001b[1;33m]\u001b[0m\u001b[1;33m)\u001b[0m\u001b[1;33m**\u001b[0m\u001b[1;36m2\u001b[0m \u001b[1;33m+\u001b[0m \u001b[1;33m(\u001b[0m\u001b[0mb\u001b[0m\u001b[1;33m-\u001b[0m\u001b[0mend\u001b[0m\u001b[1;33m[\u001b[0m\u001b[1;36m1\u001b[0m\u001b[1;33m]\u001b[0m\u001b[1;33m)\u001b[0m\u001b[1;33m**\u001b[0m\u001b[1;36m2\u001b[0m\u001b[1;33m)\u001b[0m\u001b[1;33m\u001b[0m\u001b[1;33m\u001b[0m\u001b[0m\n\u001b[1;32m---> 40\u001b[1;33m             \u001b[0mstore_dist\u001b[0m\u001b[1;33m[\u001b[0m\u001b[1;33m(\u001b[0m\u001b[0ma\u001b[0m\u001b[1;33m,\u001b[0m \u001b[0mb\u001b[0m\u001b[1;33m)\u001b[0m\u001b[1;33m]\u001b[0m \u001b[1;33m=\u001b[0m \u001b[0mweights\u001b[0m\u001b[1;33m[\u001b[0m\u001b[0ma\u001b[0m\u001b[1;33m]\u001b[0m\u001b[1;33m[\u001b[0m\u001b[0mb\u001b[0m\u001b[1;33m]\u001b[0m \u001b[1;33m+\u001b[0m \u001b[0mdist\u001b[0m\u001b[1;33m\u001b[0m\u001b[1;33m\u001b[0m\u001b[0m\n\u001b[0m\u001b[0;32m     41\u001b[0m             \u001b[0mbfs\u001b[0m\u001b[1;33m[\u001b[0m\u001b[1;33m(\u001b[0m\u001b[0ma\u001b[0m\u001b[1;33m,\u001b[0m \u001b[0mb\u001b[0m\u001b[1;33m)\u001b[0m\u001b[1;33m]\u001b[0m \u001b[1;33m=\u001b[0m \u001b[0mcurr\u001b[0m\u001b[1;33m\u001b[0m\u001b[1;33m\u001b[0m\u001b[0m\n\u001b[0;32m     42\u001b[0m             \u001b[1;31m#select point based on distance array\u001b[0m\u001b[1;33m\u001b[0m\u001b[1;33m\u001b[0m\u001b[1;33m\u001b[0m\u001b[0m\n",
      "\u001b[1;31mNameError\u001b[0m: name 'weights' is not defined"
     ]
    }
   ],
   "source": [
    "row = len(matrix)\n",
    "col = len(matrix[0])\n",
    "\n",
    "visited = [[False for i in range(col)]for j in range(row)]\n",
    "\n",
    "start = (8, 15)\n",
    "x = start[0]\n",
    "y = start[1]\n",
    "\n",
    "Dir = [[-1, 0], [0, -1], [1, 0], [0, 1]]\n",
    "bfs = {}\n",
    "path = []\n",
    "# Mark the source cell as visited\n",
    "visited[x][y] = True\n",
    "     \n",
    "# Create a queue for BFS\n",
    "q = deque()\n",
    "     \n",
    "q.append(start) #  Enqueue source cell\n",
    "     \n",
    "# Do a BFS starting from source cell\n",
    "while q:\n",
    "    store_dist = {}\n",
    "    curr = q.popleft() # Dequeue the front cell\n",
    "    path.append(curr)\n",
    "    # If we have reached the destination cell,\n",
    "    # we are done\n",
    "    if curr[0] == end[0] and curr[1] == end[1]:\n",
    "        break\n",
    "    \n",
    "    # Otherwise enqueue its adjacent cells\n",
    "    for i in range(4):\n",
    "        a = curr[0] + Dir[i][0]\n",
    "        b = curr[1] + Dir[i][1]    \n",
    "        \n",
    "    # if adjacent cell is valid, has path \n",
    "    # and not visited yet, enqueue it.\n",
    "        if (a >= 0 and b >= 0 and a < row and b < col and matrix[a][b] != 'x' and (a, b) and not visited[a][b]):\n",
    "            dist = math.sqrt((a-end[0])**2 + (b-end[1])**2)\n",
    "            store_dist[(a, b)] = weights[a][b] + dist\n",
    "            bfs[(a, b)] = curr\n",
    "            #select point based on distance array\n",
    "        if i == 3:\n",
    "            if store_dist == {}:\n",
    "                #if it doesn't quit traverse path to find a new way :v\n",
    "                for point in reversed(path):\n",
    "                    for i in range(4):\n",
    "                        a = point[0] + Dir[i][0]\n",
    "                        b = point[1] + Dir[i][1]\n",
    "                        if (a >= 0 and b >= 0 and a < row and b < col and matrix[a][b] != 'x' and (a, b) and not visited[a][b]):\n",
    "                            dist = math.sqrt((a-end[0])**2 + (b-end[1])**2)\n",
    "                            store_dist[(a, b)] = weights[a][b] + dist\n",
    "#                             bfs[(a, b)] = point\n",
    "#                             break\n",
    "                \n",
    "            store_dist = dict(sorted(store_dist.items(), key=lambda item: item[1]))\n",
    "            print(store_dist)\n",
    "            for key, val in store_dist.items():\n",
    "                visited[key[0]][key[1]] = True\n",
    "                q.append(key)\n",
    "                break\n",
    "p = {}\n",
    "cell = end\n",
    "while cell != start:\n",
    "    p[bfs[cell]] = cell \n",
    "    cell = bfs[cell]\n",
    "final = list(p.values())\n",
    "final.append(start)\n",
    "finalPath = final[::-1]\n",
    "visualize_maze(matrix,bonus_points,start,end, path)"
   ]
  },
  {
   "cell_type": "markdown",
   "metadata": {},
   "source": [
    "## Sửa code GBFS có điểm thưởng : "
   ]
  },
  {
   "cell_type": "code",
   "execution_count": null,
   "metadata": {},
   "outputs": [],
   "source": [
    "row = len(matrix)\n",
    "col = len(matrix[0])\n",
    "\n",
    "visited = [[False for i in range(col)]for j in range(row)]\n",
    "\n",
    "# start = (5, 6)\n",
    "start = (8,15)\n",
    "x = start[0]\n",
    "y = start[1]\n",
    "\n",
    "\n",
    "Dir = [[-1, 0], [0, -1], [1, 0], [0, 1]]\n",
    "bfs = {}\n",
    "bfs_length = {}\n",
    "path = []\n",
    "# Mark the source cell as visited\n",
    "visited[x][y] = True\n",
    "     \n",
    "# Create a queue for BFS\n",
    "q = deque()\n",
    "     \n",
    "q.append(start) #  Enqueue source cell\n",
    "     \n",
    "# Do a BFS starting from source cell\n",
    "while q:\n",
    "    store_dist = {}\n",
    "    curr = q.popleft() # Dequeue the front cell\n",
    "    path.append(curr)\n",
    "    # If we have reached the destination cell,\n",
    "    # we are done\n",
    "    if curr[0] == end[0] and curr[1] == end[1]:\n",
    "        break\n",
    "    print(curr)\n",
    "    # Otherwise enqueue its adjacent cells\n",
    "    for i in range(4):\n",
    "        a = curr[0] + Dir[i][0]\n",
    "        b = curr[1] + Dir[i][1]    \n",
    "        \n",
    "    # if adjacent cell is valid, has path \n",
    "    # and not visited yet, enqueue it.\n",
    "        if (a >= 0 and b >= 0 and a < row and b < col and matrix[a][b] != 'x' and (a, b) and not visited[a][b]):\n",
    "            dist = math.sqrt((a-end[0])**2 + (b-end[1])**2)\n",
    "            store_dist[(a, b)] = weights[a][b] + dist\n",
    "            bfs[(a, b)] = curr\n",
    "            #select point based on distance array\n",
    "        if i == 3:\n",
    "            if store_dist == {}:\n",
    "                #if it doesn't quit traverse path to find a new way :v\n",
    "                for point in reversed(path):\n",
    "                    for i in range(4):\n",
    "                        a = point[0] + Dir[i][0]\n",
    "                        b = point[1] + Dir[i][1]\n",
    "                        if (a >= 0 and b >= 0 and a < row and b < col and matrix[a][b] != 'x' and (a, b) and not visited[a][b]):\n",
    "                            dist = math.sqrt((a-end[0])**2 + (b-end[1])**2)\n",
    "                            store_dist[(a, b)] = weights[a][b] + dist\n",
    "                \n",
    "            store_dist = dict(sorted(store_dist.items(), key=lambda item: item[1]))\n",
    "            print(store_dist)\n",
    "            if len(set(store_dist.values())) == 1:\n",
    "                for key, val in store_dist.items():\n",
    "                    bfs_length[key] = len(bfs_search(matrix,key,end))\n",
    "                    bfs_length = dict(sorted(bfs_length.items(), key=lambda item: item[1]))\n",
    "                    print(bfs_length)\n",
    "                for k,length in bfs_length.items():\n",
    "                    visited[k[0]][k[1]] = True\n",
    "                    q.append(k)\n",
    "                    break\n",
    "            else:\n",
    "                for key, val in store_dist.items():\n",
    "                    visited[key[0]][key[1]] = True\n",
    "                    q.append(key)\n",
    "                    break\n",
    "            print()\n",
    "p = {}\n",
    "cell = end\n",
    "while cell != start:\n",
    "    p[bfs[cell]] = cell \n",
    "    cell = bfs[cell]\n",
    "final = list(p.values())\n",
    "final.append(start)\n",
    "finalPath = final[::-1]\n",
    "visualize_maze(matrix,bonus_points,start,end, path)"
   ]
  },
  {
   "cell_type": "markdown",
   "metadata": {},
   "source": [
    "## Try to A* - Status: "
   ]
  },
  {
   "cell_type": "markdown",
   "metadata": {},
   "source": [
    "### Sửa đổi trọng số"
   ]
  },
  {
   "cell_type": "code",
   "execution_count": 129,
   "metadata": {},
   "outputs": [
    {
     "name": "stdout",
     "output_type": "stream",
     "text": [
      "{(2, 5): 2, (3, 4): 2, (4, 5): 2}\n",
      "[(3, 5)]\n",
      "{(1, 5): 2, (2, 4): 2}\n",
      "[(3, 5), (2, 5)]\n",
      "{(1, 6): 2}\n",
      "[(3, 5), (2, 5), (1, 5)]\n",
      "{(1, 7): 2}\n",
      "[(3, 5), (2, 5), (1, 5), (1, 6)]\n",
      "{(2, 7): 2}\n",
      "[(3, 5), (2, 5), (1, 5), (1, 6), (1, 7)]\n",
      "{(2, 8): 2}\n",
      "[(3, 5), (2, 5), (1, 5), (1, 6), (1, 7), (2, 7)]\n",
      "{(2, 9): 2}\n",
      "[(3, 5), (2, 5), (1, 5), (1, 6), (1, 7), (2, 7), (2, 8)]\n",
      "{(3, 9): 2, (2, 10): 2}\n",
      "[(3, 5), (2, 5), (1, 5), (1, 6), (1, 7), (2, 7), (2, 8), (2, 9)]\n",
      "{(3, 10): 2}\n",
      "[(3, 5), (2, 5), (1, 5), (1, 6), (1, 7), (2, 7), (2, 8), (2, 9), (3, 9)]\n",
      "{(2, 10): 2}\n",
      "[(3, 5), (2, 5), (1, 5), (1, 6), (1, 7), (2, 7), (2, 8), (2, 9), (3, 9), (3, 10)]\n",
      "{(1, 10): 2, (2, 11): 2}\n",
      "[(3, 5), (2, 5), (1, 5), (1, 6), (1, 7), (2, 7), (2, 8), (2, 9), (3, 9), (3, 10), (2, 10)]\n",
      "{(1, 11): 2}\n",
      "[(3, 5), (2, 5), (1, 5), (1, 6), (1, 7), (2, 7), (2, 8), (2, 9), (3, 9), (3, 10), (2, 10), (1, 10)]\n",
      "{(2, 11): 2, (1, 12): 2}\n",
      "[(3, 5), (2, 5), (1, 5), (1, 6), (1, 7), (2, 7), (2, 8), (2, 9), (3, 9), (3, 10), (2, 10), (1, 10), (1, 11)]\n",
      "{}\n",
      "[(3, 5), (2, 5), (1, 5), (1, 6), (1, 7), (2, 7), (2, 8), (2, 9), (3, 9), (3, 10), (2, 10), (1, 10), (1, 11), (2, 11)]\n",
      "{(1, 13): 2}\n",
      "[(3, 5), (2, 5), (1, 5), (1, 6), (1, 7), (2, 7), (2, 8), (2, 9), (3, 9), (3, 10), (2, 10), (1, 10), (1, 11), (2, 11), (1, 12)]\n",
      "{(1, 14): 2}\n",
      "[(3, 5), (2, 5), (1, 5), (1, 6), (1, 7), (2, 7), (2, 8), (2, 9), (3, 9), (3, 10), (2, 10), (1, 10), (1, 11), (2, 11), (1, 12), (1, 13)]\n",
      "{(1, 15): 2}\n",
      "[(3, 5), (2, 5), (1, 5), (1, 6), (1, 7), (2, 7), (2, 8), (2, 9), (3, 9), (3, 10), (2, 10), (1, 10), (1, 11), (2, 11), (1, 12), (1, 13), (1, 14)]\n",
      "{(2, 15): 2, (1, 16): 2}\n",
      "[(3, 5), (2, 5), (1, 5), (1, 6), (1, 7), (2, 7), (2, 8), (2, 9), (3, 9), (3, 10), (2, 10), (1, 10), (1, 11), (2, 11), (1, 12), (1, 13), (1, 14), (1, 15)]\n",
      "{(3, 15): 2, (2, 16): 2}\n",
      "[(3, 5), (2, 5), (1, 5), (1, 6), (1, 7), (2, 7), (2, 8), (2, 9), (3, 9), (3, 10), (2, 10), (1, 10), (1, 11), (2, 11), (1, 12), (1, 13), (1, 14), (1, 15), (2, 15)]\n",
      "{}\n",
      "[(3, 5), (2, 5), (1, 5), (1, 6), (1, 7), (2, 7), (2, 8), (2, 9), (3, 9), (3, 10), (2, 10), (1, 10), (1, 11), (2, 11), (1, 12), (1, 13), (1, 14), (1, 15), (2, 15), (3, 15)]\n",
      "{(1, 16): 2, (2, 17): 2}\n",
      "[(3, 5), (2, 5), (1, 5), (1, 6), (1, 7), (2, 7), (2, 8), (2, 9), (3, 9), (3, 10), (2, 10), (1, 10), (1, 11), (2, 11), (1, 12), (1, 13), (1, 14), (1, 15), (2, 15), (3, 15), (2, 16)]\n",
      "{(1, 17): 2}\n",
      "[(3, 5), (2, 5), (1, 5), (1, 6), (1, 7), (2, 7), (2, 8), (2, 9), (3, 9), (3, 10), (2, 10), (1, 10), (1, 11), (2, 11), (1, 12), (1, 13), (1, 14), (1, 15), (2, 15), (3, 15), (2, 16), (1, 16)]\n",
      "{(2, 17): 2, (1, 18): 2}\n",
      "[(3, 5), (2, 5), (1, 5), (1, 6), (1, 7), (2, 7), (2, 8), (2, 9), (3, 9), (3, 10), (2, 10), (1, 10), (1, 11), (2, 11), (1, 12), (1, 13), (1, 14), (1, 15), (2, 15), (3, 15), (2, 16), (1, 16), (1, 17)]\n",
      "{(3, 17): 2}\n",
      "[(3, 5), (2, 5), (1, 5), (1, 6), (1, 7), (2, 7), (2, 8), (2, 9), (3, 9), (3, 10), (2, 10), (1, 10), (1, 11), (2, 11), (1, 12), (1, 13), (1, 14), (1, 15), (2, 15), (3, 15), (2, 16), (1, 16), (1, 17), (2, 17)]\n",
      "{(4, 17): 2}\n",
      "[(3, 5), (2, 5), (1, 5), (1, 6), (1, 7), (2, 7), (2, 8), (2, 9), (3, 9), (3, 10), (2, 10), (1, 10), (1, 11), (2, 11), (1, 12), (1, 13), (1, 14), (1, 15), (2, 15), (3, 15), (2, 16), (1, 16), (1, 17), (2, 17), (3, 17)]\n",
      "{(5, 17): 2, (4, 18): 2}\n",
      "[(3, 5), (2, 5), (1, 5), (1, 6), (1, 7), (2, 7), (2, 8), (2, 9), (3, 9), (3, 10), (2, 10), (1, 10), (1, 11), (2, 11), (1, 12), (1, 13), (1, 14), (1, 15), (2, 15), (3, 15), (2, 16), (1, 16), (1, 17), (2, 17), (3, 17), (4, 17)]\n",
      "{(6, 17): 2, (5, 18): 2}\n",
      "[(3, 5), (2, 5), (1, 5), (1, 6), (1, 7), (2, 7), (2, 8), (2, 9), (3, 9), (3, 10), (2, 10), (1, 10), (1, 11), (2, 11), (1, 12), (1, 13), (1, 14), (1, 15), (2, 15), (3, 15), (2, 16), (1, 16), (1, 17), (2, 17), (3, 17), (4, 17), (5, 17)]\n",
      "{(6, 18): 2}\n",
      "[(3, 5), (2, 5), (1, 5), (1, 6), (1, 7), (2, 7), (2, 8), (2, 9), (3, 9), (3, 10), (2, 10), (1, 10), (1, 11), (2, 11), (1, 12), (1, 13), (1, 14), (1, 15), (2, 15), (3, 15), (2, 16), (1, 16), (1, 17), (2, 17), (3, 17), (4, 17), (5, 17), (6, 17)]\n",
      "{(5, 18): 2}\n",
      "[(3, 5), (2, 5), (1, 5), (1, 6), (1, 7), (2, 7), (2, 8), (2, 9), (3, 9), (3, 10), (2, 10), (1, 10), (1, 11), (2, 11), (1, 12), (1, 13), (1, 14), (1, 15), (2, 15), (3, 15), (2, 16), (1, 16), (1, 17), (2, 17), (3, 17), (4, 17), (5, 17), (6, 17), (6, 18)]\n",
      "{(4, 18): 2}\n",
      "[(3, 5), (2, 5), (1, 5), (1, 6), (1, 7), (2, 7), (2, 8), (2, 9), (3, 9), (3, 10), (2, 10), (1, 10), (1, 11), (2, 11), (1, 12), (1, 13), (1, 14), (1, 15), (2, 15), (3, 15), (2, 16), (1, 16), (1, 17), (2, 17), (3, 17), (4, 17), (5, 17), (6, 17), (6, 18), (5, 18)]\n",
      "{(4, 19): 2}\n",
      "[(3, 5), (2, 5), (1, 5), (1, 6), (1, 7), (2, 7), (2, 8), (2, 9), (3, 9), (3, 10), (2, 10), (1, 10), (1, 11), (2, 11), (1, 12), (1, 13), (1, 14), (1, 15), (2, 15), (3, 15), (2, 16), (1, 16), (1, 17), (2, 17), (3, 17), (4, 17), (5, 17), (6, 17), (6, 18), (5, 18), (4, 18)]\n",
      "{(3, 19): 2, (4, 20): 2}\n",
      "[(3, 5), (2, 5), (1, 5), (1, 6), (1, 7), (2, 7), (2, 8), (2, 9), (3, 9), (3, 10), (2, 10), (1, 10), (1, 11), (2, 11), (1, 12), (1, 13), (1, 14), (1, 15), (2, 15), (3, 15), (2, 16), (1, 16), (1, 17), (2, 17), (3, 17), (4, 17), (5, 17), (6, 17), (6, 18), (5, 18), (4, 18), (4, 19)]\n",
      "{}\n",
      "[(3, 5), (2, 5), (1, 5), (1, 6), (1, 7), (2, 7), (2, 8), (2, 9), (3, 9), (3, 10), (2, 10), (1, 10), (1, 11), (2, 11), (1, 12), (1, 13), (1, 14), (1, 15), (2, 15), (3, 15), (2, 16), (1, 16), (1, 17), (2, 17), (3, 17), (4, 17), (5, 17), (6, 17), (6, 18), (5, 18), (4, 18), (4, 19), (3, 19)]\n",
      "{(5, 20): 2}\n",
      "[(3, 5), (2, 5), (1, 5), (1, 6), (1, 7), (2, 7), (2, 8), (2, 9), (3, 9), (3, 10), (2, 10), (1, 10), (1, 11), (2, 11), (1, 12), (1, 13), (1, 14), (1, 15), (2, 15), (3, 15), (2, 16), (1, 16), (1, 17), (2, 17), (3, 17), (4, 17), (5, 17), (6, 17), (6, 18), (5, 18), (4, 18), (4, 19), (3, 19), (4, 20)]\n",
      "{(6, 20): 2}\n",
      "[(3, 5), (2, 5), (1, 5), (1, 6), (1, 7), (2, 7), (2, 8), (2, 9), (3, 9), (3, 10), (2, 10), (1, 10), (1, 11), (2, 11), (1, 12), (1, 13), (1, 14), (1, 15), (2, 15), (3, 15), (2, 16), (1, 16), (1, 17), (2, 17), (3, 17), (4, 17), (5, 17), (6, 17), (6, 18), (5, 18), (4, 18), (4, 19), (3, 19), (4, 20), (5, 20)]\n",
      "{(7, 20): 2}\n",
      "[(3, 5), (2, 5), (1, 5), (1, 6), (1, 7), (2, 7), (2, 8), (2, 9), (3, 9), (3, 10), (2, 10), (1, 10), (1, 11), (2, 11), (1, 12), (1, 13), (1, 14), (1, 15), (2, 15), (3, 15), (2, 16), (1, 16), (1, 17), (2, 17), (3, 17), (4, 17), (5, 17), (6, 17), (6, 18), (5, 18), (4, 18), (4, 19), (3, 19), (4, 20), (5, 20), (6, 20)]\n",
      "{(7, 19): 2, (8, 20): 2, (7, 21): 2}\n",
      "[(3, 5), (2, 5), (1, 5), (1, 6), (1, 7), (2, 7), (2, 8), (2, 9), (3, 9), (3, 10), (2, 10), (1, 10), (1, 11), (2, 11), (1, 12), (1, 13), (1, 14), (1, 15), (2, 15), (3, 15), (2, 16), (1, 16), (1, 17), (2, 17), (3, 17), (4, 17), (5, 17), (6, 17), (6, 18), (5, 18), (4, 18), (4, 19), (3, 19), (4, 20), (5, 20), (6, 20), (7, 20)]\n",
      "{(8, 19): 2}\n",
      "[(3, 5), (2, 5), (1, 5), (1, 6), (1, 7), (2, 7), (2, 8), (2, 9), (3, 9), (3, 10), (2, 10), (1, 10), (1, 11), (2, 11), (1, 12), (1, 13), (1, 14), (1, 15), (2, 15), (3, 15), (2, 16), (1, 16), (1, 17), (2, 17), (3, 17), (4, 17), (5, 17), (6, 17), (6, 18), (5, 18), (4, 18), (4, 19), (3, 19), (4, 20), (5, 20), (6, 20), (7, 20), (7, 19)]\n",
      "{(8, 20): 2}\n",
      "[(3, 5), (2, 5), (1, 5), (1, 6), (1, 7), (2, 7), (2, 8), (2, 9), (3, 9), (3, 10), (2, 10), (1, 10), (1, 11), (2, 11), (1, 12), (1, 13), (1, 14), (1, 15), (2, 15), (3, 15), (2, 16), (1, 16), (1, 17), (2, 17), (3, 17), (4, 17), (5, 17), (6, 17), (6, 18), (5, 18), (4, 18), (4, 19), (3, 19), (4, 20), (5, 20), (6, 20), (7, 20), (7, 19), (8, 19)]\n",
      "{(9, 20): 2}\n",
      "[(3, 5), (2, 5), (1, 5), (1, 6), (1, 7), (2, 7), (2, 8), (2, 9), (3, 9), (3, 10), (2, 10), (1, 10), (1, 11), (2, 11), (1, 12), (1, 13), (1, 14), (1, 15), (2, 15), (3, 15), (2, 16), (1, 16), (1, 17), (2, 17), (3, 17), (4, 17), (5, 17), (6, 17), (6, 18), (5, 18), (4, 18), (4, 19), (3, 19), (4, 20), (5, 20), (6, 20), (7, 20), (7, 19), (8, 19), (8, 20)]\n",
      "{}\n",
      "[(3, 5), (2, 5), (1, 5), (1, 6), (1, 7), (2, 7), (2, 8), (2, 9), (3, 9), (3, 10), (2, 10), (1, 10), (1, 11), (2, 11), (1, 12), (1, 13), (1, 14), (1, 15), (2, 15), (3, 15), (2, 16), (1, 16), (1, 17), (2, 17), (3, 17), (4, 17), (5, 17), (6, 17), (6, 18), (5, 18), (4, 18), (4, 19), (3, 19), (4, 20), (5, 20), (6, 20), (7, 20), (7, 19), (8, 19), (8, 20), (9, 20)]\n"
     ]
    },
    {
     "data": {
      "image/png": "[encoded data removed]",
      "text/plain": [
       "<Figure size 600x400 with 1 Axes>"
      ]
     },
     "metadata": {},
     "output_type": "display_data"
    },
    {
     "name": "stdout",
     "output_type": "stream",
     "text": [
      "Starting point (x, y) = (3, 5)\n",
      "Ending point (x, y) = (7, 21)\n",
      "Bonus point at position (x, y) = (3, 6) with point -3\n",
      "Bonus point at position (x, y) = (5, 14) with point -1\n",
      "Bonus point at position (x, y) = (6, 14) with point -1\n"
     ]
    }
   ],
   "source": [
    "row = len(matrix)\n",
    "col = len(matrix[0])\n",
    "\n",
    "visited = [[False for i in range(col)]for j in range(row)]\n",
    "\n",
    "x = start[0]\n",
    "y = start[1]\n",
    "\n",
    "Dir = [[-1, 0], [0, -1], [1, 0], [0, 1]]\n",
    "bfs = {}\n",
    "path = []\n",
    "# Mark the source cell as visited\n",
    "visited[x][y] = True\n",
    "     \n",
    "# Create a queue for BFS\n",
    "q = deque()\n",
    "     \n",
    "q.append(start) #  Enqueue source cell\n",
    "     \n",
    "# Do a BFS starting from source cell\n",
    "while q:\n",
    "    store_dist = {}\n",
    "    curr = q.popleft() # Dequeue the front cell\n",
    "    path.append(curr)\n",
    "    # If we have reached the destination cell,\n",
    "    # we are done\n",
    "    if curr[0] == end[0] and curr[1] == end[1]:\n",
    "        break\n",
    "    \n",
    "    # Otherwise enqueue its adjacent cells\n",
    "    for i in range(4):\n",
    "        a = curr[0] + Dir[i][0]\n",
    "        b = curr[1] + Dir[i][1]    \n",
    "        \n",
    "    # if adjacent cell is valid, has path \n",
    "    # and not visited yet, enqueue it.\n",
    "        if (a >= 0 and b >= 0 and a < row and b < col and matrix[a][b] != 'x' and (a, b) and not visited[a][b]):\n",
    "            store_dist[(a, b)] = weights[a][b] + weights[curr[0]][curr[1]]\n",
    "            bfs[(a, b)] = curr\n",
    "            #select point based on distance array\n",
    "        if i == 3:\n",
    "            print(store_dist)\n",
    "            if store_dist == {}:\n",
    "                #if it doesn't quit traverse path to find a new way :v\n",
    "                for point in reversed(path):\n",
    "                    for i in range(4):\n",
    "                        a = point[0] + Dir[i][0]\n",
    "                        b = point[1] + Dir[i][1]\n",
    "                        if (a >= 0 and b >= 0 and a < row and b < col and matrix[a][b] != 'x' and (a, b) and not visited[a][b]):\n",
    "                            store_dist[(a, b)] = weights[a][b] + weights[curr[0]][curr[1]]\n",
    "                            bfs[(a, b)] = point\n",
    "                            break\n",
    "                \n",
    "            store_dist = dict(sorted(store_dist.items(), key=lambda item: item[1]))\n",
    "            for key, val in store_dist.items():\n",
    "                visited[key[0]][key[1]] = True\n",
    "                q.append(key)\n",
    "                break\n",
    "    print(path)\n",
    "p = {}\n",
    "cell = end\n",
    "while cell != start:\n",
    "    p[bfs[cell]] = cell \n",
    "    cell = bfs[cell]\n",
    "final = list(p.values())\n",
    "final.append(start)\n",
    "finalPath = final[::-1]\n",
    "visualize_maze(matrix,bonus_points,start,end, finalPath)"
   ]
  },
  {
   "cell_type": "markdown",
   "metadata": {},
   "source": [
    "## Create file 5 for basic matrix"
   ]
  },
  {
   "cell_type": "code",
   "execution_count": 130,
   "metadata": {},
   "outputs": [],
   "source": [
    "def get_infor_from_matrix(matrix='maze_map.txt'):\n",
    "    bonus_points, matrix = read_file('maze_map.txt')\n",
    "    start = 0\n",
    "    end = 0\n",
    "    for i in range(len(matrix)):\n",
    "        for j in range(len(matrix[0])):\n",
    "            if matrix[i][j]=='S':\n",
    "                start=(i,j)\n",
    "\n",
    "            elif matrix[i][j]==' ':\n",
    "                if (i==0) or (i==len(matrix)-1) or (j==0) or (j==len(matrix[0])-1):\n",
    "                    end=(i,j)\n",
    "\n",
    "            else:\n",
    "                pass\n",
    "    return [bonus_points, matrix, start, end]"
   ]
  },
  {
   "cell_type": "code",
   "execution_count": 131,
   "metadata": {},
   "outputs": [],
   "source": [
    "#map 1\n",
    "with open('maze_map.txt', 'w') as outfile:\n",
    "    outfile.write('0\\n')\n",
    "#     outfile.write('3 6 -3\\n')\n",
    "#     outfile.write('5 14 -1\\n')\n",
    "#     outfile.write('6 14 -1\\n')\n",
    "    outfile.write('xxxxxxxxxxxxxxxxxxxxxxxxxxxxxxxxxxx\\n')\n",
    "    outfile.write('x   x   xx xx        xx  xxx     xx\\n')\n",
    "    outfile.write('x     x     xxxxxx    xxx        xx\\n')\n",
    "    outfile.write('x x   +xx  xxxx xxx x           xxx\\n')\n",
    "    outfile.write('  x   x x xx   xxxx  xx x     xxxxx\\n')\n",
    "    outfile.write('x          xx +xx  x x xxxxxxxxxxxx\\n')\n",
    "    outfile.write('xxxxxxx x      xx  x xxxxx      xxx\\n')\n",
    "    outfile.write('xxxxxxxxx  x x  xx   xxx          x\\n')\n",
    "    outfile.write('x          x x  x x  xxxxxxxxxxxxxx\\n')\n",
    "    outfile.write('xxxxx x  x x x     x xxxxxxxxxxxxxx\\n')\n",
    "    outfile.write('xxxxxxxxxxxxxxxx               xxxx\\n')\n",
    "    outfile.write('xx     xxxx            xxxxx     xx\\n')\n",
    "    outfile.write('xxxx      xxxxxxxxxxxxxxxxx      xx\\n')\n",
    "    outfile.write('xS                     xxx     xxxx\\n')\n",
    "    outfile.write('xxxxxxx            xx      xxxxxxxx\\n')\n",
    "    outfile.write('xxxxxxxxxxxxxxxxxxxxxxxxxxxxxxxxxxx')"
   ]
  },
  {
   "cell_type": "code",
   "execution_count": 132,
   "metadata": {},
   "outputs": [
    {
     "data": {
      "image/png": "[encoded data removed]",
      "text/plain": [
       "<Figure size 600x400 with 1 Axes>"
      ]
     },
     "metadata": {},
     "output_type": "display_data"
    },
    {
     "name": "stdout",
     "output_type": "stream",
     "text": [
      "Starting point (x, y) = (13, 1)\n",
      "Ending point (x, y) = (4, 0)\n"
     ]
    }
   ],
   "source": [
    "matrix_1 = get_infor_from_matrix('maze_map.txt')\n",
    "matrix = matrix_1[1]\n",
    "start = matrix_1[2]\n",
    "end = matrix_1[3]\n",
    "visualize_maze(matrix_1[1],matrix_1[0],matrix_1[2],matrix_1[3])"
   ]
  },
  {
   "cell_type": "code",
   "execution_count": 133,
   "metadata": {},
   "outputs": [
    {
     "name": "stdout",
     "output_type": "stream",
     "text": [
      "The height of the matrix: 16\n",
      "The width of the matrix: 35\n"
     ]
    }
   ],
   "source": [
    "print(f'The height of the matrix: {len(matrix_1[1])}')\n",
    "print(f'The width of the matrix: {len(matrix_1[1][0])}')"
   ]
  },
  {
   "cell_type": "code",
   "execution_count": 134,
   "metadata": {},
   "outputs": [
    {
     "data": {
      "image/png": "[encoded data removed]",
      "text/plain": [
       "<Figure size 600x400 with 1 Axes>"
      ]
     },
     "metadata": {},
     "output_type": "display_data"
    },
    {
     "name": "stdout",
     "output_type": "stream",
     "text": [
      "Starting point (x, y) = (13, 1)\n",
      "Ending point (x, y) = (4, 0)\n"
     ]
    }
   ],
   "source": [
    "# using dfs \n",
    "path = dfs_search(matrix, start, end)\n",
    "visualize_maze(matrix_1[1],matrix_1[0],matrix_1[2],matrix_1[3], path)"
   ]
  },
  {
   "cell_type": "code",
   "execution_count": 135,
   "metadata": {},
   "outputs": [
    {
     "data": {
      "image/png": "[encoded data removed]",
      "text/plain": [
       "<Figure size 600x400 with 1 Axes>"
      ]
     },
     "metadata": {},
     "output_type": "display_data"
    },
    {
     "name": "stdout",
     "output_type": "stream",
     "text": [
      "Starting point (x, y) = (13, 1)\n",
      "Ending point (x, y) = (4, 0)\n"
     ]
    }
   ],
   "source": [
    "# using bfs\n",
    "path = bfs_search(matrix, start, end)\n",
    "visualize_maze(matrix_1[1],matrix_1[0],matrix_1[2],matrix_1[3], path)"
   ]
  },
  {
   "cell_type": "code",
   "execution_count": 136,
   "metadata": {},
   "outputs": [
    {
     "data": {
      "image/png": "[encoded data removed]",
      "text/plain": [
       "<Figure size 600x400 with 1 Axes>"
      ]
     },
     "metadata": {},
     "output_type": "display_data"
    },
    {
     "name": "stdout",
     "output_type": "stream",
     "text": [
      "Starting point (x, y) = (13, 1)\n",
      "Ending point (x, y) = (4, 0)\n"
     ]
    }
   ],
   "source": [
    "# using GBFS\n",
    "path = GBFS_search(matrix, start, end)\n",
    "visualize_maze(matrix_1[1],matrix_1[0],matrix_1[2],matrix_1[3], path)"
   ]
  },
  {
   "cell_type": "code",
   "execution_count": 137,
   "metadata": {},
   "outputs": [
    {
     "data": {
      "image/png": "[encoded data removed]",
      "text/plain": [
       "<Figure size 600x400 with 1 Axes>"
      ]
     },
     "metadata": {},
     "output_type": "display_data"
    },
    {
     "name": "stdout",
     "output_type": "stream",
     "text": [
      "Starting point (x, y) = (13, 1)\n",
      "Ending point (x, y) = (4, 0)\n"
     ]
    }
   ],
   "source": [
    "# using A*\n",
    "path = Astar_search(matrix, start, end)\n",
    "visualize_maze(matrix_1[1],matrix_1[0],matrix_1[2],matrix_1[3], path)"
   ]
  },
  {
   "cell_type": "code",
   "execution_count": null,
   "metadata": {},
   "outputs": [],
   "source": []
  },
  {
   "cell_type": "code",
   "execution_count": 138,
   "metadata": {},
   "outputs": [],
   "source": [
    "#map 2\n",
    "with open('maze_map.txt', 'w') as outfile:\n",
    "    outfile.write('0\\n')\n",
    "#     outfile.write('3 6 -3\\n')\n",
    "#     outfile.write('5 14 -1\\n')\n",
    "#     outfile.write('6 14 -1\\n')\n",
    "    outfile.write('xxxxxxxxxxxxxxxxxxxxxx\\n')\n",
    "    outfile.write('x   x   xx           x\\n')\n",
    "    outfile.write('x     x     xxx   xxxx\\n')\n",
    "    outfile.write('x x   xxx  xxxx x x xx\\n')\n",
    "    outfile.write('x x   xxxxxxxxxxx    x\\n')\n",
    "    outfile.write('x          xx xxx  x x\\n')\n",
    "    outfile.write('xx xx x x      xx  x x\\n')\n",
    "    outfile.write('x       xxxxxxxxxxx   \\n')\n",
    "    outfile.write('x  xx     Sx x xx x  x\\n')\n",
    "    outfile.write('xx  x x  x x x     x x\\n')\n",
    "    outfile.write('xxxxxxxxxxxxxxxxxxxxxx')"
   ]
  },
  {
   "cell_type": "markdown",
   "metadata": {},
   "source": [
    "refactor function get information from matrix"
   ]
  },
  {
   "cell_type": "code",
   "execution_count": null,
   "metadata": {
    "ExecuteTime": {
     "end_time": "2021-11-05T23:36:19.654597Z",
     "start_time": "2021-11-05T23:36:19.647603Z"
    },
    "id": "NGGqpmp_Wc8g"
   },
   "outputs": [],
   "source": []
  },
  {
   "cell_type": "code",
   "execution_count": 139,
   "metadata": {
    "ExecuteTime": {
     "end_time": "2021-11-05T23:36:28.999179Z",
     "start_time": "2021-11-05T23:36:28.817349Z"
    },
    "colab": {
     "base_uri": "https://localhost:8080/",
     "height": 406
    },
    "id": "UXT5jZiWcYip",
    "outputId": "732d73e0-eb3f-467d-c7a3-cfc74c9deb4f",
    "scrolled": false
   },
   "outputs": [
    {
     "data": {
      "image/png": "[encoded data removed]",
      "text/plain": [
       "<Figure size 600x400 with 1 Axes>"
      ]
     },
     "metadata": {},
     "output_type": "display_data"
    },
    {
     "name": "stdout",
     "output_type": "stream",
     "text": [
      "Starting point (x, y) = (8, 10)\n",
      "Ending point (x, y) = (7, 21)\n"
     ]
    }
   ],
   "source": [
    "matrix_2 = get_infor_from_matrix('maze_map.txt')\n",
    "matrix = matrix_2[1]\n",
    "start = matrix_2[2]\n",
    "end = matrix_2[3]\n",
    "visualize_maze(matrix_2[1],matrix_2[0],matrix_2[2],matrix_2[3])"
   ]
  },
  {
   "cell_type": "code",
   "execution_count": 140,
   "metadata": {
    "scrolled": true
   },
   "outputs": [
    {
     "name": "stdout",
     "output_type": "stream",
     "text": [
      "52\n"
     ]
    },
    {
     "ename": "KeyboardInterrupt",
     "evalue": "",
     "output_type": "error",
     "traceback": [
      "\u001b[0;31m---------------------------------------------------------------------------\u001b[0m",
      "\u001b[0;31mKeyboardInterrupt\u001b[0m                         Traceback (most recent call last)",
      "\u001b[0;32m/tmp/ipykernel_165/63234199.py\u001b[0m in \u001b[0;36m<module>\u001b[0;34m\u001b[0m\n\u001b[1;32m      2\u001b[0m \u001b[0mpath\u001b[0m \u001b[0;34m=\u001b[0m \u001b[0mdfs_search\u001b[0m\u001b[0;34m(\u001b[0m\u001b[0mmatrix\u001b[0m\u001b[0;34m,\u001b[0m \u001b[0mstart\u001b[0m\u001b[0;34m,\u001b[0m \u001b[0mend\u001b[0m\u001b[0;34m)\u001b[0m\u001b[0;34m\u001b[0m\u001b[0;34m\u001b[0m\u001b[0m\n\u001b[1;32m      3\u001b[0m \u001b[0mprint\u001b[0m\u001b[0;34m(\u001b[0m\u001b[0mlen\u001b[0m\u001b[0;34m(\u001b[0m\u001b[0mpath\u001b[0m\u001b[0;34m)\u001b[0m\u001b[0;34m)\u001b[0m\u001b[0;34m\u001b[0m\u001b[0;34m\u001b[0m\u001b[0m\n\u001b[0;32m----> 4\u001b[0;31m \u001b[0mvisualize_maze\u001b[0m\u001b[0;34m(\u001b[0m\u001b[0mmatrix_2\u001b[0m\u001b[0;34m[\u001b[0m\u001b[0;36m1\u001b[0m\u001b[0;34m]\u001b[0m\u001b[0;34m,\u001b[0m\u001b[0mmatrix_2\u001b[0m\u001b[0;34m[\u001b[0m\u001b[0;36m0\u001b[0m\u001b[0;34m]\u001b[0m\u001b[0;34m,\u001b[0m\u001b[0mmatrix_2\u001b[0m\u001b[0;34m[\u001b[0m\u001b[0;36m2\u001b[0m\u001b[0;34m]\u001b[0m\u001b[0;34m,\u001b[0m\u001b[0mmatrix_2\u001b[0m\u001b[0;34m[\u001b[0m\u001b[0;36m3\u001b[0m\u001b[0;34m]\u001b[0m\u001b[0;34m,\u001b[0m \u001b[0mpath\u001b[0m\u001b[0;34m)\u001b[0m\u001b[0;34m\u001b[0m\u001b[0;34m\u001b[0m\u001b[0m\n\u001b[0m",
      "\u001b[0;32m/tmp/ipykernel_165/1903109135.py\u001b[0m in \u001b[0;36mvisualize_maze\u001b[0;34m(matrix, bonus, start, end, route)\u001b[0m\n\u001b[1;32m     41\u001b[0m     \u001b[0;32mif\u001b[0m \u001b[0mroute\u001b[0m\u001b[0;34m:\u001b[0m\u001b[0;34m\u001b[0m\u001b[0;34m\u001b[0m\u001b[0m\n\u001b[1;32m     42\u001b[0m         \u001b[0;32mfor\u001b[0m \u001b[0mi\u001b[0m \u001b[0;32min\u001b[0m \u001b[0mrange\u001b[0m\u001b[0;34m(\u001b[0m\u001b[0mlen\u001b[0m\u001b[0;34m(\u001b[0m\u001b[0mroute\u001b[0m\u001b[0;34m)\u001b[0m\u001b[0;34m-\u001b[0m\u001b[0;36m2\u001b[0m\u001b[0;34m)\u001b[0m\u001b[0;34m:\u001b[0m\u001b[0;34m\u001b[0m\u001b[0;34m\u001b[0m\u001b[0m\n\u001b[0;32m---> 43\u001b[0;31m             plt.scatter(route[i+1][1],-route[i+1][0],\n\u001b[0m\u001b[1;32m     44\u001b[0m                         marker=direction[i],color='silver')\n\u001b[1;32m     45\u001b[0m \u001b[0;34m\u001b[0m\u001b[0m\n",
      "\u001b[0;32m~/.local/lib/python3.8/site-packages/matplotlib/pyplot.py\u001b[0m in \u001b[0;36mscatter\u001b[0;34m(x, y, s, c, marker, cmap, norm, vmin, vmax, alpha, linewidths, edgecolors, plotnonfinite, data, **kwargs)\u001b[0m\n\u001b[1;32m   3066\u001b[0m         \u001b[0mvmin\u001b[0m\u001b[0;34m=\u001b[0m\u001b[0;32mNone\u001b[0m\u001b[0;34m,\u001b[0m \u001b[0mvmax\u001b[0m\u001b[0;34m=\u001b[0m\u001b[0;32mNone\u001b[0m\u001b[0;34m,\u001b[0m \u001b[0malpha\u001b[0m\u001b[0;34m=\u001b[0m\u001b[0;32mNone\u001b[0m\u001b[0;34m,\u001b[0m \u001b[0mlinewidths\u001b[0m\u001b[0;34m=\u001b[0m\u001b[0;32mNone\u001b[0m\u001b[0;34m,\u001b[0m \u001b[0;34m*\u001b[0m\u001b[0;34m,\u001b[0m\u001b[0;34m\u001b[0m\u001b[0;34m\u001b[0m\u001b[0m\n\u001b[1;32m   3067\u001b[0m         edgecolors=None, plotnonfinite=False, data=None, **kwargs):\n\u001b[0;32m-> 3068\u001b[0;31m     __ret = gca().scatter(\n\u001b[0m\u001b[1;32m   3069\u001b[0m         \u001b[0mx\u001b[0m\u001b[0;34m,\u001b[0m \u001b[0my\u001b[0m\u001b[0;34m,\u001b[0m \u001b[0ms\u001b[0m\u001b[0;34m=\u001b[0m\u001b[0ms\u001b[0m\u001b[0;34m,\u001b[0m \u001b[0mc\u001b[0m\u001b[0;34m=\u001b[0m\u001b[0mc\u001b[0m\u001b[0;34m,\u001b[0m \u001b[0mmarker\u001b[0m\u001b[0;34m=\u001b[0m\u001b[0mmarker\u001b[0m\u001b[0;34m,\u001b[0m \u001b[0mcmap\u001b[0m\u001b[0;34m=\u001b[0m\u001b[0mcmap\u001b[0m\u001b[0;34m,\u001b[0m \u001b[0mnorm\u001b[0m\u001b[0;34m=\u001b[0m\u001b[0mnorm\u001b[0m\u001b[0;34m,\u001b[0m\u001b[0;34m\u001b[0m\u001b[0;34m\u001b[0m\u001b[0m\n\u001b[1;32m   3070\u001b[0m         \u001b[0mvmin\u001b[0m\u001b[0;34m=\u001b[0m\u001b[0mvmin\u001b[0m\u001b[0;34m,\u001b[0m \u001b[0mvmax\u001b[0m\u001b[0;34m=\u001b[0m\u001b[0mvmax\u001b[0m\u001b[0;34m,\u001b[0m \u001b[0malpha\u001b[0m\u001b[0;34m=\u001b[0m\u001b[0malpha\u001b[0m\u001b[0;34m,\u001b[0m \u001b[0mlinewidths\u001b[0m\u001b[0;34m=\u001b[0m\u001b[0mlinewidths\u001b[0m\u001b[0;34m,\u001b[0m\u001b[0;34m\u001b[0m\u001b[0;34m\u001b[0m\u001b[0m\n",
      "\u001b[0;32m~/.local/lib/python3.8/site-packages/matplotlib/__init__.py\u001b[0m in \u001b[0;36minner\u001b[0;34m(ax, data, *args, **kwargs)\u001b[0m\n\u001b[1;32m   1359\u001b[0m     \u001b[0;32mdef\u001b[0m \u001b[0minner\u001b[0m\u001b[0;34m(\u001b[0m\u001b[0max\u001b[0m\u001b[0;34m,\u001b[0m \u001b[0;34m*\u001b[0m\u001b[0margs\u001b[0m\u001b[0;34m,\u001b[0m \u001b[0mdata\u001b[0m\u001b[0;34m=\u001b[0m\u001b[0;32mNone\u001b[0m\u001b[0;34m,\u001b[0m \u001b[0;34m**\u001b[0m\u001b[0mkwargs\u001b[0m\u001b[0;34m)\u001b[0m\u001b[0;34m:\u001b[0m\u001b[0;34m\u001b[0m\u001b[0;34m\u001b[0m\u001b[0m\n\u001b[1;32m   1360\u001b[0m         \u001b[0;32mif\u001b[0m \u001b[0mdata\u001b[0m \u001b[0;32mis\u001b[0m \u001b[0;32mNone\u001b[0m\u001b[0;34m:\u001b[0m\u001b[0;34m\u001b[0m\u001b[0;34m\u001b[0m\u001b[0m\n\u001b[0;32m-> 1361\u001b[0;31m             \u001b[0;32mreturn\u001b[0m \u001b[0mfunc\u001b[0m\u001b[0;34m(\u001b[0m\u001b[0max\u001b[0m\u001b[0;34m,\u001b[0m \u001b[0;34m*\u001b[0m\u001b[0mmap\u001b[0m\u001b[0;34m(\u001b[0m\u001b[0msanitize_sequence\u001b[0m\u001b[0;34m,\u001b[0m \u001b[0margs\u001b[0m\u001b[0;34m)\u001b[0m\u001b[0;34m,\u001b[0m \u001b[0;34m**\u001b[0m\u001b[0mkwargs\u001b[0m\u001b[0;34m)\u001b[0m\u001b[0;34m\u001b[0m\u001b[0;34m\u001b[0m\u001b[0m\n\u001b[0m\u001b[1;32m   1362\u001b[0m \u001b[0;34m\u001b[0m\u001b[0m\n\u001b[1;32m   1363\u001b[0m         \u001b[0mbound\u001b[0m \u001b[0;34m=\u001b[0m \u001b[0mnew_sig\u001b[0m\u001b[0;34m.\u001b[0m\u001b[0mbind\u001b[0m\u001b[0;34m(\u001b[0m\u001b[0max\u001b[0m\u001b[0;34m,\u001b[0m \u001b[0;34m*\u001b[0m\u001b[0margs\u001b[0m\u001b[0;34m,\u001b[0m \u001b[0;34m**\u001b[0m\u001b[0mkwargs\u001b[0m\u001b[0;34m)\u001b[0m\u001b[0;34m\u001b[0m\u001b[0;34m\u001b[0m\u001b[0m\n",
      "\u001b[0;32m~/.local/lib/python3.8/site-packages/matplotlib/axes/_axes.py\u001b[0m in \u001b[0;36mscatter\u001b[0;34m(self, x, y, s, c, marker, cmap, norm, vmin, vmax, alpha, linewidths, edgecolors, plotnonfinite, **kwargs)\u001b[0m\n\u001b[1;32m   4585\u001b[0m         \u001b[0moffsets\u001b[0m \u001b[0;34m=\u001b[0m \u001b[0mnp\u001b[0m\u001b[0;34m.\u001b[0m\u001b[0mma\u001b[0m\u001b[0;34m.\u001b[0m\u001b[0mcolumn_stack\u001b[0m\u001b[0;34m(\u001b[0m\u001b[0;34m[\u001b[0m\u001b[0mx\u001b[0m\u001b[0;34m,\u001b[0m \u001b[0my\u001b[0m\u001b[0;34m]\u001b[0m\u001b[0;34m)\u001b[0m\u001b[0;34m\u001b[0m\u001b[0;34m\u001b[0m\u001b[0m\n\u001b[1;32m   4586\u001b[0m \u001b[0;34m\u001b[0m\u001b[0m\n\u001b[0;32m-> 4587\u001b[0;31m         collection = mcoll.PathCollection(\n\u001b[0m\u001b[1;32m   4588\u001b[0m                 \u001b[0;34m(\u001b[0m\u001b[0mpath\u001b[0m\u001b[0;34m,\u001b[0m\u001b[0;34m)\u001b[0m\u001b[0;34m,\u001b[0m \u001b[0mscales\u001b[0m\u001b[0;34m,\u001b[0m\u001b[0;34m\u001b[0m\u001b[0;34m\u001b[0m\u001b[0m\n\u001b[1;32m   4589\u001b[0m                 \u001b[0mfacecolors\u001b[0m\u001b[0;34m=\u001b[0m\u001b[0mcolors\u001b[0m\u001b[0;34m,\u001b[0m\u001b[0;34m\u001b[0m\u001b[0;34m\u001b[0m\u001b[0m\n",
      "\u001b[0;32m~/.local/lib/python3.8/site-packages/matplotlib/collections.py\u001b[0m in \u001b[0;36m__init__\u001b[0;34m(self, paths, sizes, **kwargs)\u001b[0m\n\u001b[1;32m   1032\u001b[0m         \"\"\"\n\u001b[1;32m   1033\u001b[0m \u001b[0;34m\u001b[0m\u001b[0m\n\u001b[0;32m-> 1034\u001b[0;31m         \u001b[0msuper\u001b[0m\u001b[0;34m(\u001b[0m\u001b[0;34m)\u001b[0m\u001b[0;34m.\u001b[0m\u001b[0m__init__\u001b[0m\u001b[0;34m(\u001b[0m\u001b[0;34m**\u001b[0m\u001b[0mkwargs\u001b[0m\u001b[0;34m)\u001b[0m\u001b[0;34m\u001b[0m\u001b[0;34m\u001b[0m\u001b[0m\n\u001b[0m\u001b[1;32m   1035\u001b[0m         \u001b[0mself\u001b[0m\u001b[0;34m.\u001b[0m\u001b[0mset_paths\u001b[0m\u001b[0;34m(\u001b[0m\u001b[0mpaths\u001b[0m\u001b[0;34m)\u001b[0m\u001b[0;34m\u001b[0m\u001b[0;34m\u001b[0m\u001b[0m\n\u001b[1;32m   1036\u001b[0m         \u001b[0mself\u001b[0m\u001b[0;34m.\u001b[0m\u001b[0mset_sizes\u001b[0m\u001b[0;34m(\u001b[0m\u001b[0msizes\u001b[0m\u001b[0;34m)\u001b[0m\u001b[0;34m\u001b[0m\u001b[0;34m\u001b[0m\u001b[0m\n",
      "\u001b[0;32m~/.local/lib/python3.8/site-packages/matplotlib/_api/deprecation.py\u001b[0m in \u001b[0;36mwrapper\u001b[0;34m(*inner_args, **inner_kwargs)\u001b[0m\n\u001b[1;32m    429\u001b[0m                          \u001b[0;32melse\u001b[0m \u001b[0mdeprecation_addendum\u001b[0m\u001b[0;34m,\u001b[0m\u001b[0;34m\u001b[0m\u001b[0;34m\u001b[0m\u001b[0m\n\u001b[1;32m    430\u001b[0m                 **kwargs)\n\u001b[0;32m--> 431\u001b[0;31m         \u001b[0;32mreturn\u001b[0m \u001b[0mfunc\u001b[0m\u001b[0;34m(\u001b[0m\u001b[0;34m*\u001b[0m\u001b[0minner_args\u001b[0m\u001b[0;34m,\u001b[0m \u001b[0;34m**\u001b[0m\u001b[0minner_kwargs\u001b[0m\u001b[0;34m)\u001b[0m\u001b[0;34m\u001b[0m\u001b[0;34m\u001b[0m\u001b[0m\n\u001b[0m\u001b[1;32m    432\u001b[0m \u001b[0;34m\u001b[0m\u001b[0m\n\u001b[1;32m    433\u001b[0m     \u001b[0;32mreturn\u001b[0m \u001b[0mwrapper\u001b[0m\u001b[0;34m\u001b[0m\u001b[0;34m\u001b[0m\u001b[0m\n",
      "\u001b[0;32m~/.local/lib/python3.8/site-packages/matplotlib/collections.py\u001b[0m in \u001b[0;36m__init__\u001b[0;34m(self, edgecolors, facecolors, linewidths, linestyles, capstyle, joinstyle, antialiaseds, offsets, transOffset, norm, cmap, pickradius, hatch, urls, offset_position, zorder, **kwargs)\u001b[0m\n\u001b[1;32m    162\u001b[0m         \"\"\"\n\u001b[1;32m    163\u001b[0m         \u001b[0martist\u001b[0m\u001b[0;34m.\u001b[0m\u001b[0mArtist\u001b[0m\u001b[0;34m.\u001b[0m\u001b[0m__init__\u001b[0m\u001b[0;34m(\u001b[0m\u001b[0mself\u001b[0m\u001b[0;34m)\u001b[0m\u001b[0;34m\u001b[0m\u001b[0;34m\u001b[0m\u001b[0m\n\u001b[0;32m--> 164\u001b[0;31m         \u001b[0mcm\u001b[0m\u001b[0;34m.\u001b[0m\u001b[0mScalarMappable\u001b[0m\u001b[0;34m.\u001b[0m\u001b[0m__init__\u001b[0m\u001b[0;34m(\u001b[0m\u001b[0mself\u001b[0m\u001b[0;34m,\u001b[0m \u001b[0mnorm\u001b[0m\u001b[0;34m,\u001b[0m \u001b[0mcmap\u001b[0m\u001b[0;34m)\u001b[0m\u001b[0;34m\u001b[0m\u001b[0;34m\u001b[0m\u001b[0m\n\u001b[0m\u001b[1;32m    165\u001b[0m         \u001b[0;31m# list of un-scaled dash patterns\u001b[0m\u001b[0;34m\u001b[0m\u001b[0;34m\u001b[0m\u001b[0;34m\u001b[0m\u001b[0m\n\u001b[1;32m    166\u001b[0m         \u001b[0;31m# this is needed scaling the dash pattern by linewidth\u001b[0m\u001b[0;34m\u001b[0m\u001b[0;34m\u001b[0m\u001b[0;34m\u001b[0m\u001b[0m\n",
      "\u001b[0;32m~/.local/lib/python3.8/site-packages/matplotlib/cm.py\u001b[0m in \u001b[0;36m__init__\u001b[0;34m(self, norm, cmap)\u001b[0m\n\u001b[1;32m    264\u001b[0m         \u001b[0;31m#: The last colorbar associated with this ScalarMappable. May be None.\u001b[0m\u001b[0;34m\u001b[0m\u001b[0;34m\u001b[0m\u001b[0;34m\u001b[0m\u001b[0m\n\u001b[1;32m    265\u001b[0m         \u001b[0mself\u001b[0m\u001b[0;34m.\u001b[0m\u001b[0mcolorbar\u001b[0m \u001b[0;34m=\u001b[0m \u001b[0;32mNone\u001b[0m\u001b[0;34m\u001b[0m\u001b[0;34m\u001b[0m\u001b[0m\n\u001b[0;32m--> 266\u001b[0;31m         \u001b[0mself\u001b[0m\u001b[0;34m.\u001b[0m\u001b[0mcallbacksSM\u001b[0m \u001b[0;34m=\u001b[0m \u001b[0mcbook\u001b[0m\u001b[0;34m.\u001b[0m\u001b[0mCallbackRegistry\u001b[0m\u001b[0;34m(\u001b[0m\u001b[0;34m)\u001b[0m\u001b[0;34m\u001b[0m\u001b[0;34m\u001b[0m\u001b[0m\n\u001b[0m\u001b[1;32m    267\u001b[0m         \u001b[0mself\u001b[0m\u001b[0;34m.\u001b[0m\u001b[0m_update_dict\u001b[0m \u001b[0;34m=\u001b[0m \u001b[0;34m{\u001b[0m\u001b[0;34m'array'\u001b[0m\u001b[0;34m:\u001b[0m \u001b[0;32mFalse\u001b[0m\u001b[0;34m}\u001b[0m\u001b[0;34m\u001b[0m\u001b[0;34m\u001b[0m\u001b[0m\n\u001b[1;32m    268\u001b[0m \u001b[0;34m\u001b[0m\u001b[0m\n",
      "\u001b[0;31mKeyboardInterrupt\u001b[0m: "
     ]
    },
    {
     "data": {
      "image/png": "[encoded data removed]",
      "text/plain": [
       "<Figure size 600x400 with 1 Axes>"
      ]
     },
     "metadata": {
      "needs_background": "light"
     },
     "output_type": "display_data"
    }
   ],
   "source": [
    "# using dfs \n",
    "path = dfs_search(matrix, start, end)\n",
    "print(len(path))\n",
    "visualize_maze(matrix_2[1],matrix_2[0],matrix_2[2],matrix_2[3], path)"
   ]
  },
  {
   "cell_type": "code",
   "execution_count": null,
   "metadata": {
    "scrolled": true
   },
   "outputs": [],
   "source": [
    "# using bfs\n",
    "path = bfs_search(matrix, start, end)\n",
    "print(len(path))\n",
    "visualize_maze(matrix_2[1],matrix_2[0],matrix_2[2],matrix_2[3], path)"
   ]
  },
  {
   "cell_type": "code",
   "execution_count": null,
   "metadata": {},
   "outputs": [],
   "source": [
    "# using GBFS\n",
    "path = GBFS_search(matrix, start, end)\n",
    "visualize_maze(matrix_2[1],matrix_2[0],matrix_2[2],matrix_2[3], path)"
   ]
  },
  {
   "cell_type": "code",
   "execution_count": null,
   "metadata": {
    "scrolled": true
   },
   "outputs": [],
   "source": [
    "# using A*\n",
    "path = Astar_search(matrix, start, end)\n",
    "visualize_maze(matrix_2[1],matrix_2[0],matrix_2[2],matrix_2[3], path)"
   ]
  },
  {
   "cell_type": "code",
   "execution_count": null,
   "metadata": {},
   "outputs": [],
   "source": [
    "#map 3\n",
    "with open('maze_map.txt', 'w') as outfile:\n",
    "    outfile.write('0\\n')\n",
    "#     outfile.write('3 6 -3\\n')\n",
    "#     outfile.write('5 14 -1\\n')\n",
    "#     outfile.write('6 14 -1\\n')\n",
    "    outfile.write('xxxxxxxxxxxxxxxxxxxxxx\\n')\n",
    "    outfile.write('x   x   xx          Sx\\n')\n",
    "    outfile.write('x   x x  x  xxx   xxxx\\n')\n",
    "    outfile.write('x   x     x          x\\n')\n",
    "    outfile.write('x   x    x           x\\n')\n",
    "    outfile.write('x   x      xx xxx  x x\\n')\n",
    "    outfile.write('xx xxxxxx      xx  x x\\n')\n",
    "    outfile.write('   x    xx   xxx  x  x\\n')\n",
    "    outfile.write('x       x    xxx     x\\n')\n",
    "    outfile.write('xx  x x    x x     x x\\n')\n",
    "    outfile.write('xxxxxxxxxxxxxxxxxxxxxx')"
   ]
  },
  {
   "cell_type": "code",
   "execution_count": null,
   "metadata": {},
   "outputs": [],
   "source": [
    "matrix_3 = get_infor_from_matrix('maze_map.txt')\n",
    "matrix = matrix_3[1]\n",
    "start = matrix_3[2]\n",
    "end = matrix_3[3]\n",
    "visualize_maze(matrix_3[1],matrix_3[0],matrix_3[2],matrix_3[3])"
   ]
  },
  {
   "cell_type": "code",
   "execution_count": null,
   "metadata": {
    "scrolled": true
   },
   "outputs": [],
   "source": [
    "# using dfs \n",
    "path = dfs_search(matrix, start, end)\n",
    "visualize_maze(matrix_3[1],matrix_3[0],matrix_3[2],matrix_3[3], path)"
   ]
  },
  {
   "cell_type": "code",
   "execution_count": null,
   "metadata": {
    "scrolled": true
   },
   "outputs": [],
   "source": [
    "# using bfs\n",
    "path = bfs_search(matrix, start, end)\n",
    "visualize_maze(matrix_3[1],matrix_3[0],matrix_3[2],matrix_3[3], path)"
   ]
  },
  {
   "cell_type": "code",
   "execution_count": null,
   "metadata": {},
   "outputs": [],
   "source": [
    "# using GBFS\n",
    "path = GBFS_search(matrix, start, end)\n",
    "visualize_maze(matrix_3[1],matrix_3[0],matrix_3[2],matrix_3[3], path)"
   ]
  },
  {
   "cell_type": "code",
   "execution_count": null,
   "metadata": {
    "scrolled": true
   },
   "outputs": [],
   "source": [
    "# using A*\n",
    "path = Astar_search(matrix, start, end)\n",
    "visualize_maze(matrix_3[1],matrix_3[0],matrix_3[2],matrix_3[3], path)"
   ]
  },
  {
   "cell_type": "code",
   "execution_count": null,
   "metadata": {},
   "outputs": [],
   "source": [
    "#map 4\n",
    "with open('maze_map.txt', 'w') as outfile:\n",
    "    outfile.write('0\\n')\n",
    "#     outfile.write('3 6 -3\\n')\n",
    "#     outfile.write('5 14 -1\\n')\n",
    "#     outfile.write('6 14 -1\\n')\n",
    "    outfile.write('xxxxxxxxxxxxxxxxxxxxxx\\n')\n",
    "    outfile.write('x x Sxxxxxx       x  x\\n')\n",
    "    outfile.write('x  x         xxx     x\\n')\n",
    "    outfile.write('x   x xx  x   x   x  x\\n')\n",
    "    outfile.write('x    x   x   xxx     x\\n')\n",
    "    outfile.write('x     x x  xx    xxxxx\\n')\n",
    "    outfile.write('x  x x x  x xxxx     x\\n')\n",
    "    outfile.write('x   x     x          x\\n')\n",
    "    outfile.write('xxxx xxxxxxx xx      x\\n')\n",
    "    outfile.write('x  x     x   xxx     x\\n')\n",
    "    outfile.write('xxxxxxxxxx xxxxxxxxxxx')"
   ]
  },
  {
   "cell_type": "code",
   "execution_count": null,
   "metadata": {},
   "outputs": [],
   "source": [
    "matrix_4 = get_infor_from_matrix('maze_map.txt')\n",
    "matrix = matrix_4[1]\n",
    "start = matrix_4[2]\n",
    "end = matrix_4[3]\n",
    "visualize_maze(matrix_4[1],matrix_4[0],matrix_4[2],matrix_4[3])"
   ]
  },
  {
   "cell_type": "code",
   "execution_count": null,
   "metadata": {},
   "outputs": [],
   "source": [
    "# using dfs \n",
    "path = dfs_search(matrix, start, end)\n",
    "visualize_maze(matrix_4[1],matrix_4[0],matrix_4[2],matrix_4[3], path)"
   ]
  },
  {
   "cell_type": "code",
   "execution_count": null,
   "metadata": {},
   "outputs": [],
   "source": [
    "# using bfs\n",
    "path = bfs_search(matrix, start, end)\n",
    "visualize_maze(matrix_4[1],matrix_4[0],matrix_4[2],matrix_4[3], path)"
   ]
  },
  {
   "cell_type": "code",
   "execution_count": null,
   "metadata": {},
   "outputs": [],
   "source": [
    "# using GBFS\n",
    "path = GBFS_search(matrix, start, end)\n",
    "visualize_maze(matrix_4[1],matrix_4[0],matrix_4[2],matrix_4[3], path)"
   ]
  },
  {
   "cell_type": "code",
   "execution_count": null,
   "metadata": {},
   "outputs": [],
   "source": [
    "# using A*\n",
    "path = Astar_search(matrix, start, end)\n",
    "visualize_maze(matrix_4[1],matrix_4[0],matrix_4[2],matrix_4[3], path)"
   ]
  },
  {
   "cell_type": "code",
   "execution_count": null,
   "metadata": {},
   "outputs": [],
   "source": [
    "#map 5\n",
    "with open('maze_map.txt', 'w') as outfile:\n",
    "    outfile.write('0\\n')\n",
    "#     outfile.write('3 6 -3\\n')\n",
    "#     outfile.write('5 14 -1\\n')\n",
    "#     outfile.write('6 14 -1\\n')\n",
    "    outfile.write('xxxxxxxxxxxxxxxxxxxxxx\\n')\n",
    "    outfile.write('xSx xxxxxxx       x  x\\n')\n",
    "    outfile.write('x  x         xxx     x\\n')\n",
    "    outfile.write('x   xx x  x   x   x  x\\n')\n",
    "    outfile.write('x        xx  xxx     x\\n')\n",
    "    outfile.write('x     xxx  xx    xxxxx\\n')\n",
    "    outfile.write('x  xxxxx  x xxxx     x\\n')\n",
    "    outfile.write('x   x     x      xxxxx\\n')\n",
    "    outfile.write('xxxx xxxxxxx xx      x\\n')\n",
    "    outfile.write('x  x     x   xxx      \\n')\n",
    "    outfile.write('xxxxxxxxxxxxxxxxxxxxxx')"
   ]
  },
  {
   "cell_type": "code",
   "execution_count": null,
   "metadata": {},
   "outputs": [],
   "source": [
    "matrix_5 = get_infor_from_matrix('maze_map.txt')\n",
    "matrix = matrix_5[1]\n",
    "start = matrix_5[2]\n",
    "end = matrix_5[3]\n",
    "visualize_maze(matrix_5[1],matrix_5[0],matrix_5[2],matrix_5[3])"
   ]
  },
  {
   "cell_type": "code",
   "execution_count": null,
   "metadata": {},
   "outputs": [],
   "source": [
    "# using dfs \n",
    "path = dfs_search(matrix, start, end)\n",
    "visualize_maze(matrix_5[1],matrix_5[0],matrix_5[2],matrix_5[3], path)"
   ]
  },
  {
   "cell_type": "code",
   "execution_count": null,
   "metadata": {},
   "outputs": [],
   "source": [
    "# using bfs\n",
    "path = bfs_search(matrix, start, end)\n",
    "visualize_maze(matrix_5[1],matrix_5[0],matrix_5[2],matrix_5[3], path)"
   ]
  },
  {
   "cell_type": "code",
   "execution_count": null,
   "metadata": {},
   "outputs": [],
   "source": [
    "# using GBFS\n",
    "path = GBFS_search(matrix, start, end)\n",
    "visualize_maze(matrix_5[1],matrix_5[0],matrix_5[2],matrix_5[3], path)"
   ]
  },
  {
   "cell_type": "code",
   "execution_count": null,
   "metadata": {},
   "outputs": [],
   "source": [
    "# using A*\n",
    "path = Astar_search(matrix, start, end)\n",
    "visualize_maze(matrix_5[1],matrix_5[0],matrix_5[2],matrix_5[3], path)"
   ]
  },
  {
   "cell_type": "code",
   "execution_count": null,
   "metadata": {},
   "outputs": [],
   "source": []
  },
  {
   "cell_type": "code",
   "execution_count": null,
   "metadata": {},
   "outputs": [],
   "source": []
  },
  {
   "cell_type": "code",
   "execution_count": null,
   "metadata": {},
   "outputs": [],
   "source": []
  },
  {
   "cell_type": "code",
   "execution_count": null,
   "metadata": {},
   "outputs": [],
   "source": []
  }
 ],
 "metadata": {
  "colab": {
   "collapsed_sections": [],
   "name": "IntroToAI_Demo_DoAn1.ipynb",
   "provenance": [],
   "toc_visible": true
  },
  "kernelspec": {
   "display_name": "Python 3",
   "language": "python",
   "name": "python3"
  },
  "language_info": {
   "codemirror_mode": {
    "name": "ipython",
    "version": 3
   },
   "file_extension": ".py",
   "mimetype": "text/x-python",
   "name": "python",
   "nbconvert_exporter": "python",
   "pygments_lexer": "ipython3",
   "version": "3.8.5"
  }
 },
 "nbformat": 4,
 "nbformat_minor": 1
}
