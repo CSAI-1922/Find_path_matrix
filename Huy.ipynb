{
 "cells": [
  {
   "cell_type": "markdown",
   "metadata": {
    "id": "DnOLkLhiPK27"
   },
   "source": [
    "## Demo vẽ bản đồ - đồ án môn cơ sở trí tuệ nhân tạo - ĐH KHTN TPHCM\n",
    "Trợ giảng: \n",
    "- Nguyễn Khánh Toàn - ktoan271199@gmail.com\n",
    "- Lê Minh Nhật - minhnhatvt2@gmail.com"
   ]
  },
  {
   "cell_type": "markdown",
   "metadata": {
    "id": "43mpK1RvaBWX"
   },
   "source": [
    "## Chuẩn bị file input"
   ]
  },
  {
   "cell_type": "code",
   "execution_count": 1,
   "metadata": {
    "ExecuteTime": {
     "end_time": "2021-11-11T00:42:57.971555Z",
     "start_time": "2021-11-11T00:42:57.964561Z"
    },
    "id": "wjRhsF8MY5EQ"
   },
   "outputs": [],
   "source": [
    "with open('maze_map.txt', 'w') as outfile:\n",
    "    outfile.write('0\\n')\n",
    "#     outfile.write('3 6 -3\\n')\n",
    "#     outfile.write('5 14 -1\\n')\n",
    "#     outfile.write('6 14 -1\\n')\n",
    "    outfile.write('xxxxxxxxxxxxxxxxxxxxxx\\n')\n",
    "    outfile.write('x   x   xx xx        x\\n')\n",
    "    outfile.write('x     x     xxxxxxxxxx\\n')\n",
    "    outfile.write('x x   +xx  xxxx xxx xx\\n')\n",
    "    outfile.write('  x   x x xx   xxxx  x\\n')\n",
    "    outfile.write('x          xx +xx  x x\\n')\n",
    "    outfile.write('xxxxxxx x      xx  x x\\n')\n",
    "    outfile.write('xxxxxxxxx  x x  xx   x\\n')\n",
    "    outfile.write('x          x x Sx x  x\\n')\n",
    "    outfile.write('xxxxx x  x x x     x x\\n')\n",
    "    outfile.write('xxxxxxxxxxxxxxxxxxxxxx')"
   ]
  },
  {
   "cell_type": "code",
   "execution_count": 2,
   "metadata": {
    "ExecuteTime": {
     "end_time": "2021-11-11T00:42:58.002526Z",
     "start_time": "2021-11-11T00:42:57.976551Z"
    }
   },
   "outputs": [],
   "source": [
    "with open('maze_map.txt', 'w') as outfile:\n",
    "    outfile.write('0\\n')\n",
    "#     outfile.write('3 6 -3\\n')\n",
    "#     outfile.write('5 14 -1\\n')\n",
    "#     outfile.write('6 14 -1\\n')\n",
    "    outfile.write('xxxxxxxxxxxxxxxxxxxxxx\\n')\n",
    "    outfile.write('xxx    x  x xxx xx xxx\\n')\n",
    "    outfile.write('x x xxxx xx xx      xx\\n')\n",
    "    outfile.write('x   x       xx xx xx x\\n')\n",
    "    outfile.write('x   x   xxx          x\\n')\n",
    "    outfile.write('x xxxx    x x x x  x x\\n')\n",
    "    outfile.write('x  x x x xx x x x xx x\\n')\n",
    "    outfile.write('xx     x  x   xxx    x\\n')\n",
    "    outfile.write('xx x x x    x     x   \\n')\n",
    "    outfile.write('xxSxxxxxxxxxxxxxxxxxxx')"
   ]
  },
  {
   "cell_type": "markdown",
   "metadata": {
    "id": "Fi9BxHocbeQX"
   },
   "source": [
    "## Các hàm bổ trợ"
   ]
  },
  {
   "cell_type": "code",
   "execution_count": 3,
   "metadata": {
    "ExecuteTime": {
     "end_time": "2021-11-11T00:42:59.186424Z",
     "start_time": "2021-11-11T00:42:58.007523Z"
    },
    "id": "YbO4E7PTforI"
   },
   "outputs": [],
   "source": [
    "import os\n",
    "import math\n",
    "import matplotlib.pyplot as plt\n",
    "from collections import deque"
   ]
  },
  {
   "cell_type": "code",
   "execution_count": 4,
   "metadata": {
    "ExecuteTime": {
     "end_time": "2021-11-11T00:42:59.250364Z",
     "start_time": "2021-11-11T00:42:59.189422Z"
    },
    "id": "u5ZHJ1oq8Ucm"
   },
   "outputs": [],
   "source": [
    "def visualize_maze(matrix, bonus, start, end, route=None):\n",
    "    \"\"\"\n",
    "    Args:\n",
    "      1. matrix: The matrix read from the input file,\n",
    "      2. bonus: The array of bonus points,\n",
    "      3. start, end: The starting and ending points,\n",
    "      4. route: The route from the starting point to the ending one, defined by an array of (x, y), e.g. route = [(1, 2), (1, 3), (1, 4)]\n",
    "    \"\"\"\n",
    "    #1. Define walls and array of direction based on the route\n",
    "    walls=[(i,j) for i in range(len(matrix)) for j in range(len(matrix[0])) if matrix[i][j]=='x']\n",
    "    \n",
    "    if route:\n",
    "        direction=[]\n",
    "        for i in range(1,len(route)):\n",
    "            if route[i][0]-route[i-1][0]>0:\n",
    "                direction.append('v') #^\n",
    "            elif route[i][0]-route[i-1][0]<0:\n",
    "                direction.append('^') #v        \n",
    "            elif route[i][1]-route[i-1][1]>0:\n",
    "                direction.append('>')\n",
    "            else:\n",
    "                direction.append('<')\n",
    "\n",
    "        direction.pop(0)\n",
    "\n",
    "    #2. Drawing the map\n",
    "    ax=plt.figure(dpi=120).add_subplot(111)\n",
    "\n",
    "    for i in ['top','bottom','right','left']:\n",
    "        ax.spines[i].set_visible(False)\n",
    "\n",
    "    plt.scatter([i[1] for i in walls],[-i[0] for i in walls],\n",
    "                marker='X',s=100,color='black')\n",
    "    \n",
    "    plt.scatter([i[1] for i in bonus],[-i[0] for i in bonus],\n",
    "                marker='P',s=100,color='green')\n",
    "\n",
    "    plt.scatter(start[1],-start[0],marker='*',\n",
    "                s=100,color='gold')\n",
    "\n",
    "    if route:\n",
    "        for i in range(len(route)-2):\n",
    "            plt.scatter(route[i+1][1],-route[i+1][0],\n",
    "                        marker=direction[i],color='silver')\n",
    "\n",
    "    plt.text(end[1],-end[0],'EXIT',color='red',\n",
    "         horizontalalignment='center',\n",
    "         verticalalignment='center')\n",
    "    plt.xticks([])\n",
    "    plt.yticks([])\n",
    "    plt.show()\n",
    "\n",
    "    print(f'Starting point (x, y) = {start[0], start[1]}')\n",
    "    print(f'Ending point (x, y) = {end[0], end[1]}')\n",
    "    \n",
    "    for _, point in enumerate(bonus):\n",
    "        print(f'Bonus point at position (x, y) = {point[0], point[1]} with point {point[2]}')\n"
   ]
  },
  {
   "cell_type": "code",
   "execution_count": 5,
   "metadata": {
    "ExecuteTime": {
     "end_time": "2021-11-11T00:42:59.266349Z",
     "start_time": "2021-11-11T00:42:59.253363Z"
    },
    "id": "yiy6K_hAgcF_"
   },
   "outputs": [],
   "source": [
    "def read_file(file_name: str = 'maze.txt'):\n",
    "    f=open(file_name,'r')\n",
    "    n_bonus_points = int(next(f)[:-1])\n",
    "    bonus_points = []\n",
    "    for i in range(n_bonus_points):\n",
    "        x, y, reward = map(int, next(f)[:-1].split(' '))\n",
    "        bonus_points.append((x, y, reward))\n",
    "\n",
    "    text=f.read()\n",
    "    matrix=[list(i) for i in text.splitlines()]\n",
    "    f.close()\n",
    "\n",
    "    return bonus_points, matrix"
   ]
  },
  {
   "cell_type": "markdown",
   "metadata": {
    "id": "49cRN0suaMRO"
   },
   "source": [
    "## Đọc file và vẽ bản đồ"
   ]
  },
  {
   "cell_type": "code",
   "execution_count": 6,
   "metadata": {
    "ExecuteTime": {
     "end_time": "2021-11-11T00:42:59.297321Z",
     "start_time": "2021-11-11T00:42:59.270348Z"
    },
    "id": "NGGqpmp_Wc8g"
   },
   "outputs": [],
   "source": [
    "bonus_points, matrix = read_file('maze_map.txt')"
   ]
  },
  {
   "cell_type": "code",
   "execution_count": 7,
   "metadata": {
    "ExecuteTime": {
     "end_time": "2021-11-11T00:42:59.312308Z",
     "start_time": "2021-11-11T00:42:59.302319Z"
    },
    "colab": {
     "base_uri": "https://localhost:8080/"
    },
    "id": "HCwjgf-VBx4o",
    "outputId": "f84e2b24-5223-42cc-9759-1f2e16545b1b"
   },
   "outputs": [
    {
     "name": "stdout",
     "output_type": "stream",
     "text": [
      "The height of the matrix: 10\n",
      "The width of the matrix: 22\n"
     ]
    }
   ],
   "source": [
    "print(f'The height of the matrix: {len(matrix)}')\n",
    "print(f'The width of the matrix: {len(matrix[0])}')"
   ]
  },
  {
   "cell_type": "code",
   "execution_count": 52,
   "metadata": {
    "ExecuteTime": {
     "end_time": "2021-11-11T02:07:36.655142Z",
     "start_time": "2021-11-11T02:07:36.638156Z"
    },
    "id": "UF3xiEwncYgX"
   },
   "outputs": [
    {
     "data": {
      "text/plain": [
       "0.0009996891021728516"
      ]
     },
     "execution_count": 52,
     "metadata": {},
     "output_type": "execute_result"
    }
   ],
   "source": [
    "import time\n",
    "a = time.time()\n",
    "for i in range(len(matrix)):\n",
    "    for j in range(len(matrix[0])):\n",
    "        if matrix[i][j]=='S':\n",
    "            start=(i,j)\n",
    "\n",
    "        elif matrix[i][j]==' ':\n",
    "            if (i==0) or (i==len(matrix)-1) or (j==0) or (j==len(matrix[0])-1):\n",
    "                end=(i,j)\n",
    "                \n",
    "        else:\n",
    "            pass\n",
    "b= time.time()\n",
    "b-a"
   ]
  },
  {
   "cell_type": "code",
   "execution_count": 9,
   "metadata": {
    "ExecuteTime": {
     "end_time": "2021-11-11T00:42:59.534104Z",
     "start_time": "2021-11-11T00:42:59.332290Z"
    },
    "colab": {
     "base_uri": "https://localhost:8080/",
     "height": 406
    },
    "id": "UXT5jZiWcYip",
    "outputId": "732d73e0-eb3f-467d-c7a3-cfc74c9deb4f",
    "scrolled": false
   },
   "outputs": [
    {
     "data": {
      "image/png": "[encoded data removed]",
      "text/plain": [
       "<Figure size 720x480 with 1 Axes>"
      ]
     },
     "metadata": {},
     "output_type": "display_data"
    },
    {
     "name": "stdout",
     "output_type": "stream",
     "text": [
      "Starting point (x, y) = (9, 2)\n",
      "Ending point (x, y) = (8, 21)\n"
     ]
    }
   ],
   "source": [
    "row = len(matrix)\n",
    "col = len(matrix[0])\n",
    "visualize_maze(matrix,bonus_points,start,end)"
   ]
  },
  {
   "cell_type": "markdown",
   "metadata": {},
   "source": [
    "# Using basic matrix "
   ]
  },
  {
   "cell_type": "markdown",
   "metadata": {},
   "source": [
    "### try to DFS -- Status: Complete"
   ]
  },
  {
   "cell_type": "code",
   "execution_count": null,
   "metadata": {
    "ExecuteTime": {
     "end_time": "2021-11-10T06:07:05.836377Z",
     "start_time": "2021-11-10T06:07:05.825387Z"
    }
   },
   "outputs": [],
   "source": []
  },
  {
   "cell_type": "code",
   "execution_count": 13,
   "metadata": {
    "ExecuteTime": {
     "end_time": "2021-11-11T00:45:02.006273Z",
     "start_time": "2021-11-11T00:45:01.678591Z"
    },
    "scrolled": false
   },
   "outputs": [
    {
     "data": {
      "image/png": "[encoded data removed]",
      "text/plain": [
       "<Figure size 720x480 with 1 Axes>"
      ]
     },
     "metadata": {},
     "output_type": "display_data"
    },
    {
     "name": "stdout",
     "output_type": "stream",
     "text": [
      "Starting point (x, y) = (9, 2)\n",
      "Ending point (x, y) = (8, 21)\n"
     ]
    }
   ],
   "source": [
    "def dfs_search(matrix, start, end):    \n",
    "    row = len(matrix)\n",
    "    col = len(matrix[0])\n",
    "\n",
    "    x = start[0]\n",
    "    y = start[1]\n",
    "\n",
    "    Dir = [[-1, 0], [0, -1], [1, 0], [0, 1]]\n",
    "    path = []\n",
    "    stack = []\n",
    "    stack.append((x,y))\n",
    "    dfs = {}\n",
    "    while end not in stack:\n",
    "\n",
    "        s = stack[-1]\n",
    "        if s not in path:\n",
    "            path.append(s)\n",
    "        #print(f'Curr: {s}')\n",
    "        for i in range(4) :\n",
    "            # using the direction array\n",
    "            a = s[0] + Dir[i][0]\n",
    "            b = s[1] + Dir[i][1]\n",
    "\n",
    "            # not blocked and valid\n",
    "            if(a >= 0 and b >= 0 and a < row and b < col and matrix[a][b] != 'x' and (a, b) not in path):\n",
    "                stack.append((a, b))\n",
    "                dfs[(a,b)] = s\n",
    "                break\n",
    "            if(i == 3 ):\n",
    "                for j in range(4):\n",
    "                    a1 = s[0] + Dir[j][0] \n",
    "                    b1 = s[1] + Dir[j][1]\n",
    "                    if (a1,b1) in stack:\n",
    "                        stack.pop()\n",
    "                        break\n",
    "    path.append(end)\n",
    "    p = {}\n",
    "    cell = end\n",
    "    while cell != start:\n",
    "        p[dfs[cell]] = cell \n",
    "        cell = dfs[cell]\n",
    "    final = list(p.values())\n",
    "    final.append(start)\n",
    "    finalPath = final[::-1]\n",
    "    \n",
    "    return finalPath\n",
    "visualize_maze(matrix,bonus_points,start,end, dfs_search(matrix, start, end))"
   ]
  },
  {
   "cell_type": "markdown",
   "metadata": {},
   "source": [
    "### Try to BFS -- Status: Complete\n",
    "- Tham khảo: https://www.youtube.com/watch?v=D14YK-0MtcQ -> In đường đi"
   ]
  },
  {
   "cell_type": "code",
   "execution_count": 15,
   "metadata": {
    "ExecuteTime": {
     "end_time": "2021-11-11T00:45:23.093492Z",
     "start_time": "2021-11-11T00:45:22.834735Z"
    }
   },
   "outputs": [
    {
     "data": {
      "image/png": "[encoded data removed]",
      "text/plain": [
       "<Figure size 720x480 with 1 Axes>"
      ]
     },
     "metadata": {},
     "output_type": "display_data"
    },
    {
     "name": "stdout",
     "output_type": "stream",
     "text": [
      "Starting point (x, y) = (9, 2)\n",
      "Ending point (x, y) = (8, 21)\n"
     ]
    }
   ],
   "source": [
    "from collections import deque\n",
    "def bfs_search(matrix, start, end):\n",
    "    row = len(matrix)\n",
    "    col = len(matrix[0])\n",
    "\n",
    "    visited = [[False for i in range(col)]for j in range(row)]\n",
    "    \n",
    "    x = start[0]\n",
    "    y = start[1]\n",
    "\n",
    "    Dir = [[-1, 0], [0, -1], [1, 0], [0, 1]]\n",
    "    # Mark the source cell as visited\n",
    "    visited[x][y] = True\n",
    "    # Tao dictionary luu vi tri diem cha va diem con\n",
    "    bfs = {}\n",
    "    # Create a queue for BFS\n",
    "    q = deque()\n",
    "\n",
    "    q.append(start) #  Enqueue source cell\n",
    "\n",
    "    # Do a BFS starting from source cell\n",
    "    while q:\n",
    "        curr = q.popleft() # Dequeue the front cell\n",
    "        #path.append(curr)\n",
    "        # If we have reached the destination cell,\n",
    "        # we are done\n",
    "        if curr[0] == end[0] and curr[1] == end[1]:\n",
    "            break\n",
    "\n",
    "        # Otherwise enqueue its adjacent cells\n",
    "        for i in range(4):\n",
    "            a = curr[0] + Dir[i][0]\n",
    "            b = curr[1] + Dir[i][1]    \n",
    "        # if adjacent cell is valid, has path \n",
    "        # and not visited yet, enqueue it.\n",
    "            if (a >= 0 and b >= 0 and a < row and b < col and matrix[a][b] != 'x' and (a, b) and not visited[a][b]):\n",
    "                visited[a][b] = True\n",
    "                q.append((a, b))\n",
    "                bfs[(a,b)] = curr\n",
    "    p = {}\n",
    "    cell = end\n",
    "    while cell != start:\n",
    "        p[bfs[cell]] = cell \n",
    "        cell = bfs[cell]\n",
    "    final = list(p.values())\n",
    "    final.append(start)\n",
    "    finalPath = final[::-1]\n",
    "    return finalPath\n",
    "    \n",
    "visualize_maze(matrix,bonus_points,start,end, bfs_search(matrix, start, end))"
   ]
  },
  {
   "cell_type": "markdown",
   "metadata": {},
   "source": [
    "## Các hàm heuristic"
   ]
  },
  {
   "cell_type": "code",
   "execution_count": 50,
   "metadata": {
    "ExecuteTime": {
     "end_time": "2021-11-11T01:09:09.644583Z",
     "start_time": "2021-11-11T01:09:09.617603Z"
    },
    "scrolled": false
   },
   "outputs": [],
   "source": [
    "def Manhattan(cell1, cell2):\n",
    "    x1, y1 = cell1\n",
    "    x2, y2 = cell2\n",
    "    return (abs(x1 - x2) + abs(y1 - y2))\n",
    "def Euclid(cell1, cell2):\n",
    "    x1, y1 = cell1\n",
    "    x2, y2 = cell2\n",
    "    return math.sqrt((x1-x2)**2 + (y1-y2)**2)\n",
    "def Octile(cell1,cell2):\n",
    "    dx = abs(cell1[0] - cell2[0])\n",
    "    dy = abs(cell1[1] - cell2[1])\n",
    "    return (dx + dy) + (math.sqrt(2)) * min(dx, dy)"
   ]
  },
  {
   "cell_type": "markdown",
   "metadata": {},
   "source": [
    "### Try to Greedy Best First Search - Status: Complete(using shorted distance)"
   ]
  },
  {
   "cell_type": "code",
   "execution_count": 51,
   "metadata": {
    "ExecuteTime": {
     "end_time": "2021-11-11T01:09:26.810665Z",
     "start_time": "2021-11-11T01:09:26.456996Z"
    }
   },
   "outputs": [
    {
     "name": "stdout",
     "output_type": "stream",
     "text": [
      "Length of search: 90\n",
      "Length of path: 47\n"
     ]
    },
    {
     "data": {
      "image/png": "[encoded data removed]",
      "text/plain": [
       "<Figure size 720x480 with 1 Axes>"
      ]
     },
     "metadata": {},
     "output_type": "display_data"
    },
    {
     "name": "stdout",
     "output_type": "stream",
     "text": [
      "Starting point (x, y) = (8, 10)\n",
      "Ending point (x, y) = (7, 21)\n"
     ]
    }
   ],
   "source": [
    "import time\n",
    "def GBFS_search(matrix, start, end,heuristic): \n",
    "    begin = time.time()\n",
    "    row = len(matrix)\n",
    "    col = len(matrix[0])\n",
    "\n",
    "    visited = [[False for i in range(col)]for j in range(row)]\n",
    "\n",
    "    x = start[0]\n",
    "    y = start[1]\n",
    "\n",
    "    Dir = [[-1, 0], [0, -1], [1, 0], [0, 1]]\n",
    "    path = []\n",
    "    # Mark the source cell as visited\n",
    "    visited[x][y] = True\n",
    "    greedy = {}\n",
    "    # Create a queue for BFS\n",
    "    q = deque()\n",
    "\n",
    "    q.append(start) #  Enqueue source cell\n",
    "\n",
    "    # Do a BFS starting from source cell\n",
    "    while q:\n",
    "        store_dist = {}\n",
    "        curr = q.popleft() # Dequeue the front cell\n",
    "        path.append(curr)\n",
    "        # If we have reached the destination cell,\n",
    "        # we are done\n",
    "        if curr[0] == end[0] and curr[1] == end[1]:\n",
    "            break\n",
    "        # Otherwise enqueue its adjacent cells\n",
    "        for i in range(4):\n",
    "            a = curr[0] + Dir[i][0]\n",
    "            b = curr[1] + Dir[i][1]    \n",
    "\n",
    "        # if adjacent cell is valid, has path \n",
    "        # and not visited yet, enqueue it.\n",
    "            if (a >= 0 and b >= 0 and a < row and b < col and matrix[a][b] != 'x' and (a, b) and not visited[a][b]):\n",
    "                #calculate distance from point current to end\n",
    "                #dist = Manhattan((a,b),end)\n",
    "                #dist = Euclid((a,b),end)\n",
    "                #dist = DiagonalDistance((a,b),end)\n",
    "                dist = heuristic((a,b),end)\n",
    "                store_dist[(a, b)] = dist\n",
    "                greedy[(a,b)] = curr\n",
    "            #select point based on distance array\n",
    "            if i == 3:\n",
    "                if store_dist == {}:\n",
    "                    #if it doesn't quit traverse path to find a new way :v\n",
    "                    for point in reversed(path):\n",
    "                        for i in range(4):\n",
    "                            a = point[0] + Dir[i][0]\n",
    "                            b = point[1] + Dir[i][1]\n",
    "                            if (a >= 0 and b >= 0 and a < row and b < col and matrix[a][b] != 'x' and (a, b) and not visited[a][b]):\n",
    "                                #dist = Manhattan((a,b),end)\n",
    "                                #dist = Euclid((a,b),end)\n",
    "                                #dist = DiagonalDistance((a,b),end)\n",
    "                                dist = heuristic((a,b),end)\n",
    "                                store_dist[(a, b)] = dist  \n",
    "                                break\n",
    "                #print(store_dist)\n",
    "                store_dist = dict(sorted(store_dist.items(), key=lambda item: item[1]))\n",
    "                for key, val in store_dist.items():\n",
    "                    visited[key[0]][key[1]] = True\n",
    "                    q.append(key)\n",
    "                    break\n",
    "    p = {}\n",
    "    cell = end\n",
    "    while cell != start:\n",
    "        p[greedy[cell]] = cell \n",
    "        cell = greedy[cell]\n",
    "    final = list(p.values())\n",
    "    final.append(start)\n",
    "    finalPath = final[::-1]\n",
    "    close = time.time()\n",
    "\n",
    "    return [len(greedy.keys()),finalPath,(close-begin)*1000]\n",
    "\n",
    "len1_search = GBFS_search(matrix, start, end,Manhattan)[0]\n",
    "len2_search = GBFS_search(matrix, start, end,Euclid)[0]\n",
    "len3_search = GBFS_search(matrix, start, end,Octile)[0]\n",
    "\n",
    "len1_path = len(GBFS_search(matrix, start, end,Manhattan)[1])\n",
    "len2_path = len(GBFS_search(matrix, start, end,Euclid)[1])\n",
    "len3_path = len(GBFS_search(matrix, start, end,Octile)[1])\n",
    "\n",
    "time1 = GBFS_search(matrix, start, end,Manhattan)[2]\n",
    "time2 = GBFS_search(matrix, start, end,Euclid)[2]\n",
    "time3 = GBFS_search(matrix, start, end,Octile)[2]\n",
    "print(f'''\\tSearch path Length of:\n",
    "Manhattan: {len1_search}\n",
    "Euclid: {len2_search}\n",
    "Octile: {len3_search}''')\n",
    "print(f'''\\tFinal path Length of:\n",
    "Manhattan: {len1_path}\n",
    "Euclid: {len2_path}\n",
    "Octile: {len3_path}''')\n",
    "print(f'''\\tRuntime (ms) of:\n",
    "Manhattan: {time1}\n",
    "Euclid: {time2}\n",
    "Octile: {time3}''')\n",
    "visualize_maze(matrix,bonus_points,start,end, GBFS_search(matrix, start, end,Manhattan)[1])\n",
    "visualize_maze(matrix,bonus_points,start,end, GBFS_search(matrix, start, end,Euclid)[1])\n",
    "visualize_maze(matrix,bonus_points,start,end, GBFS_search(matrix, start, end,Octile)[1])"
   ]
  },
  {
   "cell_type": "code",
   "execution_count": null,
   "metadata": {},
   "outputs": [],
   "source": []
  },
  {
   "cell_type": "code",
   "execution_count": null,
   "metadata": {
    "ExecuteTime": {
     "end_time": "2021-11-10T14:14:39.340641Z",
     "start_time": "2021-11-10T14:14:39.079890Z"
    }
   },
   "outputs": [],
   "source": []
  },
  {
   "cell_type": "code",
   "execution_count": 226,
   "metadata": {
    "ExecuteTime": {
     "end_time": "2021-11-10T13:49:36.460906Z",
     "start_time": "2021-11-10T13:49:36.450914Z"
    }
   },
   "outputs": [],
   "source": [
    "a = deque()\n",
    "a.append((1,2))"
   ]
  },
  {
   "cell_type": "markdown",
   "metadata": {},
   "source": [
    "### Try to A* - Status: Complete"
   ]
  },
  {
   "cell_type": "code",
   "execution_count": 297,
   "metadata": {
    "ExecuteTime": {
     "end_time": "2021-11-10T14:32:22.509907Z",
     "start_time": "2021-11-10T14:32:22.170228Z"
    }
   },
   "outputs": [
    {
     "name": "stdout",
     "output_type": "stream",
     "text": [
      "Length of search: 43\n",
      "Length of path: 31\n"
     ]
    },
    {
     "data": {
      "image/png": "[encoded data removed]",
      "text/plain": [
       "<Figure size 720x480 with 1 Axes>"
      ]
     },
     "metadata": {},
     "output_type": "display_data"
    },
    {
     "name": "stdout",
     "output_type": "stream",
     "text": [
      "Starting point (x, y) = (9, 2)\n",
      "Ending point (x, y) = (8, 21)\n"
     ]
    }
   ],
   "source": [
    "def Astar_search(matrix, start, end): \n",
    "    row = len(matrix)\n",
    "    col = len(matrix[0])\n",
    "    \n",
    "    real_distance = 0\n",
    "    visited = [[False for i in range(col)]for j in range(row)]\n",
    "\n",
    "    x = start[0]\n",
    "    y = start[1]\n",
    "\n",
    "    Dir = [[-1, 0], [0, -1], [1, 0], [0, 1]]\n",
    "    path = []\n",
    "    aStar = {}\n",
    "    # Mark the source cell as visited\n",
    "    visited[x][y] = True\n",
    "\n",
    "    # Create a queue for BFS\n",
    "    q = deque()\n",
    "    \n",
    "    q.append(start) #  Enqueue source cell\n",
    "\n",
    "    # Do a BFS starting from source cell\n",
    "    while q:\n",
    "        store_dist = {}\n",
    "        curr = q.popleft() # Dequeue the front cell\n",
    "        path.append(curr)\n",
    "        # If we have reached the destination cell,\n",
    "        # we are done\n",
    "        if curr[0] == end[0] and curr[1] == end[1]:\n",
    "            break\n",
    "\n",
    "        # Otherwise enqueue its adjacent cells\n",
    "        for i in range(4):\n",
    "            a = curr[0] + Dir[i][0]\n",
    "            b = curr[1] + Dir[i][1]    \n",
    "\n",
    "        # if adjacent cell is valid, has path \n",
    "        # and not visited yet, enqueue it.\n",
    "            if (a >= 0 and b >= 0 and a < row and b < col and matrix[a][b] != 'x' and (a, b) and not visited[a][b]):\n",
    "                #calculate distance from point current to end\n",
    "                dist = math.sqrt((a-end[0])**2 + (b-end[1])**2) + 1\n",
    "                store_dist[(a, b)] = dist\n",
    "                aStar[(a,b)] = curr\n",
    "            #select point based on distance array\n",
    "            if i == 3:\n",
    "                if store_dist == {}:\n",
    "                    #if it doesn't quit traverse path to find a new way :v\n",
    "                    for point in reversed(path):\n",
    "                        for i in range(4):\n",
    "                            a = point[0] + Dir[i][0]\n",
    "                            b = point[1] + Dir[i][1]\n",
    "                            if (a >= 0 and b >= 0 and a < row and b < col and matrix[a][b] != 'x' and (a, b) and not visited[a][b]):\n",
    "                                dist = math.sqrt((a-end[0])**2 + (b-end[1])**2) + 1\n",
    "                                store_dist[(a, b)] = dist\n",
    "                                break\n",
    "                store_dist = dict(sorted(store_dist.items(), key=lambda item: item[1]))\n",
    "                for key, val in store_dist.items():\n",
    "                    real_distance += val\n",
    "                    visited[key[0]][key[1]] = True\n",
    "                    q.append(key)\n",
    "                    break\n",
    "    p = {}\n",
    "    cell = end\n",
    "    while cell != start:\n",
    "        p[aStar[cell]] = cell \n",
    "        cell = aStar[cell]\n",
    "    final = list(p.values())\n",
    "    final.append(start)\n",
    "    finalPath = final[::-1]\n",
    "    print(f'Length of search: {len(aStar.keys())}')\n",
    "    print(f'Length of path: {len(finalPath)}')\n",
    "    return finalPath\n",
    "visualize_maze(matrix,bonus_points,start,end, Astar_search(matrix, start, end))"
   ]
  },
  {
   "cell_type": "markdown",
   "metadata": {},
   "source": [
    "# Using bonus point matrix"
   ]
  },
  {
   "cell_type": "code",
   "execution_count": 27,
   "metadata": {
    "ExecuteTime": {
     "end_time": "2021-11-10T10:37:24.353287Z",
     "start_time": "2021-11-10T10:37:24.333306Z"
    }
   },
   "outputs": [],
   "source": [
    "# with open('maze_map(bonus).txt', 'w') as outfile:\n",
    "#     outfile.write('3\\n')\n",
    "#     outfile.write('3 6 -3\\n')\n",
    "#     outfile.write('5 14 -1\\n')\n",
    "#     outfile.write('6 14 -1\\n')\n",
    "#     outfile.write('xxxxxxxxxxxxxxxxxxxxxx\\n')\n",
    "#     outfile.write('x   x   xx xx        x\\n')\n",
    "#     outfile.write('x     x     xxxxxxxxxx\\n')\n",
    "#     outfile.write('x x   +xx  xxxx xxx xx\\n')\n",
    "#     outfile.write('  x   x x xx   xxxx  x\\n')\n",
    "#     outfile.write('x       S  xx +xx  x x\\n')\n",
    "#     outfile.write('xxxxxxx x      xx  x x\\n')\n",
    "#     outfile.write('xxxxxxxxx  x x  xx   x\\n')\n",
    "#     outfile.write('x          x x  x x  x\\n')\n",
    "#     outfile.write('xxxxx x  x x x     x x\\n')\n",
    "#     outfile.write('xxxxxxxxxxxxxxxxxxxxxx')"
   ]
  },
  {
   "cell_type": "code",
   "execution_count": 131,
   "metadata": {
    "ExecuteTime": {
     "end_time": "2021-11-10T12:36:02.823607Z",
     "start_time": "2021-11-10T12:36:02.802625Z"
    }
   },
   "outputs": [],
   "source": [
    "#map 5\n",
    "with open('maze_map(bonus).txt', 'w') as outfile:\n",
    "    outfile.write('2\\n')\n",
    "    outfile.write('2 7 -1\\n')\n",
    "    outfile.write('5 14 -4\\n')\n",
    "    outfile.write('xxxxxxxxxxxxxxxxxxxxxx\\n')\n",
    "    outfile.write('xSx xxxxxxx       x  x\\n')\n",
    "    outfile.write('x  x   +     xxx     x\\n')\n",
    "    outfile.write('x   xx x  x   x   x  x\\n')\n",
    "    outfile.write('x        xx  xxx     x\\n')\n",
    "    outfile.write('x     xxx  xx +  xxxxx\\n')\n",
    "    outfile.write('x  xxxxx  x xxxx     x\\n')\n",
    "    outfile.write('x   x     x      xxxxx\\n')\n",
    "    outfile.write('xxxx xxxxxxx xx      x\\n')\n",
    "    outfile.write('x  x     x   xxx      \\n')\n",
    "    outfile.write('xxxxxxxxxxxxxxxxxxxxxx')"
   ]
  },
  {
   "cell_type": "code",
   "execution_count": 132,
   "metadata": {
    "ExecuteTime": {
     "end_time": "2021-11-10T12:36:03.439053Z",
     "start_time": "2021-11-10T12:36:03.413076Z"
    }
   },
   "outputs": [],
   "source": [
    "bonus_points, matrix = read_file('maze_map(bonus).txt')"
   ]
  },
  {
   "cell_type": "code",
   "execution_count": 133,
   "metadata": {
    "ExecuteTime": {
     "end_time": "2021-11-10T12:36:03.924354Z",
     "start_time": "2021-11-10T12:36:03.906373Z"
    }
   },
   "outputs": [
    {
     "name": "stdout",
     "output_type": "stream",
     "text": [
      "The height of the matrix: 11\n",
      "The width of the matrix: 22\n"
     ]
    }
   ],
   "source": [
    "print(f'The height of the matrix: {len(matrix)}')\n",
    "print(f'The width of the matrix: {len(matrix[0])}')"
   ]
  },
  {
   "cell_type": "code",
   "execution_count": 134,
   "metadata": {
    "ExecuteTime": {
     "end_time": "2021-11-10T12:36:04.492008Z",
     "start_time": "2021-11-10T12:36:04.483019Z"
    }
   },
   "outputs": [],
   "source": [
    "for i in range(len(matrix)):\n",
    "    for j in range(len(matrix[0])):\n",
    "        if matrix[i][j]=='S':\n",
    "            start=(i,j)\n",
    "\n",
    "        elif matrix[i][j]==' ':\n",
    "            if (i==0) or (i==len(matrix)-1) or (j==0) or (j==len(matrix[0])-1):\n",
    "                end=(i,j)\n",
    "                \n",
    "        else:\n",
    "            pass"
   ]
  },
  {
   "cell_type": "code",
   "execution_count": 135,
   "metadata": {
    "ExecuteTime": {
     "end_time": "2021-11-10T12:36:05.264099Z",
     "start_time": "2021-11-10T12:36:05.114236Z"
    }
   },
   "outputs": [
    {
     "data": {
      "image/png": "[encoded data removed]",
      "text/plain": [
       "<Figure size 720x480 with 1 Axes>"
      ]
     },
     "metadata": {},
     "output_type": "display_data"
    },
    {
     "name": "stdout",
     "output_type": "stream",
     "text": [
      "Starting point (x, y) = (1, 1)\n",
      "Ending point (x, y) = (9, 21)\n",
      "Bonus point at position (x, y) = (2, 7) with point -1\n",
      "Bonus point at position (x, y) = (5, 14) with point -4\n"
     ]
    }
   ],
   "source": [
    "visualize_maze(matrix, bonus_points, start, end)"
   ]
  },
  {
   "cell_type": "code",
   "execution_count": 136,
   "metadata": {
    "ExecuteTime": {
     "end_time": "2021-11-10T12:36:05.853988Z",
     "start_time": "2021-11-10T12:36:05.841997Z"
    }
   },
   "outputs": [],
   "source": [
    "def init_weights(matrix):\n",
    "    weights = [[1 for i in range(col)]for j in range(row)]\n",
    "    for k in bonus_points:\n",
    "        weights[k[0]][k[1]] = k[2]\n",
    "    return weights\n",
    "weights = init_weights(matrix)"
   ]
  },
  {
   "cell_type": "code",
   "execution_count": 137,
   "metadata": {
    "ExecuteTime": {
     "end_time": "2021-11-10T12:36:06.617981Z",
     "start_time": "2021-11-10T12:36:06.602994Z"
    }
   },
   "outputs": [
    {
     "data": {
      "text/plain": [
       "(1, 1)"
      ]
     },
     "execution_count": 137,
     "metadata": {},
     "output_type": "execute_result"
    }
   ],
   "source": [
    "start"
   ]
  },
  {
   "cell_type": "code",
   "execution_count": 141,
   "metadata": {
    "ExecuteTime": {
     "end_time": "2021-11-10T12:43:37.428740Z",
     "start_time": "2021-11-10T12:43:37.413757Z"
    }
   },
   "outputs": [
    {
     "data": {
      "text/plain": [
       "{(2, 7): -1, (5, 14): -4}"
      ]
     },
     "execution_count": 141,
     "metadata": {},
     "output_type": "execute_result"
    }
   ],
   "source": []
  },
  {
   "cell_type": "code",
   "execution_count": null,
   "metadata": {
    "ExecuteTime": {
     "end_time": "2021-11-10T12:46:38.712002Z",
     "start_time": "2021-11-10T12:46:38.228455Z"
    }
   },
   "outputs": [],
   "source": []
  },
  {
   "cell_type": "markdown",
   "metadata": {},
   "source": [
    "### Try to DFS - Status:\n",
    "Ưu tiên chọn đường đi có trọng số nhỏ nhất"
   ]
  },
  {
   "cell_type": "code",
   "execution_count": null,
   "metadata": {},
   "outputs": [],
   "source": []
  },
  {
   "cell_type": "code",
   "execution_count": 163,
   "metadata": {},
   "outputs": [
    {
     "data": {
      "text/plain": [
       "[(3, 6, -3), (5, 14, -1), (6, 14, -1)]"
      ]
     },
     "execution_count": 163,
     "metadata": {},
     "output_type": "execute_result"
    }
   ],
   "source": [
    "bonus_points"
   ]
  },
  {
   "cell_type": "markdown",
   "metadata": {},
   "source": [
    "## Try to BFS - Status:\n",
    "Ưu tiên đỉnh có trọng số nhỏ nhất\n"
   ]
  },
  {
   "cell_type": "code",
   "execution_count": null,
   "metadata": {},
   "outputs": [],
   "source": []
  },
  {
   "cell_type": "code",
   "execution_count": null,
   "metadata": {
    "ExecuteTime": {
     "end_time": "2021-11-10T10:37:57.228775Z",
     "start_time": "2021-11-10T10:37:57.052936Z"
    }
   },
   "outputs": [],
   "source": []
  },
  {
   "cell_type": "markdown",
   "metadata": {},
   "source": [
    "## Sửa code GBFS có điểm thưởng : "
   ]
  },
  {
   "cell_type": "code",
   "execution_count": 140,
   "metadata": {
    "ExecuteTime": {
     "end_time": "2021-11-10T12:38:03.801741Z",
     "start_time": "2021-11-10T12:38:03.481044Z"
    }
   },
   "outputs": [
    {
     "name": "stdout",
     "output_type": "stream",
     "text": [
      "(1, 1)\n",
      "{(2, 1): 22.18962010041709}\n",
      "\n",
      "(2, 1)\n",
      "{(2, 2): 21.248456731316587, (3, 1): 21.8806130178211}\n",
      "\n",
      "(2, 2)\n",
      "{(3, 2): 20.924858845171276}\n",
      "\n",
      "(3, 2)\n",
      "{(3, 3): 19.973665961010276, (4, 2): 20.6468827043885, (3, 1): 21.8806130178211}\n",
      "\n",
      "(3, 3)\n",
      "{(4, 3): 19.681541692269406}\n",
      "\n",
      "(4, 3)\n",
      "{(4, 4): 18.72004514666935, (5, 3): 19.439088914585774, (4, 2): 20.6468827043885}\n",
      "\n",
      "(4, 4)\n",
      "{(4, 5): 17.76305461424021, (5, 4): 18.46424919657298}\n",
      "\n",
      "(4, 5)\n",
      "{(4, 6): 16.811388300841898, (5, 5): 17.492422502470642}\n",
      "\n",
      "(4, 6)\n",
      "{(4, 7): 15.866068747318506, (3, 6): 17.15549442140351}\n",
      "\n",
      "(4, 7)\n",
      "{(4, 8): 14.92838827718412}\n",
      "\n",
      "(4, 8)\n",
      "{(3, 8): 15.317821063276353}\n",
      "\n",
      "(3, 8)\n",
      "{(3, 9): 14.416407864998739, (2, 8): 15.7648230602334}\n",
      "\n",
      "(3, 9)\n",
      "{(2, 9): 14.892443989449804}\n",
      "\n",
      "(2, 9)\n",
      "{(2, 10): 14.038404810405298, (2, 8): 15.7648230602334}\n",
      "\n",
      "(2, 10)\n",
      "{(2, 11): 13.206555615733702}\n",
      "\n",
      "(2, 11)\n",
      "{(2, 12): 12.40175425099138, (3, 11): 12.661903789690601, (1, 11): 13.806248474865697}\n",
      "\n",
      "(2, 12)\n",
      "{(3, 12): 11.816653826391969, (1, 12): 13.041594578792296}\n",
      "\n",
      "(3, 12)\n",
      "{(3, 13): 11.0, (4, 12): 11.295630140987, (3, 11): 12.661903789690601}\n",
      "\n",
      "(3, 13)\n",
      "{(4, 12): 11.295630140987, (3, 11): 12.661903789690601, (1, 12): 13.041594578792296, (1, 11): 13.806248474865697, (2, 8): 15.7648230602334, (3, 6): 17.15549442140351, (5, 5): 17.492422502470642, (5, 4): 18.46424919657298, (5, 3): 19.439088914585774, (4, 2): 20.6468827043885, (3, 1): 21.8806130178211}\n",
      "\n",
      "(4, 12)\n",
      "{(4, 11): 12.180339887498949}\n",
      "\n",
      "(4, 11)\n",
      "{(3, 11): 12.661903789690601}\n",
      "\n",
      "(3, 11)\n",
      "{(1, 12): 13.041594578792296, (1, 11): 13.806248474865697, (2, 8): 15.7648230602334, (3, 6): 17.15549442140351, (5, 5): 17.492422502470642, (5, 4): 18.46424919657298, (5, 3): 19.439088914585774, (4, 2): 20.6468827043885, (3, 1): 21.8806130178211}\n",
      "\n",
      "(1, 12)\n",
      "{(1, 13): 12.313708498984761, (1, 11): 13.806248474865697}\n",
      "\n",
      "(1, 13)\n",
      "{(1, 14): 11.63014581273465}\n",
      "\n",
      "(1, 14)\n",
      "{(1, 15): 11.0}\n",
      "\n",
      "(1, 15)\n",
      "{(1, 16): 10.433981132056603}\n",
      "\n",
      "(1, 16)\n",
      "{(2, 16): 9.602325267042627, (1, 17): 9.94427190999916}\n",
      "\n",
      "(2, 16)\n",
      "{(3, 16): 8.810249675906654, (2, 17): 9.06225774829855}\n",
      "\n",
      "(3, 16)\n",
      "{(4, 16): 8.071067811865476, (3, 17): 8.21110255092798, (3, 15): 9.48528137423857}\n",
      "\n",
      "(4, 16)\n",
      "{(5, 16): 7.4031242374328485, (4, 17): 7.4031242374328485}\n",
      "Bfs: \n",
      "{(5, 16): 10, (4, 17): 12}\n",
      "\n",
      "(5, 16)\n",
      "{(6, 16): 6.830951894845301, (5, 15): 8.21110255092798}\n",
      "\n",
      "(6, 16)\n",
      "{(6, 17): 6.0, (7, 16): 6.385164807134504}\n",
      "\n",
      "(6, 17)\n",
      "{(6, 18): 5.242640687119285}\n",
      "\n",
      "(6, 18)\n",
      "{(6, 19): 4.60555127546399}\n",
      "\n",
      "(6, 19)\n",
      "{(6, 20): 4.16227766016838}\n",
      "\n",
      "(6, 20)\n",
      "{(7, 16): 6.385164807134504, (4, 17): 7.4031242374328485, (5, 15): 8.21110255092798, (3, 17): 8.21110255092798, (2, 17): 9.06225774829855, (3, 15): 9.48528137423857, (1, 17): 9.94427190999916, (1, 11): 13.806248474865697, (2, 8): 15.7648230602334, (3, 6): 17.15549442140351, (5, 5): 17.492422502470642, (5, 4): 18.46424919657298, (5, 3): 19.439088914585774, (4, 2): 20.6468827043885, (3, 1): 21.8806130178211}\n",
      "\n",
      "(7, 16)\n",
      "{(8, 16): 6.0990195135927845, (7, 15): 7.324555320336759}\n",
      "\n",
      "(8, 16)\n",
      "{(8, 17): 5.123105625617661, (9, 16): 6.0, (8, 15): 7.082762530298219}\n",
      "\n",
      "(8, 17)\n",
      "{(8, 18): 4.16227766016838, (9, 17): 5.0}\n",
      "\n",
      "(8, 18)\n",
      "{(8, 19): 3.23606797749979, (9, 18): 4.0}\n",
      "\n",
      "(8, 19)\n",
      "{(8, 20): 2.414213562373095, (9, 19): 3.0}\n",
      "\n",
      "(8, 20)\n",
      "{(9, 20): 2.0}\n",
      "\n",
      "(9, 20)\n",
      "{(9, 21): 1.0, (9, 19): 3.0}\n",
      "\n",
      "deque([])\n"
     ]
    },
    {
     "data": {
      "image/png": "[encoded data removed]",
      "text/plain": [
       "<Figure size 720x480 with 1 Axes>"
      ]
     },
     "metadata": {},
     "output_type": "display_data"
    },
    {
     "name": "stdout",
     "output_type": "stream",
     "text": [
      "Starting point (x, y) = (1, 1)\n",
      "Ending point (x, y) = (9, 21)\n",
      "Bonus point at position (x, y) = (2, 7) with point -1\n",
      "Bonus point at position (x, y) = (5, 14) with point -4\n"
     ]
    }
   ],
   "source": [
    "row = len(matrix)\n",
    "col = len(matrix[0])\n",
    "\n",
    "visited = [[False for i in range(col)]for j in range(row)]\n",
    "\n",
    "# start = (5, 6)\n",
    "x = start[0]\n",
    "y = start[1]\n",
    "\n",
    "\n",
    "Dir = [[-1, 0], [0, -1], [1, 0], [0, 1]]\n",
    "bfs = {}\n",
    "bfs_length = {}\n",
    "path = []\n",
    "# Mark the source cell as visited\n",
    "visited[x][y] = True\n",
    "     \n",
    "# Create a queue for BFS\n",
    "q = deque()\n",
    "     \n",
    "q.append(start) #  Enqueue source cell\n",
    "     \n",
    "# Do a BFS starting from source cell\n",
    "while q:\n",
    "    store_dist = {}\n",
    "    curr = q.popleft() # Dequeue the front cell\n",
    "    path.append(curr)\n",
    "    # If we have reached the destination cell,\n",
    "    # we are done\n",
    "    if curr[0] == end[0] and curr[1] == end[1]:\n",
    "        break\n",
    "    print(curr)\n",
    "    # Otherwise enqueue its adjacent cells\n",
    "    for i in range(4):\n",
    "        a = curr[0] + Dir[i][0]\n",
    "        b = curr[1] + Dir[i][1]    \n",
    "        \n",
    "    # if adjacent cell is valid, has path \n",
    "    # and not visited yet, enqueue it.\n",
    "        if (a >= 0 and b >= 0 and a < row and b < col and matrix[a][b] != 'x' and (a, b) and not visited[a][b]):\n",
    "            dist = math.sqrt((a-end[0])**2 + (b-end[1])**2)\n",
    "            store_dist[(a, b)] = weights[a][b] + dist\n",
    "            bfs[(a, b)] = curr\n",
    "            if euclid(curr,((a,b))) >=1:\n",
    "                len1 = len(bfs_search(matrix,curr,(a,b))) - weights[\n",
    "                len2 = len(bfs_search(matrix,x,end))\n",
    "                if len1 + len2 <= len(bfs_search(matrix,curr,end)):\n",
    "                    print('Bonus!!')\n",
    "            #select point based on distance array\n",
    "        if i == 3:\n",
    "            if store_dist == {}:\n",
    "                #if it doesn't quit traverse path to find a new way :v\n",
    "                for point in reversed(path):\n",
    "                    for i in range(4):\n",
    "                        a = point[0] + Dir[i][0]\n",
    "                        b = point[1] + Dir[i][1]\n",
    "                        if (a >= 0 and b >= 0 and a < row and b < col and matrix[a][b] != 'x' and (a, b) and not visited[a][b]):\n",
    "                            dist = math.sqrt((a-end[0])**2 + (b-end[1])**2)\n",
    "                            store_dist[(a, b)] = weights[a][b] + dist\n",
    "            \n",
    "            store_dist = dict(sorted(store_dist.items(), key=lambda item: item[1]))\n",
    "            print(store_dist)\n",
    "            if len(store_dist.values()) > 1 and len(set(store_dist.values())) == 1:\n",
    "                for key, val in store_dist.items():\n",
    "                    bfs_length[key] = len(bfs_search(matrix,key,end))\n",
    "                bfs_length = dict(sorted(bfs_length.items(), key=lambda item: item[1]))\n",
    "                print('Bfs: ')\n",
    "                print(bfs_length)\n",
    "                for k,length in bfs_length.items():\n",
    "                    visited[k[0]][k[1]] = True\n",
    "                    q.append(k)\n",
    "                    break\n",
    "            else:\n",
    "                for key, val in store_dist.items():\n",
    "                    visited[key[0]][key[1]] = True\n",
    "                    q.append(key)\n",
    "                    break\n",
    "            print()\n",
    "p = {}\n",
    "cell = end\n",
    "while cell != start:\n",
    "    p[bfs[cell]] = cell \n",
    "    cell = bfs[cell]\n",
    "final = list(p.values())\n",
    "final.append(start)\n",
    "finalPath = final[::-1]\n",
    "visualize_maze(matrix,bonus_points,start,end, finalPath)"
   ]
  },
  {
   "cell_type": "code",
   "execution_count": 72,
   "metadata": {
    "ExecuteTime": {
     "end_time": "2021-11-10T10:49:58.011828Z",
     "start_time": "2021-11-10T10:49:58.004836Z"
    }
   },
   "outputs": [
    {
     "data": {
      "text/plain": [
       "1"
      ]
     },
     "execution_count": 72,
     "metadata": {},
     "output_type": "execute_result"
    }
   ],
   "source": [
    "a = {(6, 18): 5.242640687119285}\n",
    "len(a.values())"
   ]
  },
  {
   "cell_type": "markdown",
   "metadata": {},
   "source": [
    "## Try to A* - Status: "
   ]
  },
  {
   "cell_type": "markdown",
   "metadata": {},
   "source": [
    "### Sửa đổi trọng số"
   ]
  },
  {
   "cell_type": "code",
   "execution_count": 129,
   "metadata": {},
   "outputs": [
    {
     "name": "stdout",
     "output_type": "stream",
     "text": [
      "{(2, 5): 2, (3, 4): 2, (4, 5): 2}\n",
      "[(3, 5)]\n",
      "{(1, 5): 2, (2, 4): 2}\n",
      "[(3, 5), (2, 5)]\n",
      "{(1, 6): 2}\n",
      "[(3, 5), (2, 5), (1, 5)]\n",
      "{(1, 7): 2}\n",
      "[(3, 5), (2, 5), (1, 5), (1, 6)]\n",
      "{(2, 7): 2}\n",
      "[(3, 5), (2, 5), (1, 5), (1, 6), (1, 7)]\n",
      "{(2, 8): 2}\n",
      "[(3, 5), (2, 5), (1, 5), (1, 6), (1, 7), (2, 7)]\n",
      "{(2, 9): 2}\n",
      "[(3, 5), (2, 5), (1, 5), (1, 6), (1, 7), (2, 7), (2, 8)]\n",
      "{(3, 9): 2, (2, 10): 2}\n",
      "[(3, 5), (2, 5), (1, 5), (1, 6), (1, 7), (2, 7), (2, 8), (2, 9)]\n",
      "{(3, 10): 2}\n",
      "[(3, 5), (2, 5), (1, 5), (1, 6), (1, 7), (2, 7), (2, 8), (2, 9), (3, 9)]\n",
      "{(2, 10): 2}\n",
      "[(3, 5), (2, 5), (1, 5), (1, 6), (1, 7), (2, 7), (2, 8), (2, 9), (3, 9), (3, 10)]\n",
      "{(1, 10): 2, (2, 11): 2}\n",
      "[(3, 5), (2, 5), (1, 5), (1, 6), (1, 7), (2, 7), (2, 8), (2, 9), (3, 9), (3, 10), (2, 10)]\n",
      "{(1, 11): 2}\n",
      "[(3, 5), (2, 5), (1, 5), (1, 6), (1, 7), (2, 7), (2, 8), (2, 9), (3, 9), (3, 10), (2, 10), (1, 10)]\n",
      "{(2, 11): 2, (1, 12): 2}\n",
      "[(3, 5), (2, 5), (1, 5), (1, 6), (1, 7), (2, 7), (2, 8), (2, 9), (3, 9), (3, 10), (2, 10), (1, 10), (1, 11)]\n",
      "{}\n",
      "[(3, 5), (2, 5), (1, 5), (1, 6), (1, 7), (2, 7), (2, 8), (2, 9), (3, 9), (3, 10), (2, 10), (1, 10), (1, 11), (2, 11)]\n",
      "{(1, 13): 2}\n",
      "[(3, 5), (2, 5), (1, 5), (1, 6), (1, 7), (2, 7), (2, 8), (2, 9), (3, 9), (3, 10), (2, 10), (1, 10), (1, 11), (2, 11), (1, 12)]\n",
      "{(1, 14): 2}\n",
      "[(3, 5), (2, 5), (1, 5), (1, 6), (1, 7), (2, 7), (2, 8), (2, 9), (3, 9), (3, 10), (2, 10), (1, 10), (1, 11), (2, 11), (1, 12), (1, 13)]\n",
      "{(1, 15): 2}\n",
      "[(3, 5), (2, 5), (1, 5), (1, 6), (1, 7), (2, 7), (2, 8), (2, 9), (3, 9), (3, 10), (2, 10), (1, 10), (1, 11), (2, 11), (1, 12), (1, 13), (1, 14)]\n",
      "{(2, 15): 2, (1, 16): 2}\n",
      "[(3, 5), (2, 5), (1, 5), (1, 6), (1, 7), (2, 7), (2, 8), (2, 9), (3, 9), (3, 10), (2, 10), (1, 10), (1, 11), (2, 11), (1, 12), (1, 13), (1, 14), (1, 15)]\n",
      "{(3, 15): 2, (2, 16): 2}\n",
      "[(3, 5), (2, 5), (1, 5), (1, 6), (1, 7), (2, 7), (2, 8), (2, 9), (3, 9), (3, 10), (2, 10), (1, 10), (1, 11), (2, 11), (1, 12), (1, 13), (1, 14), (1, 15), (2, 15)]\n",
      "{}\n",
      "[(3, 5), (2, 5), (1, 5), (1, 6), (1, 7), (2, 7), (2, 8), (2, 9), (3, 9), (3, 10), (2, 10), (1, 10), (1, 11), (2, 11), (1, 12), (1, 13), (1, 14), (1, 15), (2, 15), (3, 15)]\n",
      "{(1, 16): 2, (2, 17): 2}\n",
      "[(3, 5), (2, 5), (1, 5), (1, 6), (1, 7), (2, 7), (2, 8), (2, 9), (3, 9), (3, 10), (2, 10), (1, 10), (1, 11), (2, 11), (1, 12), (1, 13), (1, 14), (1, 15), (2, 15), (3, 15), (2, 16)]\n",
      "{(1, 17): 2}\n",
      "[(3, 5), (2, 5), (1, 5), (1, 6), (1, 7), (2, 7), (2, 8), (2, 9), (3, 9), (3, 10), (2, 10), (1, 10), (1, 11), (2, 11), (1, 12), (1, 13), (1, 14), (1, 15), (2, 15), (3, 15), (2, 16), (1, 16)]\n",
      "{(2, 17): 2, (1, 18): 2}\n",
      "[(3, 5), (2, 5), (1, 5), (1, 6), (1, 7), (2, 7), (2, 8), (2, 9), (3, 9), (3, 10), (2, 10), (1, 10), (1, 11), (2, 11), (1, 12), (1, 13), (1, 14), (1, 15), (2, 15), (3, 15), (2, 16), (1, 16), (1, 17)]\n",
      "{(3, 17): 2}\n",
      "[(3, 5), (2, 5), (1, 5), (1, 6), (1, 7), (2, 7), (2, 8), (2, 9), (3, 9), (3, 10), (2, 10), (1, 10), (1, 11), (2, 11), (1, 12), (1, 13), (1, 14), (1, 15), (2, 15), (3, 15), (2, 16), (1, 16), (1, 17), (2, 17)]\n",
      "{(4, 17): 2}\n",
      "[(3, 5), (2, 5), (1, 5), (1, 6), (1, 7), (2, 7), (2, 8), (2, 9), (3, 9), (3, 10), (2, 10), (1, 10), (1, 11), (2, 11), (1, 12), (1, 13), (1, 14), (1, 15), (2, 15), (3, 15), (2, 16), (1, 16), (1, 17), (2, 17), (3, 17)]\n",
      "{(5, 17): 2, (4, 18): 2}\n",
      "[(3, 5), (2, 5), (1, 5), (1, 6), (1, 7), (2, 7), (2, 8), (2, 9), (3, 9), (3, 10), (2, 10), (1, 10), (1, 11), (2, 11), (1, 12), (1, 13), (1, 14), (1, 15), (2, 15), (3, 15), (2, 16), (1, 16), (1, 17), (2, 17), (3, 17), (4, 17)]\n",
      "{(6, 17): 2, (5, 18): 2}\n",
      "[(3, 5), (2, 5), (1, 5), (1, 6), (1, 7), (2, 7), (2, 8), (2, 9), (3, 9), (3, 10), (2, 10), (1, 10), (1, 11), (2, 11), (1, 12), (1, 13), (1, 14), (1, 15), (2, 15), (3, 15), (2, 16), (1, 16), (1, 17), (2, 17), (3, 17), (4, 17), (5, 17)]\n",
      "{(6, 18): 2}\n",
      "[(3, 5), (2, 5), (1, 5), (1, 6), (1, 7), (2, 7), (2, 8), (2, 9), (3, 9), (3, 10), (2, 10), (1, 10), (1, 11), (2, 11), (1, 12), (1, 13), (1, 14), (1, 15), (2, 15), (3, 15), (2, 16), (1, 16), (1, 17), (2, 17), (3, 17), (4, 17), (5, 17), (6, 17)]\n",
      "{(5, 18): 2}\n",
      "[(3, 5), (2, 5), (1, 5), (1, 6), (1, 7), (2, 7), (2, 8), (2, 9), (3, 9), (3, 10), (2, 10), (1, 10), (1, 11), (2, 11), (1, 12), (1, 13), (1, 14), (1, 15), (2, 15), (3, 15), (2, 16), (1, 16), (1, 17), (2, 17), (3, 17), (4, 17), (5, 17), (6, 17), (6, 18)]\n",
      "{(4, 18): 2}\n",
      "[(3, 5), (2, 5), (1, 5), (1, 6), (1, 7), (2, 7), (2, 8), (2, 9), (3, 9), (3, 10), (2, 10), (1, 10), (1, 11), (2, 11), (1, 12), (1, 13), (1, 14), (1, 15), (2, 15), (3, 15), (2, 16), (1, 16), (1, 17), (2, 17), (3, 17), (4, 17), (5, 17), (6, 17), (6, 18), (5, 18)]\n",
      "{(4, 19): 2}\n",
      "[(3, 5), (2, 5), (1, 5), (1, 6), (1, 7), (2, 7), (2, 8), (2, 9), (3, 9), (3, 10), (2, 10), (1, 10), (1, 11), (2, 11), (1, 12), (1, 13), (1, 14), (1, 15), (2, 15), (3, 15), (2, 16), (1, 16), (1, 17), (2, 17), (3, 17), (4, 17), (5, 17), (6, 17), (6, 18), (5, 18), (4, 18)]\n",
      "{(3, 19): 2, (4, 20): 2}\n",
      "[(3, 5), (2, 5), (1, 5), (1, 6), (1, 7), (2, 7), (2, 8), (2, 9), (3, 9), (3, 10), (2, 10), (1, 10), (1, 11), (2, 11), (1, 12), (1, 13), (1, 14), (1, 15), (2, 15), (3, 15), (2, 16), (1, 16), (1, 17), (2, 17), (3, 17), (4, 17), (5, 17), (6, 17), (6, 18), (5, 18), (4, 18), (4, 19)]\n",
      "{}\n",
      "[(3, 5), (2, 5), (1, 5), (1, 6), (1, 7), (2, 7), (2, 8), (2, 9), (3, 9), (3, 10), (2, 10), (1, 10), (1, 11), (2, 11), (1, 12), (1, 13), (1, 14), (1, 15), (2, 15), (3, 15), (2, 16), (1, 16), (1, 17), (2, 17), (3, 17), (4, 17), (5, 17), (6, 17), (6, 18), (5, 18), (4, 18), (4, 19), (3, 19)]\n",
      "{(5, 20): 2}\n",
      "[(3, 5), (2, 5), (1, 5), (1, 6), (1, 7), (2, 7), (2, 8), (2, 9), (3, 9), (3, 10), (2, 10), (1, 10), (1, 11), (2, 11), (1, 12), (1, 13), (1, 14), (1, 15), (2, 15), (3, 15), (2, 16), (1, 16), (1, 17), (2, 17), (3, 17), (4, 17), (5, 17), (6, 17), (6, 18), (5, 18), (4, 18), (4, 19), (3, 19), (4, 20)]\n",
      "{(6, 20): 2}\n",
      "[(3, 5), (2, 5), (1, 5), (1, 6), (1, 7), (2, 7), (2, 8), (2, 9), (3, 9), (3, 10), (2, 10), (1, 10), (1, 11), (2, 11), (1, 12), (1, 13), (1, 14), (1, 15), (2, 15), (3, 15), (2, 16), (1, 16), (1, 17), (2, 17), (3, 17), (4, 17), (5, 17), (6, 17), (6, 18), (5, 18), (4, 18), (4, 19), (3, 19), (4, 20), (5, 20)]\n",
      "{(7, 20): 2}\n",
      "[(3, 5), (2, 5), (1, 5), (1, 6), (1, 7), (2, 7), (2, 8), (2, 9), (3, 9), (3, 10), (2, 10), (1, 10), (1, 11), (2, 11), (1, 12), (1, 13), (1, 14), (1, 15), (2, 15), (3, 15), (2, 16), (1, 16), (1, 17), (2, 17), (3, 17), (4, 17), (5, 17), (6, 17), (6, 18), (5, 18), (4, 18), (4, 19), (3, 19), (4, 20), (5, 20), (6, 20)]\n",
      "{(7, 19): 2, (8, 20): 2, (7, 21): 2}\n",
      "[(3, 5), (2, 5), (1, 5), (1, 6), (1, 7), (2, 7), (2, 8), (2, 9), (3, 9), (3, 10), (2, 10), (1, 10), (1, 11), (2, 11), (1, 12), (1, 13), (1, 14), (1, 15), (2, 15), (3, 15), (2, 16), (1, 16), (1, 17), (2, 17), (3, 17), (4, 17), (5, 17), (6, 17), (6, 18), (5, 18), (4, 18), (4, 19), (3, 19), (4, 20), (5, 20), (6, 20), (7, 20)]\n",
      "{(8, 19): 2}\n",
      "[(3, 5), (2, 5), (1, 5), (1, 6), (1, 7), (2, 7), (2, 8), (2, 9), (3, 9), (3, 10), (2, 10), (1, 10), (1, 11), (2, 11), (1, 12), (1, 13), (1, 14), (1, 15), (2, 15), (3, 15), (2, 16), (1, 16), (1, 17), (2, 17), (3, 17), (4, 17), (5, 17), (6, 17), (6, 18), (5, 18), (4, 18), (4, 19), (3, 19), (4, 20), (5, 20), (6, 20), (7, 20), (7, 19)]\n",
      "{(8, 20): 2}\n",
      "[(3, 5), (2, 5), (1, 5), (1, 6), (1, 7), (2, 7), (2, 8), (2, 9), (3, 9), (3, 10), (2, 10), (1, 10), (1, 11), (2, 11), (1, 12), (1, 13), (1, 14), (1, 15), (2, 15), (3, 15), (2, 16), (1, 16), (1, 17), (2, 17), (3, 17), (4, 17), (5, 17), (6, 17), (6, 18), (5, 18), (4, 18), (4, 19), (3, 19), (4, 20), (5, 20), (6, 20), (7, 20), (7, 19), (8, 19)]\n",
      "{(9, 20): 2}\n",
      "[(3, 5), (2, 5), (1, 5), (1, 6), (1, 7), (2, 7), (2, 8), (2, 9), (3, 9), (3, 10), (2, 10), (1, 10), (1, 11), (2, 11), (1, 12), (1, 13), (1, 14), (1, 15), (2, 15), (3, 15), (2, 16), (1, 16), (1, 17), (2, 17), (3, 17), (4, 17), (5, 17), (6, 17), (6, 18), (5, 18), (4, 18), (4, 19), (3, 19), (4, 20), (5, 20), (6, 20), (7, 20), (7, 19), (8, 19), (8, 20)]\n",
      "{}\n",
      "[(3, 5), (2, 5), (1, 5), (1, 6), (1, 7), (2, 7), (2, 8), (2, 9), (3, 9), (3, 10), (2, 10), (1, 10), (1, 11), (2, 11), (1, 12), (1, 13), (1, 14), (1, 15), (2, 15), (3, 15), (2, 16), (1, 16), (1, 17), (2, 17), (3, 17), (4, 17), (5, 17), (6, 17), (6, 18), (5, 18), (4, 18), (4, 19), (3, 19), (4, 20), (5, 20), (6, 20), (7, 20), (7, 19), (8, 19), (8, 20), (9, 20)]\n"
     ]
    },
    {
     "data": {
      "image/png": "[encoded data removed]",
      "text/plain": [
       "<Figure size 600x400 with 1 Axes>"
      ]
     },
     "metadata": {},
     "output_type": "display_data"
    },
    {
     "name": "stdout",
     "output_type": "stream",
     "text": [
      "Starting point (x, y) = (3, 5)\n",
      "Ending point (x, y) = (7, 21)\n",
      "Bonus point at position (x, y) = (3, 6) with point -3\n",
      "Bonus point at position (x, y) = (5, 14) with point -1\n",
      "Bonus point at position (x, y) = (6, 14) with point -1\n"
     ]
    }
   ],
   "source": [
    "row = len(matrix)\n",
    "col = len(matrix[0])\n",
    "\n",
    "visited = [[False for i in range(col)]for j in range(row)]\n",
    "\n",
    "x = start[0]\n",
    "y = start[1]\n",
    "\n",
    "Dir = [[-1, 0], [0, -1], [1, 0], [0, 1]]\n",
    "bfs = {}\n",
    "path = []\n",
    "# Mark the source cell as visited\n",
    "visited[x][y] = True\n",
    "     \n",
    "# Create a queue for BFS\n",
    "q = deque()\n",
    "     \n",
    "q.append(start) #  Enqueue source cell\n",
    "     \n",
    "# Do a BFS starting from source cell\n",
    "while q:\n",
    "    store_dist = {}\n",
    "    curr = q.popleft() # Dequeue the front cell\n",
    "    path.append(curr)\n",
    "    # If we have reached the destination cell,\n",
    "    # we are done\n",
    "    if curr[0] == end[0] and curr[1] == end[1]:\n",
    "        break\n",
    "    \n",
    "    # Otherwise enqueue its adjacent cells\n",
    "    for i in range(4):\n",
    "        a = curr[0] + Dir[i][0]\n",
    "        b = curr[1] + Dir[i][1]    \n",
    "        \n",
    "    # if adjacent cell is valid, has path \n",
    "    # and not visited yet, enqueue it.\n",
    "        if (a >= 0 and b >= 0 and a < row and b < col and matrix[a][b] != 'x' and (a, b) and not visited[a][b]):\n",
    "            store_dist[(a, b)] = weights[a][b] + weights[curr[0]][curr[1]]\n",
    "            bfs[(a, b)] = curr\n",
    "            #select point based on distance array\n",
    "        if i == 3:\n",
    "            print(store_dist)\n",
    "            if store_dist == {}:\n",
    "                #if it doesn't quit traverse path to find a new way :v\n",
    "                for point in reversed(path):\n",
    "                    for i in range(4):\n",
    "                        a = point[0] + Dir[i][0]\n",
    "                        b = point[1] + Dir[i][1]\n",
    "                        if (a >= 0 and b >= 0 and a < row and b < col and matrix[a][b] != 'x' and (a, b) and not visited[a][b]):\n",
    "                            store_dist[(a, b)] = weights[a][b] + weights[curr[0]][curr[1]]\n",
    "                            bfs[(a, b)] = point\n",
    "                            break\n",
    "                \n",
    "            store_dist = dict(sorted(store_dist.items(), key=lambda item: item[1]))\n",
    "            for key, val in store_dist.items():\n",
    "                visited[key[0]][key[1]] = True\n",
    "                q.append(key)\n",
    "                break\n",
    "    print(path)\n",
    "p = {}\n",
    "cell = end\n",
    "while cell != start:\n",
    "    p[bfs[cell]] = cell \n",
    "    cell = bfs[cell]\n",
    "final = list(p.values())\n",
    "final.append(start)\n",
    "finalPath = final[::-1]\n",
    "visualize_maze(matrix,bonus_points,start,end, finalPath)"
   ]
  },
  {
   "cell_type": "markdown",
   "metadata": {},
   "source": [
    "## Create file 5 for basic matrix"
   ]
  },
  {
   "cell_type": "code",
   "execution_count": 28,
   "metadata": {
    "ExecuteTime": {
     "end_time": "2021-11-11T00:53:18.071972Z",
     "start_time": "2021-11-11T00:53:18.059988Z"
    }
   },
   "outputs": [],
   "source": [
    "def get_infor_from_matrix(matrix='maze_map.txt'):\n",
    "    bonus_points, matrix = read_file('maze_map.txt')\n",
    "    start = 0\n",
    "    end = 0\n",
    "    for i in range(len(matrix)):\n",
    "        for j in range(len(matrix[0])):\n",
    "            if matrix[i][j]=='S':\n",
    "                start=(i,j)\n",
    "\n",
    "            elif matrix[i][j]==' ':\n",
    "                if (i==0) or (i==len(matrix)-1) or (j==0) or (j==len(matrix[0])-1):\n",
    "                    end=(i,j)\n",
    "\n",
    "            else:\n",
    "                pass\n",
    "    return [bonus_points, matrix, start, end]"
   ]
  },
  {
   "cell_type": "code",
   "execution_count": 29,
   "metadata": {
    "ExecuteTime": {
     "end_time": "2021-11-11T00:53:18.686229Z",
     "start_time": "2021-11-11T00:53:18.660248Z"
    }
   },
   "outputs": [],
   "source": [
    "#map 1\n",
    "with open('maze_map.txt', 'w') as outfile:\n",
    "    outfile.write('0\\n')\n",
    "#     outfile.write('3 6 -3\\n')\n",
    "#     outfile.write('5 14 -1\\n')\n",
    "#     outfile.write('6 14 -1\\n')\n",
    "    outfile.write('xxxxxxxxxxxxxxxxxxxxxxxxxxxxxxxxxxx\\n')\n",
    "    outfile.write('x   x   xx xx        xx  xxx     xx\\n')\n",
    "    outfile.write('x     x     xxxxxx    xxx        xx\\n')\n",
    "    outfile.write('x x   +xx  xxxx xxx x           xxx\\n')\n",
    "    outfile.write('  x   x x xx   xxxx  xx x     xxxxx\\n')\n",
    "    outfile.write('x          xx +xx  x x xxxxxxxxxxxx\\n')\n",
    "    outfile.write('xxxxxxx x      xx  x xxxxx      xxx\\n')\n",
    "    outfile.write('xxxxxxxxx  x x  xx   xxx          x\\n')\n",
    "    outfile.write('x          x x  x x  xxxxxxxxxxxxxx\\n')\n",
    "    outfile.write('xxxxx x  x x x     x xxxxxxxxxxxxxx\\n')\n",
    "    outfile.write('xxxxxxxxxxxxxxxx               xxxx\\n')\n",
    "    outfile.write('xx     xxxx            xxxxx     xx\\n')\n",
    "    outfile.write('xxxx      xxxxxxxxxxxxxxxxx      xx\\n')\n",
    "    outfile.write('xS                     xxx     xxxx\\n')\n",
    "    outfile.write('xxxxxxx            xx      xxxxxxxx\\n')\n",
    "    outfile.write('xxxxxxxxxxxxxxxxxxxxxxxxxxxxxxxxxxx')"
   ]
  },
  {
   "cell_type": "code",
   "execution_count": 30,
   "metadata": {
    "ExecuteTime": {
     "end_time": "2021-11-11T00:53:20.166330Z",
     "start_time": "2021-11-11T00:53:19.980501Z"
    }
   },
   "outputs": [
    {
     "data": {
      "image/png": "[encoded data removed]",
      "text/plain": [
       "<Figure size 720x480 with 1 Axes>"
      ]
     },
     "metadata": {},
     "output_type": "display_data"
    },
    {
     "name": "stdout",
     "output_type": "stream",
     "text": [
      "Starting point (x, y) = (13, 1)\n",
      "Ending point (x, y) = (4, 0)\n"
     ]
    }
   ],
   "source": [
    "matrix_1 = get_infor_from_matrix('maze_map.txt')\n",
    "matrix = matrix_1[1]\n",
    "start = matrix_1[2]\n",
    "end = matrix_1[3]\n",
    "visualize_maze(matrix_1[1],matrix_1[0],matrix_1[2],matrix_1[3])"
   ]
  },
  {
   "cell_type": "code",
   "execution_count": 168,
   "metadata": {
    "ExecuteTime": {
     "end_time": "2021-11-10T13:01:06.094666Z",
     "start_time": "2021-11-10T13:01:06.074679Z"
    }
   },
   "outputs": [
    {
     "name": "stdout",
     "output_type": "stream",
     "text": [
      "The height of the matrix: 16\n",
      "The width of the matrix: 35\n"
     ]
    }
   ],
   "source": [
    "print(f'The height of the matrix: {len(matrix_1[1])}')\n",
    "print(f'The width of the matrix: {len(matrix_1[1][0])}')"
   ]
  },
  {
   "cell_type": "code",
   "execution_count": 92,
   "metadata": {
    "ExecuteTime": {
     "end_time": "2021-11-10T06:32:55.878643Z",
     "start_time": "2021-11-10T06:32:55.360131Z"
    }
   },
   "outputs": [
    {
     "data": {
      "image/png": "[encoded data removed]",
      "text/plain": [
       "<Figure size 600x400 with 1 Axes>"
      ]
     },
     "metadata": {},
     "output_type": "display_data"
    },
    {
     "name": "stdout",
     "output_type": "stream",
     "text": [
      "Starting point (x, y) = (13, 1)\n",
      "Ending point (x, y) = (4, 0)\n"
     ]
    }
   ],
   "source": [
    "# using dfs \n",
    "path = dfs_search(matrix, start, end)\n",
    "visualize_maze(matrix_1[1],matrix_1[0],matrix_1[2],matrix_1[3], path)"
   ]
  },
  {
   "cell_type": "code",
   "execution_count": 93,
   "metadata": {
    "ExecuteTime": {
     "end_time": "2021-11-10T06:32:59.845067Z",
     "start_time": "2021-11-10T06:32:59.463401Z"
    }
   },
   "outputs": [
    {
     "data": {
      "image/png": "[encoded data removed]",
      "text/plain": [
       "<Figure size 600x400 with 1 Axes>"
      ]
     },
     "metadata": {},
     "output_type": "display_data"
    },
    {
     "name": "stdout",
     "output_type": "stream",
     "text": [
      "Starting point (x, y) = (13, 1)\n",
      "Ending point (x, y) = (4, 0)\n"
     ]
    }
   ],
   "source": [
    "# using bfs\n",
    "path = bfs_search(matrix, start, end)\n",
    "visualize_maze(matrix_1[1],matrix_1[0],matrix_1[2],matrix_1[3], path)"
   ]
  },
  {
   "cell_type": "code",
   "execution_count": 266,
   "metadata": {
    "ExecuteTime": {
     "end_time": "2021-11-10T14:10:08.608945Z",
     "start_time": "2021-11-10T14:10:08.059263Z"
    }
   },
   "outputs": [
    {
     "name": "stdout",
     "output_type": "stream",
     "text": [
      "Length of search: 169\n",
      "Length of path: 97\n"
     ]
    },
    {
     "data": {
      "image/png": "[encoded data removed]",
      "text/plain": [
       "<Figure size 720x480 with 1 Axes>"
      ]
     },
     "metadata": {},
     "output_type": "display_data"
    },
    {
     "name": "stdout",
     "output_type": "stream",
     "text": [
      "Starting point (x, y) = (13, 1)\n",
      "Ending point (x, y) = (4, 0)\n"
     ]
    }
   ],
   "source": [
    "# using GBFS Huy\n",
    "path = GBFS_search_Huy(matrix, start, end)\n",
    "visualize_maze(matrix_1[1],matrix_1[0],matrix_1[2],matrix_1[3], path)"
   ]
  },
  {
   "cell_type": "code",
   "execution_count": 267,
   "metadata": {
    "ExecuteTime": {
     "end_time": "2021-11-10T14:10:10.861942Z",
     "start_time": "2021-11-10T14:10:10.338943Z"
    }
   },
   "outputs": [
    {
     "name": "stdout",
     "output_type": "stream",
     "text": [
      "Length of search: 169\n",
      "Length of path: 97\n"
     ]
    },
    {
     "data": {
      "image/png": "[encoded data removed]",
      "text/plain": [
       "<Figure size 720x480 with 1 Axes>"
      ]
     },
     "metadata": {},
     "output_type": "display_data"
    },
    {
     "name": "stdout",
     "output_type": "stream",
     "text": [
      "Starting point (x, y) = (13, 1)\n",
      "Ending point (x, y) = (4, 0)\n"
     ]
    }
   ],
   "source": [
    "# using GBFS Duy\n",
    "path = GBFS_search_Duy(matrix, start, end)\n",
    "visualize_maze(matrix_1[1],matrix_1[0],matrix_1[2],matrix_1[3], path)"
   ]
  },
  {
   "cell_type": "code",
   "execution_count": 177,
   "metadata": {
    "ExecuteTime": {
     "end_time": "2021-11-10T13:03:40.082421Z",
     "start_time": "2021-11-10T13:03:39.599868Z"
    }
   },
   "outputs": [
    {
     "data": {
      "image/png": "[encoded data removed]",
      "text/plain": [
       "<Figure size 720x480 with 1 Axes>"
      ]
     },
     "metadata": {},
     "output_type": "display_data"
    },
    {
     "name": "stdout",
     "output_type": "stream",
     "text": [
      "Starting point (x, y) = (13, 1)\n",
      "Ending point (x, y) = (4, 0)\n"
     ]
    }
   ],
   "source": [
    "# using A*\n",
    "path = Astar_search(matrix, start, end)\n",
    "visualize_maze(matrix_1[1],matrix_1[0],matrix_1[2],matrix_1[3], path)"
   ]
  },
  {
   "cell_type": "code",
   "execution_count": null,
   "metadata": {},
   "outputs": [],
   "source": []
  },
  {
   "cell_type": "code",
   "execution_count": 34,
   "metadata": {
    "ExecuteTime": {
     "end_time": "2021-11-11T00:57:44.378687Z",
     "start_time": "2021-11-11T00:57:44.368698Z"
    }
   },
   "outputs": [],
   "source": [
    "#map 2\n",
    "with open('maze_map.txt', 'w') as outfile:\n",
    "    outfile.write('0\\n')\n",
    "#     outfile.write('3 6 -3\\n')\n",
    "#     outfile.write('5 14 -1\\n')\n",
    "#     outfile.write('6 14 -1\\n')\n",
    "    outfile.write('xxxxxxxxxxxxxxxxxxxxxx\\n')\n",
    "    outfile.write('x   x   xx           x\\n')\n",
    "    outfile.write('x     x     xxx   xxxx\\n')\n",
    "    outfile.write('x x   xxx  xxxx x x xx\\n')\n",
    "    outfile.write('x x   xxxxxxxxxxx    x\\n')\n",
    "    outfile.write('x          xx xxx  x x\\n')\n",
    "    outfile.write('xx xx x x      xx  x x\\n')\n",
    "    outfile.write('x       xxxxxx xxxx   \\n')\n",
    "    outfile.write('x  xx     Sx x xx x  x\\n')\n",
    "    outfile.write('xx  x x  x x x     x x\\n')\n",
    "    outfile.write('xxxxxxxxxxxxxxxxxxxxxx')"
   ]
  },
  {
   "cell_type": "markdown",
   "metadata": {},
   "source": [
    "refactor function get information from matrix"
   ]
  },
  {
   "cell_type": "code",
   "execution_count": 35,
   "metadata": {
    "ExecuteTime": {
     "end_time": "2021-11-11T00:57:46.953784Z",
     "start_time": "2021-11-11T00:57:46.794940Z"
    },
    "colab": {
     "base_uri": "https://localhost:8080/",
     "height": 406
    },
    "id": "UXT5jZiWcYip",
    "outputId": "732d73e0-eb3f-467d-c7a3-cfc74c9deb4f",
    "scrolled": false
   },
   "outputs": [
    {
     "data": {
      "image/png": "[encoded data removed]",
      "text/plain": [
       "<Figure size 720x480 with 1 Axes>"
      ]
     },
     "metadata": {},
     "output_type": "display_data"
    },
    {
     "name": "stdout",
     "output_type": "stream",
     "text": [
      "Starting point (x, y) = (8, 10)\n",
      "Ending point (x, y) = (7, 21)\n"
     ]
    }
   ],
   "source": [
    "matrix_2 = get_infor_from_matrix('maze_map.txt')\n",
    "matrix = matrix_2[1]\n",
    "start = matrix_2[2]\n",
    "end = matrix_2[3]\n",
    "visualize_maze(matrix_2[1],matrix_2[0],matrix_2[2],matrix_2[3])"
   ]
  },
  {
   "cell_type": "code",
   "execution_count": 98,
   "metadata": {
    "ExecuteTime": {
     "end_time": "2021-11-10T06:34:03.496465Z",
     "start_time": "2021-11-10T06:34:03.198741Z"
    },
    "scrolled": false
   },
   "outputs": [
    {
     "name": "stdout",
     "output_type": "stream",
     "text": [
      "45\n"
     ]
    },
    {
     "data": {
      "image/png": "[encoded data removed]",
      "text/plain": [
       "<Figure size 600x400 with 1 Axes>"
      ]
     },
     "metadata": {},
     "output_type": "display_data"
    },
    {
     "name": "stdout",
     "output_type": "stream",
     "text": [
      "Starting point (x, y) = (8, 10)\n",
      "Ending point (x, y) = (7, 21)\n"
     ]
    }
   ],
   "source": [
    "# using dfs \n",
    "path = dfs_search(matrix, start, end)\n",
    "print(len(path))\n",
    "visualize_maze(matrix_2[1],matrix_2[0],matrix_2[2],matrix_2[3], path)"
   ]
  },
  {
   "cell_type": "code",
   "execution_count": 99,
   "metadata": {
    "ExecuteTime": {
     "end_time": "2021-11-10T06:34:18.070919Z",
     "start_time": "2021-11-10T06:34:17.734234Z"
    },
    "scrolled": false
   },
   "outputs": [
    {
     "name": "stdout",
     "output_type": "stream",
     "text": [
      "37\n"
     ]
    },
    {
     "data": {
      "image/png": "[encoded data removed]",
      "text/plain": [
       "<Figure size 600x400 with 1 Axes>"
      ]
     },
     "metadata": {},
     "output_type": "display_data"
    },
    {
     "name": "stdout",
     "output_type": "stream",
     "text": [
      "Starting point (x, y) = (8, 10)\n",
      "Ending point (x, y) = (7, 21)\n"
     ]
    }
   ],
   "source": [
    "# using bfs\n",
    "path = bfs_search(matrix, start, end)\n",
    "print(len(path))\n",
    "visualize_maze(matrix_2[1],matrix_2[0],matrix_2[2],matrix_2[3], path)"
   ]
  },
  {
   "cell_type": "code",
   "execution_count": 270,
   "metadata": {
    "ExecuteTime": {
     "end_time": "2021-11-10T14:10:22.845880Z",
     "start_time": "2021-11-10T14:10:22.523156Z"
    }
   },
   "outputs": [
    {
     "name": "stdout",
     "output_type": "stream",
     "text": [
      "Length of search: 82\n",
      "Length of path: 49\n"
     ]
    },
    {
     "data": {
      "image/png": "[encoded data removed]",
      "text/plain": [
       "<Figure size 720x480 with 1 Axes>"
      ]
     },
     "metadata": {},
     "output_type": "display_data"
    },
    {
     "name": "stdout",
     "output_type": "stream",
     "text": [
      "Starting point (x, y) = (8, 10)\n",
      "Ending point (x, y) = (7, 21)\n"
     ]
    }
   ],
   "source": [
    "# using GBFS_Huy\n",
    "path = GBFS_search_Huy(matrix, start, end)\n",
    "visualize_maze(matrix_2[1],matrix_2[0],matrix_2[2],matrix_2[3], path)"
   ]
  },
  {
   "cell_type": "code",
   "execution_count": 271,
   "metadata": {
    "ExecuteTime": {
     "end_time": "2021-11-10T14:10:25.645909Z",
     "start_time": "2021-11-10T14:10:25.322072Z"
    }
   },
   "outputs": [
    {
     "name": "stdout",
     "output_type": "stream",
     "text": [
      "Length of search: 82\n",
      "Length of path: 49\n"
     ]
    },
    {
     "data": {
      "image/png": "[encoded data removed]",
      "text/plain": [
       "<Figure size 720x480 with 1 Axes>"
      ]
     },
     "metadata": {},
     "output_type": "display_data"
    },
    {
     "name": "stdout",
     "output_type": "stream",
     "text": [
      "Starting point (x, y) = (8, 10)\n",
      "Ending point (x, y) = (7, 21)\n"
     ]
    }
   ],
   "source": [
    "# using GBFS_Duy\n",
    "path = GBFS_search_Duy(matrix, start, end)\n",
    "visualize_maze(matrix_2[1],matrix_2[0],matrix_2[2],matrix_2[3], path)"
   ]
  },
  {
   "cell_type": "code",
   "execution_count": null,
   "metadata": {
    "scrolled": true
   },
   "outputs": [],
   "source": [
    "# using A*\n",
    "path = Astar_search(matrix, start, end)\n",
    "visualize_maze(matrix_2[1],matrix_2[0],matrix_2[2],matrix_2[3], path)"
   ]
  },
  {
   "cell_type": "code",
   "execution_count": 272,
   "metadata": {
    "ExecuteTime": {
     "end_time": "2021-11-10T14:10:28.807048Z",
     "start_time": "2021-11-10T14:10:28.787069Z"
    }
   },
   "outputs": [],
   "source": [
    "#map 3\n",
    "with open('maze_map.txt', 'w') as outfile:\n",
    "    outfile.write('0\\n')\n",
    "#     outfile.write('3 6 -3\\n')\n",
    "#     outfile.write('5 14 -1\\n')\n",
    "#     outfile.write('6 14 -1\\n')\n",
    "    outfile.write('xxxxxxxxxxxxxxxxxxxxxx\\n')\n",
    "    outfile.write('x   x   xx          Sx\\n')\n",
    "    outfile.write('x   x x  x  xxx   xxxx\\n')\n",
    "    outfile.write('x   x     x          x\\n')\n",
    "    outfile.write('x   x    x           x\\n')\n",
    "    outfile.write('x   x      xx xxx  x x\\n')\n",
    "    outfile.write('xx xxxxxx      xx  x x\\n')\n",
    "    outfile.write('   x    xx   xxx  x  x\\n')\n",
    "    outfile.write('x       x    xxx     x\\n')\n",
    "    outfile.write('xx  x x    x x     x x\\n')\n",
    "    outfile.write('xxxxxxxxxxxxxxxxxxxxxx')"
   ]
  },
  {
   "cell_type": "code",
   "execution_count": 273,
   "metadata": {
    "ExecuteTime": {
     "end_time": "2021-11-10T14:10:29.500077Z",
     "start_time": "2021-11-10T14:10:29.386182Z"
    }
   },
   "outputs": [
    {
     "data": {
      "image/png": "[encoded data removed]",
      "text/plain": [
       "<Figure size 720x480 with 1 Axes>"
      ]
     },
     "metadata": {},
     "output_type": "display_data"
    },
    {
     "name": "stdout",
     "output_type": "stream",
     "text": [
      "Starting point (x, y) = (1, 20)\n",
      "Ending point (x, y) = (7, 0)\n"
     ]
    }
   ],
   "source": [
    "matrix_3 = get_infor_from_matrix('maze_map.txt')\n",
    "matrix = matrix_3[1]\n",
    "start = matrix_3[2]\n",
    "end = matrix_3[3]\n",
    "visualize_maze(matrix_3[1],matrix_3[0],matrix_3[2],matrix_3[3])"
   ]
  },
  {
   "cell_type": "code",
   "execution_count": null,
   "metadata": {
    "scrolled": true
   },
   "outputs": [],
   "source": [
    "# using dfs \n",
    "path = dfs_search(matrix, start, end)\n",
    "visualize_maze(matrix_3[1],matrix_3[0],matrix_3[2],matrix_3[3], path)"
   ]
  },
  {
   "cell_type": "code",
   "execution_count": null,
   "metadata": {
    "scrolled": true
   },
   "outputs": [],
   "source": [
    "# using bfs\n",
    "path = bfs_search(matrix, start, end)\n",
    "visualize_maze(matrix_3[1],matrix_3[0],matrix_3[2],matrix_3[3], path)"
   ]
  },
  {
   "cell_type": "code",
   "execution_count": 274,
   "metadata": {
    "ExecuteTime": {
     "end_time": "2021-11-10T14:10:32.574228Z",
     "start_time": "2021-11-10T14:10:32.235545Z"
    }
   },
   "outputs": [
    {
     "name": "stdout",
     "output_type": "stream",
     "text": [
      "Length of search: 70\n",
      "Length of path: 37\n"
     ]
    },
    {
     "data": {
      "image/png": "[encoded data removed]",
      "text/plain": [
       "<Figure size 720x480 with 1 Axes>"
      ]
     },
     "metadata": {},
     "output_type": "display_data"
    },
    {
     "name": "stdout",
     "output_type": "stream",
     "text": [
      "Starting point (x, y) = (1, 20)\n",
      "Ending point (x, y) = (7, 0)\n"
     ]
    }
   ],
   "source": [
    "# using GBFS_Huy\n",
    "path = GBFS_search_Huy(matrix, start, end)\n",
    "visualize_maze(matrix_3[1],matrix_3[0],matrix_3[2],matrix_3[3], path)"
   ]
  },
  {
   "cell_type": "code",
   "execution_count": 275,
   "metadata": {
    "ExecuteTime": {
     "end_time": "2021-11-10T14:10:35.309296Z",
     "start_time": "2021-11-10T14:10:35.038552Z"
    }
   },
   "outputs": [
    {
     "name": "stdout",
     "output_type": "stream",
     "text": [
      "Length of search: 70\n",
      "Length of path: 37\n"
     ]
    },
    {
     "data": {
      "image/png": "[encoded data removed]",
      "text/plain": [
       "<Figure size 720x480 with 1 Axes>"
      ]
     },
     "metadata": {},
     "output_type": "display_data"
    },
    {
     "name": "stdout",
     "output_type": "stream",
     "text": [
      "Starting point (x, y) = (1, 20)\n",
      "Ending point (x, y) = (7, 0)\n"
     ]
    }
   ],
   "source": [
    "# using GBFS_Duy\n",
    "path = GBFS_search_Duy(matrix, start, end)\n",
    "visualize_maze(matrix_3[1],matrix_3[0],matrix_3[2],matrix_3[3], path)"
   ]
  },
  {
   "cell_type": "code",
   "execution_count": null,
   "metadata": {
    "scrolled": true
   },
   "outputs": [],
   "source": [
    "# using A*\n",
    "path = Astar_search(matrix, start, end)\n",
    "visualize_maze(matrix_3[1],matrix_3[0],matrix_3[2],matrix_3[3], path)"
   ]
  },
  {
   "cell_type": "code",
   "execution_count": 276,
   "metadata": {
    "ExecuteTime": {
     "end_time": "2021-11-10T14:10:37.887943Z",
     "start_time": "2021-11-10T14:10:37.865964Z"
    }
   },
   "outputs": [],
   "source": [
    "#map 4\n",
    "with open('maze_map.txt', 'w') as outfile:\n",
    "    outfile.write('0\\n')\n",
    "#     outfile.write('3 6 -3\\n')\n",
    "#     outfile.write('5 14 -1\\n')\n",
    "#     outfile.write('6 14 -1\\n')\n",
    "    outfile.write('xxxxxxxxxxxxxxxxxxxxxx\\n')\n",
    "    outfile.write('x x Sxxxxxx       x  x\\n')\n",
    "    outfile.write('x  x         xxx     x\\n')\n",
    "    outfile.write('x   x xx  x   x   x  x\\n')\n",
    "    outfile.write('x    x   x   xxx     x\\n')\n",
    "    outfile.write('x     x x  xx    xxxxx\\n')\n",
    "    outfile.write('x  x x x  x xxxx     x\\n')\n",
    "    outfile.write('x   x     x          x\\n')\n",
    "    outfile.write('xxxx xxxxxxx xx      x\\n')\n",
    "    outfile.write('x  x     x   xxx     x\\n')\n",
    "    outfile.write('xxxxxxxxxx xxxxxxxxxxx')"
   ]
  },
  {
   "cell_type": "code",
   "execution_count": 277,
   "metadata": {
    "ExecuteTime": {
     "end_time": "2021-11-10T14:10:39.830256Z",
     "start_time": "2021-11-10T14:10:39.665415Z"
    }
   },
   "outputs": [
    {
     "data": {
      "image/png": "[encoded data removed]",
      "text/plain": [
       "<Figure size 720x480 with 1 Axes>"
      ]
     },
     "metadata": {},
     "output_type": "display_data"
    },
    {
     "name": "stdout",
     "output_type": "stream",
     "text": [
      "Starting point (x, y) = (1, 4)\n",
      "Ending point (x, y) = (10, 10)\n"
     ]
    }
   ],
   "source": [
    "matrix_4 = get_infor_from_matrix('maze_map.txt')\n",
    "matrix = matrix_4[1]\n",
    "start = matrix_4[2]\n",
    "end = matrix_4[3]\n",
    "visualize_maze(matrix_4[1],matrix_4[0],matrix_4[2],matrix_4[3])"
   ]
  },
  {
   "cell_type": "code",
   "execution_count": null,
   "metadata": {},
   "outputs": [],
   "source": [
    "# using dfs \n",
    "path = dfs_search(matrix, start, end)\n",
    "visualize_maze(matrix_4[1],matrix_4[0],matrix_4[2],matrix_4[3], path)"
   ]
  },
  {
   "cell_type": "code",
   "execution_count": null,
   "metadata": {},
   "outputs": [],
   "source": [
    "# using bfs\n",
    "path = bfs_search(matrix, start, end)\n",
    "visualize_maze(matrix_4[1],matrix_4[0],matrix_4[2],matrix_4[3], path)"
   ]
  },
  {
   "cell_type": "code",
   "execution_count": 278,
   "metadata": {
    "ExecuteTime": {
     "end_time": "2021-11-10T14:10:42.580335Z",
     "start_time": "2021-11-10T14:10:42.322580Z"
    }
   },
   "outputs": [
    {
     "name": "stdout",
     "output_type": "stream",
     "text": [
      "Length of search: 68\n",
      "Length of path: 36\n"
     ]
    },
    {
     "data": {
      "image/png": "[encoded data removed]",
      "text/plain": [
       "<Figure size 720x480 with 1 Axes>"
      ]
     },
     "metadata": {},
     "output_type": "display_data"
    },
    {
     "name": "stdout",
     "output_type": "stream",
     "text": [
      "Starting point (x, y) = (1, 4)\n",
      "Ending point (x, y) = (10, 10)\n"
     ]
    }
   ],
   "source": [
    "# using GBFS_Huy\n",
    "path = GBFS_search_Huy(matrix, start, end)\n",
    "visualize_maze(matrix_4[1],matrix_4[0],matrix_4[2],matrix_4[3], path)"
   ]
  },
  {
   "cell_type": "code",
   "execution_count": 279,
   "metadata": {
    "ExecuteTime": {
     "end_time": "2021-11-10T14:10:46.841295Z",
     "start_time": "2021-11-10T14:10:46.586538Z"
    }
   },
   "outputs": [
    {
     "name": "stdout",
     "output_type": "stream",
     "text": [
      "Length of search: 68\n",
      "Length of path: 36\n"
     ]
    },
    {
     "data": {
      "image/png": "[encoded data removed]",
      "text/plain": [
       "<Figure size 720x480 with 1 Axes>"
      ]
     },
     "metadata": {},
     "output_type": "display_data"
    },
    {
     "name": "stdout",
     "output_type": "stream",
     "text": [
      "Starting point (x, y) = (1, 4)\n",
      "Ending point (x, y) = (10, 10)\n"
     ]
    }
   ],
   "source": [
    "# using GBFS_Duy\n",
    "path = GBFS_search_Duy(matrix, start, end)\n",
    "visualize_maze(matrix_4[1],matrix_4[0],matrix_4[2],matrix_4[3], path)"
   ]
  },
  {
   "cell_type": "code",
   "execution_count": null,
   "metadata": {},
   "outputs": [],
   "source": [
    "# using A*\n",
    "path = Astar_search(matrix, start, end)\n",
    "visualize_maze(matrix_4[1],matrix_4[0],matrix_4[2],matrix_4[3], path)"
   ]
  },
  {
   "cell_type": "code",
   "execution_count": 255,
   "metadata": {
    "ExecuteTime": {
     "end_time": "2021-11-10T14:07:47.622017Z",
     "start_time": "2021-11-10T14:07:47.613019Z"
    }
   },
   "outputs": [],
   "source": [
    "#map 5\n",
    "with open('maze_map.txt', 'w') as outfile:\n",
    "    outfile.write('0\\n')\n",
    "#     outfile.write('3 6 -3\\n')\n",
    "#     outfile.write('5 14 -1\\n')\n",
    "#     outfile.write('6 14 -1\\n')\n",
    "    outfile.write('xxxxxxxxxxxxxxxxxxxxxx\\n')\n",
    "    outfile.write('xSx xxxxxxx       x  x\\n')\n",
    "    outfile.write('x  x         xxx     x\\n')\n",
    "    outfile.write('x   xx x  x   x   x  x\\n')\n",
    "    outfile.write('x        xx  xxx     x\\n')\n",
    "    outfile.write('x     xxx  xx    xxxxx\\n')\n",
    "    outfile.write('x  xxxxx  x xxxx     x\\n')\n",
    "    outfile.write('x   x     x      xxxxx\\n')\n",
    "    outfile.write('xxxx xxxxxxx xx      x\\n')\n",
    "    outfile.write('x  x     x   xxx      \\n')\n",
    "    outfile.write('xxxxxxxxxxxxxxxxxxxxxx')"
   ]
  },
  {
   "cell_type": "code",
   "execution_count": 256,
   "metadata": {
    "ExecuteTime": {
     "end_time": "2021-11-10T14:07:49.526158Z",
     "start_time": "2021-11-10T14:07:49.414264Z"
    }
   },
   "outputs": [
    {
     "data": {
      "image/png": "[encoded data removed]",
      "text/plain": [
       "<Figure size 720x480 with 1 Axes>"
      ]
     },
     "metadata": {},
     "output_type": "display_data"
    },
    {
     "name": "stdout",
     "output_type": "stream",
     "text": [
      "Starting point (x, y) = (1, 1)\n",
      "Ending point (x, y) = (9, 21)\n"
     ]
    }
   ],
   "source": [
    "matrix_5 = get_infor_from_matrix('maze_map.txt')\n",
    "matrix = matrix_5[1]\n",
    "start = matrix_5[2]\n",
    "end = matrix_5[3]\n",
    "visualize_maze(matrix_5[1],matrix_5[0],matrix_5[2],matrix_5[3])"
   ]
  },
  {
   "cell_type": "code",
   "execution_count": null,
   "metadata": {},
   "outputs": [],
   "source": [
    "# using dfs \n",
    "path = dfs_search(matrix, start, end)\n",
    "visualize_maze(matrix_5[1],matrix_5[0],matrix_5[2],matrix_5[3], path)"
   ]
  },
  {
   "cell_type": "code",
   "execution_count": null,
   "metadata": {},
   "outputs": [],
   "source": [
    "# using bfs\n",
    "path = bfs_search(matrix, start, end)\n",
    "visualize_maze(matrix_5[1],matrix_5[0],matrix_5[2],matrix_5[3], path)"
   ]
  },
  {
   "cell_type": "code",
   "execution_count": 194,
   "metadata": {
    "ExecuteTime": {
     "end_time": "2021-11-10T13:07:14.371508Z",
     "start_time": "2021-11-10T13:07:13.988867Z"
    }
   },
   "outputs": [
    {
     "name": "stdout",
     "output_type": "stream",
     "text": [
      "Length of search: 63\n",
      "Length of path: 35\n"
     ]
    },
    {
     "data": {
      "image/png": "[encoded data removed]",
      "text/plain": [
       "<Figure size 720x480 with 1 Axes>"
      ]
     },
     "metadata": {},
     "output_type": "display_data"
    },
    {
     "name": "stdout",
     "output_type": "stream",
     "text": [
      "Starting point (x, y) = (1, 1)\n",
      "Ending point (x, y) = (9, 21)\n"
     ]
    }
   ],
   "source": [
    "# using GBFS_Huy\n",
    "path = GBFS_search_Huy(matrix, start, end)\n",
    "visualize_maze(matrix_5[1],matrix_5[0],matrix_5[2],matrix_5[3], path)"
   ]
  },
  {
   "cell_type": "code",
   "execution_count": 195,
   "metadata": {
    "ExecuteTime": {
     "end_time": "2021-11-10T13:07:16.596750Z",
     "start_time": "2021-11-10T13:07:16.565770Z"
    }
   },
   "outputs": [
    {
     "ename": "KeyError",
     "evalue": "(1, 1)",
     "output_type": "error",
     "traceback": [
      "\u001b[1;31m---------------------------------------------------------------------------\u001b[0m",
      "\u001b[1;31mKeyError\u001b[0m                                  Traceback (most recent call last)",
      "\u001b[1;32m<ipython-input-195-fe5d35493657>\u001b[0m in \u001b[0;36m<module>\u001b[1;34m\u001b[0m\n\u001b[0;32m      1\u001b[0m \u001b[1;31m# using GBFS_Duy\u001b[0m\u001b[1;33m\u001b[0m\u001b[1;33m\u001b[0m\u001b[1;33m\u001b[0m\u001b[0m\n\u001b[1;32m----> 2\u001b[1;33m \u001b[0mpath\u001b[0m \u001b[1;33m=\u001b[0m \u001b[0mGBFS_search_Duy\u001b[0m\u001b[1;33m(\u001b[0m\u001b[0mmatrix\u001b[0m\u001b[1;33m,\u001b[0m \u001b[0mstart\u001b[0m\u001b[1;33m,\u001b[0m \u001b[0mend\u001b[0m\u001b[1;33m)\u001b[0m\u001b[1;33m\u001b[0m\u001b[1;33m\u001b[0m\u001b[0m\n\u001b[0m\u001b[0;32m      3\u001b[0m \u001b[0mvisualize_maze\u001b[0m\u001b[1;33m(\u001b[0m\u001b[0mmatrix_5\u001b[0m\u001b[1;33m[\u001b[0m\u001b[1;36m1\u001b[0m\u001b[1;33m]\u001b[0m\u001b[1;33m,\u001b[0m\u001b[0mmatrix_5\u001b[0m\u001b[1;33m[\u001b[0m\u001b[1;36m0\u001b[0m\u001b[1;33m]\u001b[0m\u001b[1;33m,\u001b[0m\u001b[0mmatrix_5\u001b[0m\u001b[1;33m[\u001b[0m\u001b[1;36m2\u001b[0m\u001b[1;33m]\u001b[0m\u001b[1;33m,\u001b[0m\u001b[0mmatrix_5\u001b[0m\u001b[1;33m[\u001b[0m\u001b[1;36m3\u001b[0m\u001b[1;33m]\u001b[0m\u001b[1;33m,\u001b[0m \u001b[0mpath\u001b[0m\u001b[1;33m)\u001b[0m\u001b[1;33m\u001b[0m\u001b[1;33m\u001b[0m\u001b[0m\n",
      "\u001b[1;32m<ipython-input-175-4c042dcbdae9>\u001b[0m in \u001b[0;36mGBFS_search_Duy\u001b[1;34m(matrix, start, end)\u001b[0m\n\u001b[0;32m     66\u001b[0m \u001b[1;33m\u001b[0m\u001b[0m\n\u001b[0;32m     67\u001b[0m         \u001b[1;32mif\u001b[0m \u001b[1;33m(\u001b[0m\u001b[0mlen\u001b[0m\u001b[1;33m(\u001b[0m\u001b[0mq\u001b[0m\u001b[1;33m)\u001b[0m \u001b[1;33m==\u001b[0m \u001b[1;36m0\u001b[0m\u001b[1;33m)\u001b[0m\u001b[1;33m:\u001b[0m\u001b[1;33m\u001b[0m\u001b[1;33m\u001b[0m\u001b[0m\n\u001b[1;32m---> 68\u001b[1;33m             \u001b[0mq\u001b[0m\u001b[1;33m.\u001b[0m\u001b[0mappend\u001b[0m\u001b[1;33m(\u001b[0m\u001b[0mgreedy\u001b[0m\u001b[1;33m[\u001b[0m\u001b[0mcurr\u001b[0m\u001b[1;33m]\u001b[0m\u001b[1;33m)\u001b[0m\u001b[1;33m\u001b[0m\u001b[1;33m\u001b[0m\u001b[0m\n\u001b[0m\u001b[0;32m     69\u001b[0m \u001b[1;33m\u001b[0m\u001b[0m\n\u001b[0;32m     70\u001b[0m     \u001b[0mp\u001b[0m \u001b[1;33m=\u001b[0m \u001b[1;33m{\u001b[0m\u001b[1;33m}\u001b[0m\u001b[1;33m\u001b[0m\u001b[1;33m\u001b[0m\u001b[0m\n",
      "\u001b[1;31mKeyError\u001b[0m: (1, 1)"
     ]
    }
   ],
   "source": [
    "# using GBFS_Duy\n",
    "path = GBFS_search_Duy(matrix, start, end)\n",
    "visualize_maze(matrix_5[1],matrix_5[0],matrix_5[2],matrix_5[3], path)"
   ]
  },
  {
   "cell_type": "code",
   "execution_count": null,
   "metadata": {},
   "outputs": [],
   "source": [
    "# using A*\n",
    "path = Astar_search(matrix, start, end)\n",
    "visualize_maze(matrix_5[1],matrix_5[0],matrix_5[2],matrix_5[3], path)"
   ]
  },
  {
   "cell_type": "code",
   "execution_count": null,
   "metadata": {},
   "outputs": [],
   "source": []
  },
  {
   "cell_type": "code",
   "execution_count": null,
   "metadata": {},
   "outputs": [],
   "source": []
  },
  {
   "cell_type": "code",
   "execution_count": null,
   "metadata": {},
   "outputs": [],
   "source": []
  },
  {
   "cell_type": "code",
   "execution_count": null,
   "metadata": {},
   "outputs": [],
   "source": []
  }
 ],
 "metadata": {
  "colab": {
   "collapsed_sections": [],
   "name": "IntroToAI_Demo_DoAn1.ipynb",
   "provenance": [],
   "toc_visible": true
  },
  "kernelspec": {
   "display_name": "Python 3",
   "language": "python",
   "name": "python3"
  },
  "language_info": {
   "codemirror_mode": {
    "name": "ipython",
    "version": 3
   },
   "file_extension": ".py",
   "mimetype": "text/x-python",
   "name": "python",
   "nbconvert_exporter": "python",
   "pygments_lexer": "ipython3",
   "version": "3.8.5"
  }
 },
 "nbformat": 4,
 "nbformat_minor": 1
}
