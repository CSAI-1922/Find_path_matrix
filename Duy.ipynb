{
 "cells": [
  {
   "cell_type": "markdown",
   "metadata": {
    "id": "DnOLkLhiPK27"
   },
   "source": [
    "## Demo vẽ bản đồ - đồ án môn cơ sở trí tuệ nhân tạo - ĐH KHTN TPHCM\n",
    "Trợ giảng: \n",
    "- Nguyễn Khánh Toàn - ktoan271199@gmail.com\n",
    "- Lê Minh Nhật - minhnhatvt2@gmail.com"
   ]
  },
  {
   "cell_type": "markdown",
   "metadata": {
    "id": "43mpK1RvaBWX"
   },
   "source": [
    "## Chuẩn bị file input"
   ]
  },
  {
   "cell_type": "code",
   "execution_count": 1,
   "metadata": {
    "ExecuteTime": {
     "end_time": "2021-11-05T23:36:13.163638Z",
     "start_time": "2021-11-05T23:36:13.141658Z"
    },
    "id": "wjRhsF8MY5EQ"
   },
   "outputs": [],
   "source": [
    "with open('maze_map.txt', 'w') as outfile:\n",
    "    outfile.write('0\\n')\n",
    "#     outfile.write('3 6 -3\\n')\n",
    "#     outfile.write('5 14 -1\\n')\n",
    "#     outfile.write('6 14 -1\\n')\n",
    "    outfile.write('xxxxxxxxxxxxxxxxxxxxxx\\n')\n",
    "    outfile.write('x   x   xx xx        x\\n')\n",
    "    outfile.write('x     x     xxxxxxxxxx\\n')\n",
    "    outfile.write('x x   +xx  xxxx xxx xx\\n')\n",
    "    outfile.write('  x   x x xx   xxxx  x\\n')\n",
    "    outfile.write('x          xx +xx  x x\\n')\n",
    "    outfile.write('xxxxxxx x      xx  x x\\n')\n",
    "    outfile.write('xxxxxxxxx  x x  xx   x\\n')\n",
    "    outfile.write('x          x x Sx x  x\\n')\n",
    "    outfile.write('xxxxx x  x x x     x x\\n')\n",
    "    outfile.write('xxxxxxxxxxxxxxxxxxxxxx')"
   ]
  },
  {
   "cell_type": "markdown",
   "metadata": {
    "id": "Fi9BxHocbeQX"
   },
   "source": [
    "## Các hàm bổ trợ"
   ]
  },
  {
   "cell_type": "code",
   "execution_count": 2,
   "metadata": {
    "ExecuteTime": {
     "end_time": "2021-11-05T23:36:16.595443Z",
     "start_time": "2021-11-05T23:36:15.576393Z"
    },
    "id": "YbO4E7PTforI"
   },
   "outputs": [],
   "source": [
    "import os\n",
    "import math\n",
    "import matplotlib.pyplot as plt"
   ]
  },
  {
   "cell_type": "code",
   "execution_count": 3,
   "metadata": {
    "ExecuteTime": {
     "end_time": "2021-11-05T23:36:17.026047Z",
     "start_time": "2021-11-05T23:36:16.968096Z"
    },
    "id": "u5ZHJ1oq8Ucm"
   },
   "outputs": [],
   "source": [
    "def visualize_maze(matrix, bonus, start, end, route=None):\n",
    "    \"\"\"\n",
    "    Args:\n",
    "      1. matrix: The matrix read from the input file,\n",
    "      2. bonus: The array of bonus points,\n",
    "      3. start, end: The starting and ending points,\n",
    "      4. route: The route from the starting point to the ending one, defined by an array of (x, y), e.g. route = [(1, 2), (1, 3), (1, 4)]\n",
    "    \"\"\"\n",
    "    #1. Define walls and array of direction based on the route\n",
    "    walls=[(i,j) for i in range(len(matrix)) for j in range(len(matrix[0])) if matrix[i][j]=='x']\n",
    "    \n",
    "    if route:\n",
    "        direction=[]\n",
    "        for i in range(1,len(route)):\n",
    "            if route[i][0]-route[i-1][0]>0:\n",
    "                direction.append('v') #^\n",
    "            elif route[i][0]-route[i-1][0]<0:\n",
    "                direction.append('^') #v        \n",
    "            elif route[i][1]-route[i-1][1]>0:\n",
    "                direction.append('>')\n",
    "            else:\n",
    "                direction.append('<')\n",
    "\n",
    "        direction.pop(0)\n",
    "\n",
    "    #2. Drawing the map\n",
    "    ax=plt.figure(dpi=100).add_subplot(111)\n",
    "\n",
    "    for i in ['top','bottom','right','left']:\n",
    "        ax.spines[i].set_visible(False)\n",
    "\n",
    "    plt.scatter([i[1] for i in walls],[-i[0] for i in walls],\n",
    "                marker='X',s=100,color='black')\n",
    "    \n",
    "    plt.scatter([i[1] for i in bonus],[-i[0] for i in bonus],\n",
    "                marker='P',s=100,color='green')\n",
    "\n",
    "    plt.scatter(start[1],-start[0],marker='*',\n",
    "                s=100,color='gold')\n",
    "\n",
    "    if route:\n",
    "        for i in range(len(route)-2):\n",
    "            plt.scatter(route[i+1][1],-route[i+1][0],\n",
    "                        marker=direction[i],color='silver')\n",
    "\n",
    "    plt.text(end[1],-end[0],'EXIT',color='red',\n",
    "         horizontalalignment='center',\n",
    "         verticalalignment='center')\n",
    "    plt.xticks([])\n",
    "    plt.yticks([])\n",
    "    plt.show()\n",
    "\n",
    "    print(f'Starting point (x, y) = {start[0], start[1]}')\n",
    "    print(f'Ending point (x, y) = {end[0], end[1]}')\n",
    "    \n",
    "    for _, point in enumerate(bonus):\n",
    "      print(f'Bonus point at position (x, y) = {point[0], point[1]} with point {point[2]}')\n"
   ]
  },
  {
   "cell_type": "code",
   "execution_count": 4,
   "metadata": {
    "ExecuteTime": {
     "end_time": "2021-11-05T23:36:18.329828Z",
     "start_time": "2021-11-05T23:36:18.310847Z"
    },
    "id": "yiy6K_hAgcF_"
   },
   "outputs": [],
   "source": [
    "def read_file(file_name: str = 'maze.txt'):\n",
    "  f=open(file_name,'r')\n",
    "  n_bonus_points = int(next(f)[:-1])\n",
    "  bonus_points = []\n",
    "  for i in range(n_bonus_points):\n",
    "    x, y, reward = map(int, next(f)[:-1].split(' '))\n",
    "    bonus_points.append((x, y, reward))\n",
    "\n",
    "  text=f.read()\n",
    "  matrix=[list(i) for i in text.splitlines()]\n",
    "  f.close()\n",
    "\n",
    "  return bonus_points, matrix"
   ]
  },
  {
   "cell_type": "markdown",
   "metadata": {
    "id": "49cRN0suaMRO"
   },
   "source": [
    "## Đọc file và vẽ bản đồ"
   ]
  },
  {
   "cell_type": "code",
   "execution_count": 5,
   "metadata": {
    "ExecuteTime": {
     "end_time": "2021-11-05T23:36:19.654597Z",
     "start_time": "2021-11-05T23:36:19.647603Z"
    },
    "id": "NGGqpmp_Wc8g"
   },
   "outputs": [],
   "source": [
    "bonus_points, matrix = read_file('maze_map.txt')"
   ]
  },
  {
   "cell_type": "code",
   "execution_count": 6,
   "metadata": {
    "ExecuteTime": {
     "end_time": "2021-11-05T23:36:21.169186Z",
     "start_time": "2021-11-05T23:36:20.866469Z"
    }
   },
   "outputs": [
    {
     "ename": "NameError",
     "evalue": "name 'start' is not defined",
     "output_type": "error",
     "traceback": [
      "\u001b[1;31m---------------------------------------------------------------------------\u001b[0m",
      "\u001b[1;31mNameError\u001b[0m                                 Traceback (most recent call last)",
      "\u001b[1;32m<ipython-input-6-758cbe46a0bf>\u001b[0m in \u001b[0;36m<module>\u001b[1;34m\u001b[0m\n\u001b[1;32m----> 1\u001b[1;33m \u001b[0mprint\u001b[0m\u001b[1;33m(\u001b[0m\u001b[0mstart\u001b[0m\u001b[1;33m)\u001b[0m\u001b[1;33m\u001b[0m\u001b[1;33m\u001b[0m\u001b[0m\n\u001b[0m",
      "\u001b[1;31mNameError\u001b[0m: name 'start' is not defined"
     ]
    }
   ],
   "source": [
    "print(start)"
   ]
  },
  {
   "cell_type": "code",
   "execution_count": 7,
   "metadata": {
    "ExecuteTime": {
     "end_time": "2021-11-05T23:36:24.963452Z",
     "start_time": "2021-11-05T23:36:24.943473Z"
    },
    "colab": {
     "base_uri": "https://localhost:8080/"
    },
    "id": "HCwjgf-VBx4o",
    "outputId": "f84e2b24-5223-42cc-9759-1f2e16545b1b"
   },
   "outputs": [
    {
     "name": "stdout",
     "output_type": "stream",
     "text": [
      "The height of the matrix: 11\n",
      "The width of the matrix: 22\n"
     ]
    }
   ],
   "source": [
    "print(f'The height of the matrix: {len(matrix)}')\n",
    "print(f'The width of the matrix: {len(matrix[0])}')"
   ]
  },
  {
   "cell_type": "code",
   "execution_count": 8,
   "metadata": {
    "ExecuteTime": {
     "end_time": "2021-11-05T23:36:26.605406Z",
     "start_time": "2021-11-05T23:36:26.585426Z"
    },
    "id": "UF3xiEwncYgX"
   },
   "outputs": [],
   "source": [
    "for i in range(len(matrix)):\n",
    "    for j in range(len(matrix[0])):\n",
    "        if matrix[i][j]=='S':\n",
    "            start=(i,j)\n",
    "\n",
    "        elif matrix[i][j]==' ':\n",
    "            if (i==0) or (i==len(matrix)-1) or (j==0) or (j==len(matrix[0])-1):\n",
    "                end=(i,j)\n",
    "                \n",
    "        else:\n",
    "            pass"
   ]
  },
  {
   "cell_type": "code",
   "execution_count": 9,
   "metadata": {
    "ExecuteTime": {
     "end_time": "2021-11-05T23:36:28.999179Z",
     "start_time": "2021-11-05T23:36:28.817349Z"
    },
    "colab": {
     "base_uri": "https://localhost:8080/",
     "height": 406
    },
    "id": "UXT5jZiWcYip",
    "outputId": "732d73e0-eb3f-467d-c7a3-cfc74c9deb4f",
    "scrolled": false
   },
   "outputs": [
    {
     "data": {
      "image/png": "[encoded data removed]",
      "text/plain": [
       "<Figure size 600x400 with 1 Axes>"
      ]
     },
     "metadata": {},
     "output_type": "display_data"
    },
    {
     "name": "stdout",
     "output_type": "stream",
     "text": [
      "Starting point (x, y) = (8, 15)\n",
      "Ending point (x, y) = (4, 0)\n"
     ]
    }
   ],
   "source": [
    "visualize_maze(matrix,bonus_points,start,end)"
   ]
  },
  {
   "cell_type": "markdown",
   "metadata": {},
   "source": [
    "# Using basic matrix "
   ]
  },
  {
   "cell_type": "markdown",
   "metadata": {},
   "source": [
    "### try to DFS -- Status: Complete"
   ]
  },
  {
   "cell_type": "code",
   "execution_count": 31,
   "metadata": {
    "ExecuteTime": {
     "end_time": "2021-11-05T13:47:13.098937Z",
     "start_time": "2021-11-05T13:47:13.076956Z"
    }
   },
   "outputs": [
    {
     "data": {
      "text/plain": [
       "'x'"
      ]
     },
     "execution_count": 31,
     "metadata": {},
     "output_type": "execute_result"
    }
   ],
   "source": [
    "start = (4,10)\n",
    "x = start[0]\n",
    "y = start[1]\n",
    "matrix[x][y]"
   ]
  },
  {
   "cell_type": "code",
   "execution_count": 68,
   "metadata": {
    "ExecuteTime": {
     "end_time": "2021-11-06T03:12:52.865817Z",
     "start_time": "2021-11-06T03:12:49.319133Z"
    },
    "scrolled": false
   },
   "outputs": [
    {
     "data": {
      "image/png": "[encoded data removed]",
      "text/plain": [
       "<Figure size 600x400 with 1 Axes>"
      ]
     },
     "metadata": {},
     "output_type": "display_data"
    },
    {
     "name": "stdout",
     "output_type": "stream",
     "text": [
      "Starting point (x, y) = (5, 8)\n",
      "Ending point (x, y) = (4, 0)\n"
     ]
    }
   ],
   "source": [
    "row = len(matrix)\n",
    "col = len(matrix[0])\n",
    "\n",
    "start = (5,8)\n",
    "x = start[0]\n",
    "y = start[1]\n",
    "\n",
    "Dir = [[-1, 0], [0, -1], [1, 0], [0, 1]]\n",
    "path = []\n",
    "stack = []\n",
    "stack.append((x,y))\n",
    "\n",
    "count = 1\n",
    "while end not in stack:\n",
    "    \n",
    "    #print()\n",
    "    #print(f'New while: {count}')\n",
    "    count +=1\n",
    "    #print(f'Stack: {stack}')\n",
    "    #print(f'path: {path}')\n",
    "    s = stack[-1]\n",
    "    if s not in path:\n",
    "        #print('Append path')\n",
    "        path.append(s)\n",
    "    #print(f'path: {path}')\n",
    "    #print(s)\n",
    "    for i in range(4) :\n",
    "        # using the direction array\n",
    "        a = s[0] + Dir[i][0]\n",
    "        b = s[1] + Dir[i][1]\n",
    "             \n",
    "        # not blocked and valid\n",
    "        if(a >= 0 and b >= 0 and a < row and b < col and matrix[a][b] != 'x' and (a, b) not in path):\n",
    "            stack.append((a, b))\n",
    "            break\n",
    "        if(i == 3 ):\n",
    "            for j in range(4):\n",
    "                a1 = s[0] + Dir[j][0] \n",
    "                b1 = s[1] + Dir[j][1]\n",
    "                #print((a1,b1))\n",
    "                if (a1,b1) in stack:\n",
    "                    #print(f'Stack: {stack}')\n",
    "                    #print(f'Pop {(a1,b1)}')\n",
    "                    stack.pop()\n",
    "                    break\n",
    "#             print('Pop')\n",
    "#             stack.pop()\n",
    "path.append(end)\n",
    "visualize_maze(matrix,bonus_points,start,end, path)"
   ]
  },
  {
   "cell_type": "markdown",
   "metadata": {},
   "source": [
    "### Try to BFS -- Status: Complete\n",
    "- Tham khảo: https://www.youtube.com/watch?v=D14YK-0MtcQ -> In đường đi"
   ]
  },
  {
   "cell_type": "code",
   "execution_count": 54,
   "metadata": {
    "ExecuteTime": {
     "end_time": "2021-11-06T00:37:16.842922Z",
     "start_time": "2021-11-06T00:37:16.584134Z"
    }
   },
   "outputs": [
    {
     "data": {
      "image/png": "[encoded data removed]",
      "text/plain": [
       "<Figure size 600x400 with 1 Axes>"
      ]
     },
     "metadata": {},
     "output_type": "display_data"
    },
    {
     "name": "stdout",
     "output_type": "stream",
     "text": [
      "Starting point (x, y) = (9, 15)\n",
      "Ending point (x, y) = (4, 0)\n"
     ]
    }
   ],
   "source": [
    "from collections import deque\n",
    "\n",
    "row = len(matrix)\n",
    "col = len(matrix[0])\n",
    "\n",
    "start = (9,15)\n",
    "end = (4, 0)\n",
    "visited = [[False for i in range(col)]for j in range(row)]\n",
    "\n",
    "x = start[0]\n",
    "y = start[1]\n",
    "\n",
    "Dir = [[-1, 0], [0, -1], [1, 0], [0, 1]]\n",
    "#path = []\n",
    "# Mark the source cell as visited\n",
    "visited[x][y] = True\n",
    "# Tao dictionary luu vi tri diem cha va diem con\n",
    "bfs = {}\n",
    "# Create a queue for BFS\n",
    "q = deque()\n",
    "     \n",
    "q.append(start) #  Enqueue source cell\n",
    "     \n",
    "# Do a BFS starting from source cell\n",
    "while q:\n",
    "    curr = q.popleft() # Dequeue the front cell\n",
    "    #path.append(curr)\n",
    "    # If we have reached the destination cell,\n",
    "    # we are done\n",
    "    if curr[0] == end[0] and curr[1] == end[1]:\n",
    "        break\n",
    "         \n",
    "    # Otherwise enqueue its adjacent cells\n",
    "    for i in range(4):\n",
    "        a = curr[0] + Dir[i][0]\n",
    "        b = curr[1] + Dir[i][1]    \n",
    "    # if adjacent cell is valid, has path \n",
    "    # and not visited yet, enqueue it.\n",
    "        if (a >= 0 and b >= 0 and a < row and b < col and matrix[a][b] != 'x' and (a, b) and not visited[a][b]):\n",
    "            visited[a][b] = True\n",
    "            q.append((a, b))\n",
    "            bfs[(a,b)] = curr\n",
    "p = {}\n",
    "cell = end\n",
    "while cell != start:\n",
    "    p[bfs[cell]] = cell \n",
    "    cell = bfs[cell]\n",
    "final = list(p.values())\n",
    "final.append(start)\n",
    "finalPath = final[::-1]\n",
    "#print(bfs)\n",
    "#print(p)\n",
    "#print(finalPath)\n",
    "visualize_maze(matrix,bonus_points,start,end, finalPath)"
   ]
  },
  {
   "cell_type": "markdown",
   "metadata": {},
   "source": [
    "## Code tham khảo BFS"
   ]
  },
  {
   "cell_type": "code",
   "execution_count": 63,
   "metadata": {
    "ExecuteTime": {
     "end_time": "2021-11-06T02:39:59.850871Z",
     "start_time": "2021-11-06T02:39:59.818903Z"
    },
    "scrolled": false
   },
   "outputs": [],
   "source": [
    "from collections import deque\n",
    "\n",
    "row = len(matrix)\n",
    "col = len(matrix[0])\n",
    "\n",
    "start = (5,2)\n",
    "end = (4, 0)\n",
    "visited = [[False for i in range(col)]for j in range(row)]\n",
    "\n",
    "x = start[0]\n",
    "y = start[1]\n",
    "\n",
    "Dir = [[-1, 0], [0, -1], [1, 0], [0, 1]]\n",
    "     \n",
    "frontier = [start]\n",
    "explored = [start]\n",
    "bfsPath = {}\n",
    "# Do a BFS starting from source cell\n",
    "while len(frontier) > 0:\n",
    "    curr = frontier.pop() # Dequeue the front cell\n",
    "    # If we have reached the destination cell,\n",
    "    # we are done\n",
    "    if curr[0] == end[0] and curr[1] == end[1]:\n",
    "        break\n",
    "         \n",
    "    # Otherwise enqueue its adjacent cells\n",
    "    for i in range(4):\n",
    "        a = curr[0] + Dir[i][0]\n",
    "        b = curr[1] + Dir[i][1]    \n",
    "    # if adjacent cell is valid, has path \n",
    "    # and not visited yet, enqueue it.\n",
    "        if (a >= 0 and b >= 0 and a < row and b < col and matrix[a][b] != 'x'):\n",
    "            childCell = (a,b)\n",
    "        if childCell in explored:\n",
    "            continue\n",
    "        frontier.append(childCell)\n",
    "        explored.append(childCell)\n",
    "        bfsPath[childCell] = curr\n",
    "#         print(f'Frontier: {frontier}')\n",
    "#         print(f'Explored: {explored}')\n",
    "#         print('While again')\n",
    "path = {}\n",
    "cell = end\n",
    "while cell != start:\n",
    "    path[bfsPath[cell]] = cell \n",
    "    cell = bfsPath[cell]\n",
    "final = list(path.values())\n",
    "final.append(start)\n",
    "finalPath = final[::-1]\n",
    "#print(finalPath)\n",
    "#visualize_maze(matrix,bonus_points,start,end, finalPath)"
   ]
  },
  {
   "cell_type": "markdown",
   "metadata": {},
   "source": [
    "### Try to Greedy Best First Search - Status: Complete(using shorted distance)"
   ]
  },
  {
   "cell_type": "code",
   "execution_count": 64,
   "metadata": {
    "ExecuteTime": {
     "end_time": "2021-11-06T02:40:05.318177Z",
     "start_time": "2021-11-06T02:40:05.174311Z"
    }
   },
   "outputs": [
    {
     "name": "stdout",
     "output_type": "stream",
     "text": [
      "[(5, 2), (5, 1), (4, 1), (4, 0)]\n"
     ]
    },
    {
     "data": {
      "image/png": "[encoded data removed]",
      "text/plain": [
       "<Figure size 600x400 with 1 Axes>"
      ]
     },
     "metadata": {},
     "output_type": "display_data"
    },
    {
     "name": "stdout",
     "output_type": "stream",
     "text": [
      "Starting point (x, y) = (5, 2)\n",
      "Ending point (x, y) = (4, 0)\n"
     ]
    }
   ],
   "source": [
    "row = len(matrix)\n",
    "col = len(matrix[0])\n",
    "\n",
    "visited = [[False for i in range(col)]for j in range(row)]\n",
    "\n",
    "start = (5,2)\n",
    "end = (4, 0)\n",
    "\n",
    "x = start[0]\n",
    "y = start[1]\n",
    "\n",
    "Dir = [[-1, 0], [0, -1], [1, 0], [0, 1]]\n",
    "path = []\n",
    "# Mark the source cell as visited\n",
    "visited[x][y] = True\n",
    "     \n",
    "# Create a queue for BFS\n",
    "q = deque()\n",
    "     \n",
    "q.append(start) #  Enqueue source cell\n",
    "     \n",
    "# Do a BFS starting from source cell\n",
    "while q:\n",
    "    distance = []\n",
    "    store_point = []\n",
    "    curr = q.popleft() # Dequeue the front cell\n",
    "    path.append(curr)\n",
    "    # If we have reached the destination cell,\n",
    "    # we are done\n",
    "    if curr[0] == end[0] and curr[1] == end[1]:\n",
    "        break\n",
    "    \n",
    "    # Otherwise enqueue its adjacent cells\n",
    "    for i in range(4):\n",
    "        a = curr[0] + Dir[i][0]\n",
    "        b = curr[1] + Dir[i][1]    \n",
    "        \n",
    "    # if adjacent cell is valid, has path \n",
    "    # and not visited yet, enqueue it.\n",
    "        if (a >= 0 and b >= 0 and a < row and b < col and matrix[a][b] != 'x' and (a, b) and not visited[a][b]):\n",
    "            visited[a][b] = True\n",
    "            #calculate distance from point current to end\n",
    "            dist = math.sqrt((a-end[0])**2 + (b-end[1])**2)\n",
    "            distance.append(dist)\n",
    "            store_point.append((a, b))\n",
    "            #select point based on distance array\n",
    "        if i == 3:\n",
    "            q.append(store_point[distance.index(min(distance))])\n",
    "            \n",
    "print(path)\n",
    "visualize_maze(matrix,bonus_points,start,end, path)"
   ]
  },
  {
   "cell_type": "markdown",
   "metadata": {},
   "source": [
    "### Try to A* - Status: Complete"
   ]
  },
  {
   "cell_type": "code",
   "execution_count": 75,
   "metadata": {},
   "outputs": [
    {
     "data": {
      "image/png": "[encoded data removed]",
      "text/plain": [
       "<Figure size 600x400 with 1 Axes>"
      ]
     },
     "metadata": {},
     "output_type": "display_data"
    },
    {
     "name": "stdout",
     "output_type": "stream",
     "text": [
      "Starting point (x, y) = (8, 15)\n",
      "Ending point (x, y) = (4, 0)\n",
      "Bonus point at position (x, y) = (3, 6) with point -3\n",
      "Bonus point at position (x, y) = (5, 14) with point -1\n",
      "Bonus point at position (x, y) = (6, 14) with point -1\n"
     ]
    }
   ],
   "source": [
    "row = len(matrix)\n",
    "col = len(matrix[0])\n",
    "\n",
    "visited = [[False for i in range(col)]for j in range(row)]\n",
    "\n",
    "x = start[0]\n",
    "y = start[1]\n",
    "\n",
    "Dir = [[-1, 0], [0, -1], [1, 0], [0, 1]]\n",
    "path = []\n",
    "# Mark the source cell as visited\n",
    "visited[x][y] = True\n",
    "     \n",
    "# Create a queue for BFS\n",
    "q = deque()\n",
    "     \n",
    "q.append(start) #  Enqueue source cell\n",
    "\n",
    "#store real time distance from start point to end\n",
    "real_dist = 0\n",
    "# Do a BFS starting from source cell\n",
    "while q:\n",
    "    distance = []\n",
    "    store_point = []\n",
    "    curr = q.popleft() # Dequeue the front cell\n",
    "    path.append(curr)\n",
    "    # If we have reached the destination cell,\n",
    "    # we are done\n",
    "    if curr[0] == end[0] and curr[1] == end[1]:\n",
    "        break\n",
    "    \n",
    "    # Otherwise enqueue its adjacent cells\n",
    "    for i in range(4):\n",
    "        a = curr[0] + Dir[i][0]\n",
    "        b = curr[1] + Dir[i][1]    \n",
    "        \n",
    "    # if adjacent cell is valid, has path \n",
    "    # and not visited yet, enqueue it.\n",
    "        if (a >= 0 and b >= 0 and a < row and b < col and matrix[a][b] != 'x' and (a, b) and not visited[a][b]):\n",
    "            visited[a][b] = True\n",
    "            #calculate distance from point current to end\n",
    "            dist = math.sqrt((a-end[0])**2 + (b-end[1])**2)\n",
    "            distance.append(dist)\n",
    "            store_point.append((a, b))\n",
    "            #select point based on distance array\n",
    "        if i == 3:\n",
    "            real_dist += min(distance)\n",
    "            q.append(store_point[distance.index(min(distance))])\n",
    "                \n",
    "visualize_maze(matrix,bonus_points,start,end, path)"
   ]
  },
  {
   "cell_type": "markdown",
   "metadata": {},
   "source": [
    "# Using bonus point matrix"
   ]
  },
  {
   "cell_type": "code",
   "execution_count": 77,
   "metadata": {},
   "outputs": [],
   "source": [
    "with open('maze_map(bonus).txt', 'w') as outfile:\n",
    "    outfile.write('3\\n')\n",
    "    outfile.write('3 6 -3\\n')\n",
    "    outfile.write('5 14 -1\\n')\n",
    "    outfile.write('6 14 -1\\n')\n",
    "    outfile.write('xxxxxxxxxxxxxxxxxxxxxx\\n')\n",
    "    outfile.write('x   x   xx xx        x\\n')\n",
    "    outfile.write('x     x     xxxxxxxxxx\\n')\n",
    "    outfile.write('x x   +xx  xxxx xxx xx\\n')\n",
    "    outfile.write('  x   x x xx   xxxx  x\\n')\n",
    "    outfile.write('x          xx +xx  x x\\n')\n",
    "    outfile.write('xxxxxxx x      xx  x x\\n')\n",
    "    outfile.write('xxxxxxxxx  x x  xx   x\\n')\n",
    "    outfile.write('x          x x Sx x  x\\n')\n",
    "    outfile.write('xxxxx x  x x x     x x\\n')\n",
    "    outfile.write('xxxxxxxxxxxxxxxxxxxxxx')"
   ]
  },
  {
   "cell_type": "code",
   "execution_count": 79,
   "metadata": {},
   "outputs": [],
   "source": [
    "bonus_points, matrix = read_file('maze_map(bonus).txt')"
   ]
  },
  {
   "cell_type": "code",
   "execution_count": 80,
   "metadata": {},
   "outputs": [
    {
     "name": "stdout",
     "output_type": "stream",
     "text": [
      "The height of the matrix: 11\n",
      "The width of the matrix: 22\n"
     ]
    }
   ],
   "source": [
    "print(f'The height of the matrix: {len(matrix)}')\n",
    "print(f'The width of the matrix: {len(matrix[0])}')"
   ]
  },
  {
   "cell_type": "code",
   "execution_count": 81,
   "metadata": {},
   "outputs": [],
   "source": [
    "for i in range(len(matrix)):\n",
    "    for j in range(len(matrix[0])):\n",
    "        if matrix[i][j]=='S':\n",
    "            start=(i,j)\n",
    "\n",
    "        elif matrix[i][j]==' ':\n",
    "            if (i==0) or (i==len(matrix)-1) or (j==0) or (j==len(matrix[0])-1):\n",
    "                end=(i,j)\n",
    "                \n",
    "        else:\n",
    "            pass"
   ]
  },
  {
   "cell_type": "code",
   "execution_count": 85,
   "metadata": {},
   "outputs": [
    {
     "data": {
      "image/png": "[encoded data removed]",
      "text/plain": [
       "<Figure size 600x400 with 1 Axes>"
      ]
     },
     "metadata": {},
     "output_type": "display_data"
    },
    {
     "name": "stdout",
     "output_type": "stream",
     "text": [
      "Starting point (x, y) = (8, 15)\n",
      "Ending point (x, y) = (4, 0)\n",
      "Bonus point at position (x, y) = (3, 6) with point -3\n",
      "Bonus point at position (x, y) = (5, 14) with point -1\n",
      "Bonus point at position (x, y) = (6, 14) with point -1\n"
     ]
    }
   ],
   "source": [
    "visualize_maze(matrix, bonus_points, start, end)"
   ]
  },
  {
   "cell_type": "code",
   "execution_count": 97,
   "metadata": {},
   "outputs": [
    {
     "data": {
      "text/plain": [
       "-3"
      ]
     },
     "execution_count": 97,
     "metadata": {},
     "output_type": "execute_result"
    }
   ],
   "source": [
    "def init_weights(matrix):\n",
    "    weights = [[1 for i in range(col)]for j in range(row)]\n",
    "    for k in bonus_points:\n",
    "        weights[k[0]][k[1]] = k[2]\n",
    "    return weights"
   ]
  },
  {
   "cell_type": "markdown",
   "metadata": {},
   "source": [
    "### Try to DFS - Status:"
   ]
  },
  {
   "cell_type": "code",
   "execution_count": null,
   "metadata": {},
   "outputs": [],
   "source": [
    "#define row and col\n",
    "row = len(matrix)\n",
    "col = len(matrix[0])\n",
    "\n",
    "#define start point\n",
    "x = start[0]\n",
    "y = start[1]\n",
    "\n",
    "#define direction, path, stack\n",
    "Dir = [[-1, 0], [0, -1], [1, 0], [0, 1]]\n",
    "path = []\n",
    "stack = []\n",
    "stack.append((x,y))\n",
    "\n",
    "#define weights in matrix\n",
    "weights = init_weights(matrix)\n",
    "while end not in stack:\n",
    "    #store weight when we move current point\n",
    "    store_dist = []\n",
    "    \n",
    "    s = stack[-1]\n",
    "    if s not in path:\n",
    "        path.append(s)\n",
    "    for i in range(4) :\n",
    "        # using the direction array\n",
    "        a = s[0] + Dir[i][0]\n",
    "        b = s[1] + Dir[i][1]\n",
    "             \n",
    "        # not blocked and valid\n",
    "        if(a >= 0 and b >= 0 and a < row and b < col and matrix[a][b] != 'x' and (a, b) not in path):\n",
    "            stack.append((a, b))\n",
    "            break\n",
    "        if(i == 3 and (a, b) in stack):\n",
    "            stack.pop()\n",
    "path.append(end)\n",
    "visualize_maze(matrix,bonus_points,start,end, path)"
   ]
  },
  {
   "cell_type": "code",
   "execution_count": 84,
   "metadata": {},
   "outputs": [
    {
     "data": {
      "text/plain": [
       "[(3, 6, -3), (5, 14, -1), (6, 14, -1)]"
      ]
     },
     "execution_count": 84,
     "metadata": {},
     "output_type": "execute_result"
    }
   ],
   "source": [
    "bonus_points"
   ]
  },
  {
   "cell_type": "code",
   "execution_count": null,
   "metadata": {},
   "outputs": [],
   "source": []
  },
  {
   "cell_type": "code",
   "execution_count": null,
   "metadata": {},
   "outputs": [],
   "source": []
  },
  {
   "cell_type": "code",
   "execution_count": null,
   "metadata": {},
   "outputs": [],
   "source": []
  },
  {
   "cell_type": "code",
   "execution_count": null,
   "metadata": {},
   "outputs": [],
   "source": []
  },
  {
   "cell_type": "code",
   "execution_count": null,
   "metadata": {},
   "outputs": [],
   "source": []
  },
  {
   "cell_type": "code",
   "execution_count": null,
   "metadata": {},
   "outputs": [],
   "source": []
  }
 ],
 "metadata": {
  "colab": {
   "collapsed_sections": [],
   "name": "IntroToAI_Demo_DoAn1.ipynb",
   "provenance": [],
   "toc_visible": true
  },
  "kernelspec": {
   "display_name": "Python 3",
   "language": "python",
   "name": "python3"
  },
  "language_info": {
   "codemirror_mode": {
    "name": "ipython",
    "version": 3
   },
   "file_extension": ".py",
   "mimetype": "text/x-python",
   "name": "python",
   "nbconvert_exporter": "python",
   "pygments_lexer": "ipython3",
   "version": "3.8.5"
  }
 },
 "nbformat": 4,
 "nbformat_minor": 1
}
